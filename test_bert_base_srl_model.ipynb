{
  "cells": [
    {
      "cell_type": "markdown",
      "metadata": {
        "id": "view-in-github",
        "colab_type": "text"
      },
      "source": [
        "<a href=\"https://colab.research.google.com/github/adisav17/Deep-Semantic-Role-Labeling-with-Auxilary-tasks/blob/main/test_bert_base_srl_model.ipynb\" target=\"_parent\"><img src=\"https://colab.research.google.com/assets/colab-badge.svg\" alt=\"Open In Colab\"/></a>"
      ]
    },
    {
      "cell_type": "code",
      "execution_count": null,
      "metadata": {
        "colab": {
          "base_uri": "https://localhost:8080/"
        },
        "id": "a3kIsrUJ3Hok",
        "outputId": "ead92fa3-016e-4123-aa2f-1c60b4ba1ff3"
      },
      "outputs": [
        {
          "output_type": "stream",
          "name": "stdout",
          "text": [
            "Looking in indexes: https://pypi.org/simple, https://us-python.pkg.dev/colab-wheels/public/simple/\n",
            "Collecting transformers\n",
            "  Downloading transformers-4.28.1-py3-none-any.whl (7.0 MB)\n",
            "\u001b[2K     \u001b[90m━━━━━━━━━━━━━━━━━━━━━━━━━━━━━━━━━━━━━━━━\u001b[0m \u001b[32m7.0/7.0 MB\u001b[0m \u001b[31m81.3 MB/s\u001b[0m eta \u001b[36m0:00:00\u001b[0m\n",
            "\u001b[?25hRequirement already satisfied: pyyaml>=5.1 in /usr/local/lib/python3.10/dist-packages (from transformers) (6.0)\n",
            "Requirement already satisfied: filelock in /usr/local/lib/python3.10/dist-packages (from transformers) (3.12.0)\n",
            "Collecting tokenizers!=0.11.3,<0.14,>=0.11.1\n",
            "  Downloading tokenizers-0.13.3-cp310-cp310-manylinux_2_17_x86_64.manylinux2014_x86_64.whl (7.8 MB)\n",
            "\u001b[2K     \u001b[90m━━━━━━━━━━━━━━━━━━━━━━━━━━━━━━━━━━━━━━━━\u001b[0m \u001b[32m7.8/7.8 MB\u001b[0m \u001b[31m81.6 MB/s\u001b[0m eta \u001b[36m0:00:00\u001b[0m\n",
            "\u001b[?25hRequirement already satisfied: numpy>=1.17 in /usr/local/lib/python3.10/dist-packages (from transformers) (1.22.4)\n",
            "Requirement already satisfied: tqdm>=4.27 in /usr/local/lib/python3.10/dist-packages (from transformers) (4.65.0)\n",
            "Requirement already satisfied: requests in /usr/local/lib/python3.10/dist-packages (from transformers) (2.27.1)\n",
            "Requirement already satisfied: packaging>=20.0 in /usr/local/lib/python3.10/dist-packages (from transformers) (23.1)\n",
            "Requirement already satisfied: regex!=2019.12.17 in /usr/local/lib/python3.10/dist-packages (from transformers) (2022.10.31)\n",
            "Collecting huggingface-hub<1.0,>=0.11.0\n",
            "  Downloading huggingface_hub-0.14.1-py3-none-any.whl (224 kB)\n",
            "\u001b[2K     \u001b[90m━━━━━━━━━━━━━━━━━━━━━━━━━━━━━━━━━━━━━━\u001b[0m \u001b[32m224.5/224.5 kB\u001b[0m \u001b[31m16.1 MB/s\u001b[0m eta \u001b[36m0:00:00\u001b[0m\n",
            "\u001b[?25hRequirement already satisfied: typing-extensions>=3.7.4.3 in /usr/local/lib/python3.10/dist-packages (from huggingface-hub<1.0,>=0.11.0->transformers) (4.5.0)\n",
            "Requirement already satisfied: fsspec in /usr/local/lib/python3.10/dist-packages (from huggingface-hub<1.0,>=0.11.0->transformers) (2023.4.0)\n",
            "Requirement already satisfied: charset-normalizer~=2.0.0 in /usr/local/lib/python3.10/dist-packages (from requests->transformers) (2.0.12)\n",
            "Requirement already satisfied: idna<4,>=2.5 in /usr/local/lib/python3.10/dist-packages (from requests->transformers) (3.4)\n",
            "Requirement already satisfied: urllib3<1.27,>=1.21.1 in /usr/local/lib/python3.10/dist-packages (from requests->transformers) (1.26.15)\n",
            "Requirement already satisfied: certifi>=2017.4.17 in /usr/local/lib/python3.10/dist-packages (from requests->transformers) (2022.12.7)\n"
          ]
        }
      ],
      "source": [
        "! pip install transformers"
      ]
    },
    {
      "cell_type": "code",
      "execution_count": null,
      "metadata": {
        "id": "nw2r-54k4KX5"
      },
      "outputs": [],
      "source": [
        "import torch\n",
        "import torch.nn as nn\n",
        "import torch.optim as optim\n",
        "import torch.nn.functional as F\n",
        "from torch.utils.data import Dataset, DataLoader\n",
        "from transformers import BertTokenizer, BertModel\n",
        "from sklearn.metrics import precision_recall_curve, f1_score, accuracy_score\n",
        "import numpy as np\n",
        "import math\n",
        "import random\n",
        "import itertools\n",
        "import pandas as pd\n"
      ]
    },
    {
      "cell_type": "code",
      "execution_count": null,
      "metadata": {
        "id": "xi5IH4vI4NAj"
      },
      "outputs": [],
      "source": [
        "class SRLDataset(Dataset):\n",
        "    def __init__(self, sentences, predicates, labels, tokenizer, max_length):\n",
        "        self.sentences = sentences\n",
        "        self.predicates = predicates\n",
        "        self.labels = labels\n",
        "        self.tokenizer = tokenizer\n",
        "        self.max_length = max_length\n",
        "\n",
        "    def __len__(self):\n",
        "        return len(self.sentences)\n",
        "\n",
        "    def __getitem__(self, index):\n",
        "        sentence = self.sentences[index]\n",
        "        predicate = self.predicates[index]\n",
        "        label = self.labels[index]\n",
        "\n",
        "        # Tokenize sentence without special tokens to handle alignment\n",
        "        tokenized_sentence = self.tokenizer.tokenize(sentence)\n",
        "\n",
        "        # Initialize a list of labels with -100 (ignored by loss function) and the same length as the tokenized sentence\n",
        "        aligned_labels = [-100] * len(tokenized_sentence)\n",
        "\n",
        "        # Iterate through the original sentence words, labels, and their indices\n",
        "        words = sentence.split()\n",
        "        for word, lbl, idx in zip(words, label, range(len(words))):\n",
        "            # Tokenize the current word\n",
        "            subwords = self.tokenizer.tokenize(word)\n",
        "\n",
        "            # Assign the label to the first subword of the current word\n",
        "            subword_idx = tokenized_sentence.index(subwords[0], idx)\n",
        "            aligned_labels[subword_idx] = lbl\n",
        "\n",
        "        # Tokenize sentence and add [CLS] and [SEP] tokens\n",
        "        tokenized_sentence = self.tokenizer.encode(sentence, add_special_tokens=True, max_length=self.max_length, padding='max_length', truncation=True)\n",
        "        input_ids = torch.tensor(tokenized_sentence, dtype=torch.long)\n",
        "\n",
        "        # Add [CLS] and [SEP] tokens to the aligned_labels and pad or truncate to match max_length\n",
        "        aligned_labels = [-100] + aligned_labels[:self.max_length - 2] + [-100]\n",
        "        aligned_labels = aligned_labels + [-100] * (self.max_length - len(aligned_labels))\n",
        "\n",
        "        # Convert the aligned_labels list to a torch tensor\n",
        "        aligned_labels = torch.tensor(aligned_labels, dtype=torch.long)\n",
        "\n",
        "        # Find index of predicate in tokenized sentence\n",
        "        predicate_idx = tokenized_sentence.index(self.tokenizer.encode(predicate)[1])\n",
        "\n",
        "        return input_ids, predicate_idx, aligned_labels"
      ]
    },
    {
      "cell_type": "code",
      "execution_count": null,
      "metadata": {
        "colab": {
          "base_uri": "https://localhost:8080/",
          "height": 113,
          "referenced_widgets": [
            "1ba422c1f4724ccdba598b8dbe3aae2b",
            "ec0557a2ad034292a30bfcb4b1bf4189",
            "f26c14e45d174391852fd356e1cc46c2",
            "db59b05a5dba436cb705b48750cf0b71",
            "432b83e091b14563b3745166cfdff02a",
            "479a6e5a28514a149970ee5dca82025c",
            "50f9fd6dbde542efbc7a0a4a2245f966",
            "47a72518b9c44e63b2f5b790463cfcdd",
            "d3fd3570ec8f445c88f1da8e550528cb",
            "878d451fe67b43bdbb4cb3639d2363ca",
            "9d7f200b73a443b0917204bfeb147764",
            "d2a50562684b4240ba9a57945ea49bee",
            "cc6e422dcbbe4fb68ce57d9790523a42",
            "4549628ac59a4c098ff6dc1b11008df4",
            "bf61bf18a8c640febb4e524b78dc902d",
            "148cdad428604279a0f240fa8cb1200a",
            "cf81ed0251be495bb3453cd3638da3fd",
            "31ef11e6b9694fff9f6a56660a542aa3",
            "43bd65402c71425a9b54f1dc33a067a9",
            "bd10930e1fd145f19935d7ee36c5ab18",
            "4bd9d3907d8348e1968d5150a44b4f0e",
            "0bbd31f752004e47b4eaf00eddea720b",
            "e67d42d8a3684ec899aacedbec7b1ae9",
            "bf395cd7a3654f8f8e3f1fa1d47410d3",
            "0ec527723d104062955e0f96fc40a79b",
            "824987c8c11d47869fae4af4b7cb1535",
            "6aae30fc3ab54f8d808ac693707d6f4e",
            "b36eb47aa41942278af0bffa06f4aeba",
            "8654d26f98b34721aa97a01565894f66",
            "e108928f4b1946eba0a29e162d703c51",
            "f7f83e181b21460885587bf829f82423",
            "58fca59ca0394568bb6670e0019df885",
            "65241a540582419b892e0e41095cd385"
          ]
        },
        "id": "Og1DEiTH4TKW",
        "outputId": "68ed8b10-eadb-4f86-d6f3-ea189ce51c11"
      },
      "outputs": [
        {
          "output_type": "display_data",
          "data": {
            "text/plain": [
              "Downloading (…)solve/main/vocab.txt:   0%|          | 0.00/232k [00:00<?, ?B/s]"
            ],
            "application/vnd.jupyter.widget-view+json": {
              "version_major": 2,
              "version_minor": 0,
              "model_id": "1ba422c1f4724ccdba598b8dbe3aae2b"
            }
          },
          "metadata": {}
        },
        {
          "output_type": "display_data",
          "data": {
            "text/plain": [
              "Downloading (…)okenizer_config.json:   0%|          | 0.00/28.0 [00:00<?, ?B/s]"
            ],
            "application/vnd.jupyter.widget-view+json": {
              "version_major": 2,
              "version_minor": 0,
              "model_id": "d2a50562684b4240ba9a57945ea49bee"
            }
          },
          "metadata": {}
        },
        {
          "output_type": "display_data",
          "data": {
            "text/plain": [
              "Downloading (…)lve/main/config.json:   0%|          | 0.00/570 [00:00<?, ?B/s]"
            ],
            "application/vnd.jupyter.widget-view+json": {
              "version_major": 2,
              "version_minor": 0,
              "model_id": "e67d42d8a3684ec899aacedbec7b1ae9"
            }
          },
          "metadata": {}
        }
      ],
      "source": [
        "tokenizer = BertTokenizer.from_pretrained('bert-base-uncased')"
      ]
    },
    {
      "cell_type": "code",
      "execution_count": null,
      "metadata": {
        "colab": {
          "base_uri": "https://localhost:8080/"
        },
        "id": "RCole66i4T1m",
        "outputId": "5cf4b52b-c8cd-45d0-b18c-df0a728b7d95"
      },
      "outputs": [
        {
          "output_type": "stream",
          "name": "stdout",
          "text": [
            "cuda\n"
          ]
        }
      ],
      "source": [
        "device = torch.device(\"cuda\" if torch.cuda.is_available() else \"cpu\")\n",
        "print(device)"
      ]
    },
    {
      "cell_type": "code",
      "execution_count": null,
      "metadata": {
        "id": "BNok_zcI4W4b"
      },
      "outputs": [],
      "source": [
        "def convert_file(file_path):\n",
        "    with open(file_path) as f:\n",
        "        lines = f.readlines()\n",
        "\n",
        "    lines = [line.split() for line in lines]\n",
        "    sentences = []\n",
        "    tags = []\n",
        "    predicates = []\n",
        "    sentence = []\n",
        "    tag = []\n",
        "    curr_pred = None\n",
        "    exists_pred_in_sent = False\n",
        "    exists_arg_in_sent = False\n",
        "\n",
        "    for line in lines:\n",
        "        if len(line) != 0:\n",
        "            sentence.append(line[0])\n",
        "\n",
        "            if len(line) >= 6:\n",
        "                if line[5] == \"PRED\":\n",
        "                    curr_pred = line[0]\n",
        "                    exists_pred_in_sent = True\n",
        "\n",
        "                if line[5] == \"ARG1\":\n",
        "                    exists_arg_in_sent = True\n",
        "                    tag.append(1)\n",
        "                else:\n",
        "                    tag.append(0)\n",
        "            else:\n",
        "                tag.append(0)\n",
        "        else:\n",
        "            if exists_arg_in_sent and exists_pred_in_sent:\n",
        "                sentences.append(\" \".join(sentence))\n",
        "                tags.append(tag)\n",
        "                predicates.append(curr_pred)\n",
        "\n",
        "                exists_pred_in_sent = False\n",
        "                exists_arg_in_sent = False\n",
        "\n",
        "            sentence = []\n",
        "            tag = []\n",
        "            curr_pred = None\n",
        "\n",
        "    if len(sentence) > 0 and exists_arg_in_sent and exists_pred_in_sent:\n",
        "        sentences.append(\" \".join(sentence))\n",
        "        tags.append(tag)\n",
        "        predicates.append(curr_pred)\n",
        "\n",
        "    return sentences, tags, predicates\n"
      ]
    },
    {
      "cell_type": "code",
      "execution_count": null,
      "metadata": {
        "colab": {
          "base_uri": "https://localhost:8080/"
        },
        "id": "9WWf2r8r62vF",
        "outputId": "533039ac-1aa5-45e7-a9cd-6e9633953042"
      },
      "outputs": [
        {
          "output_type": "stream",
          "name": "stdout",
          "text": [
            "Mounted at /content/drive\n"
          ]
        }
      ],
      "source": [
        "from google.colab import drive\n",
        "drive.mount('/content/drive')"
      ]
    },
    {
      "cell_type": "code",
      "execution_count": null,
      "metadata": {
        "colab": {
          "base_uri": "https://localhost:8080/"
        },
        "id": "cSfDn7iY68Rp",
        "outputId": "3995e940-19f0-40fd-b6e4-4a0188eab133"
      },
      "outputs": [
        {
          "output_type": "stream",
          "name": "stdout",
          "text": [
            "/content/drive/My Drive/nlp_srl\n"
          ]
        }
      ],
      "source": [
        "%cd /content/drive/My Drive/nlp_srl"
      ]
    },
    {
      "cell_type": "code",
      "execution_count": null,
      "metadata": {
        "id": "lb3qlTgv4zWY"
      },
      "outputs": [],
      "source": [
        "sentences_1, labels_1, predicates_1 = convert_file('partitive_group_nombank.clean.train')"
      ]
    },
    {
      "cell_type": "code",
      "execution_count": null,
      "metadata": {
        "id": "9MpMWYlV7AZ5"
      },
      "outputs": [],
      "source": [
        "sentences_2, labels_2, predicates_2 = convert_file('partitive_group_nombank.clean.test')"
      ]
    },
    {
      "cell_type": "code",
      "execution_count": null,
      "metadata": {
        "id": "becFuEmJ7FOZ"
      },
      "outputs": [],
      "source": [
        "sentences_3, labels_3, predicates_3 = convert_file('partitive_group_nombank.clean.dev')"
      ]
    },
    {
      "cell_type": "code",
      "execution_count": null,
      "metadata": {
        "colab": {
          "base_uri": "https://localhost:8080/"
        },
        "id": "bSmlbng37Jx0",
        "outputId": "71649fb8-0bf7-406a-a84b-13dbf8315a9d"
      },
      "outputs": [
        {
          "output_type": "stream",
          "name": "stdout",
          "text": [
            "9584\n",
            "9584\n",
            "9584\n"
          ]
        }
      ],
      "source": [
        "print(len(sentences_1))\n",
        "print(len(labels_1))\n",
        "print(len(predicates_1))\n",
        "\n"
      ]
    },
    {
      "cell_type": "code",
      "execution_count": null,
      "metadata": {
        "colab": {
          "base_uri": "https://localhost:8080/"
        },
        "id": "u4NYFy7c7VEp",
        "outputId": "84422d52-f6e9-4417-88c1-255e428654d2"
      },
      "outputs": [
        {
          "output_type": "stream",
          "name": "stdout",
          "text": [
            "584\n",
            "584\n",
            "584\n"
          ]
        }
      ],
      "source": [
        "print(len(sentences_2))\n",
        "print(len(labels_2))\n",
        "print(len(predicates_2))\n"
      ]
    },
    {
      "cell_type": "code",
      "execution_count": null,
      "metadata": {
        "colab": {
          "base_uri": "https://localhost:8080/"
        },
        "id": "hgTmo4587ac-",
        "outputId": "ee61adc8-387c-48bb-8753-70f992291f78"
      },
      "outputs": [
        {
          "output_type": "stream",
          "name": "stdout",
          "text": [
            "353\n",
            "353\n",
            "353\n"
          ]
        }
      ],
      "source": [
        "print(len(sentences_3))\n",
        "print(len(labels_3))\n",
        "print(len(predicates_3))"
      ]
    },
    {
      "cell_type": "code",
      "execution_count": null,
      "metadata": {
        "colab": {
          "base_uri": "https://localhost:8080/",
          "height": 36
        },
        "id": "sWzC_rWV7g4Y",
        "outputId": "98c41501-0909-4ea6-af24-6744382e71d4"
      },
      "outputs": [
        {
          "output_type": "execute_result",
          "data": {
            "text/plain": [
              "'The consensus view expects a 0.4 % increase in the September CPI after a flat reading in August .'"
            ],
            "application/vnd.google.colaboratory.intrinsic+json": {
              "type": "string"
            }
          },
          "metadata": {},
          "execution_count": 15
        }
      ],
      "source": [
        "sentences_3[0]"
      ]
    },
    {
      "cell_type": "code",
      "execution_count": null,
      "metadata": {
        "colab": {
          "base_uri": "https://localhost:8080/"
        },
        "id": "koGRukjL7p1O",
        "outputId": "130cb6b6-f501-4a64-ea9e-d8c276cf4097"
      },
      "outputs": [
        {
          "output_type": "execute_result",
          "data": {
            "text/plain": [
              "[0, 0, 0, 0, 0, 0, 0, 0, 0, 0, 0, 1, 0, 0, 0, 0, 0, 0, 0]"
            ]
          },
          "metadata": {},
          "execution_count": 16
        }
      ],
      "source": [
        "labels_3[0]"
      ]
    },
    {
      "cell_type": "code",
      "execution_count": null,
      "metadata": {
        "colab": {
          "base_uri": "https://localhost:8080/"
        },
        "id": "J8DT1U2u7ymG",
        "outputId": "6dc37614-242a-4a6e-a30a-6b802167e657"
      },
      "outputs": [
        {
          "output_type": "execute_result",
          "data": {
            "text/plain": [
              "['%', '%', '%', '%', '%']"
            ]
          },
          "metadata": {},
          "execution_count": 17
        }
      ],
      "source": [
        "predicates_1[0:5]"
      ]
    },
    {
      "cell_type": "code",
      "execution_count": null,
      "metadata": {
        "id": "y7mNbMk977S2"
      },
      "outputs": [],
      "source": [
        "sentences_all = sentences_1.copy()\n",
        "labels_all = labels_1.copy()\n",
        "predicates_all = predicates_1.copy()\n",
        "\n",
        "sentences_all.extend(sentences_2)\n",
        "labels_all.extend(labels_2)\n",
        "predicates_all.extend(predicates_2)\n",
        "\n",
        "sentences_all.extend(sentences_3)\n",
        "labels_all.extend(labels_3)\n",
        "predicates_all.extend(predicates_3)"
      ]
    },
    {
      "cell_type": "code",
      "execution_count": null,
      "metadata": {
        "colab": {
          "base_uri": "https://localhost:8080/"
        },
        "id": "oz7NKCha9JIR",
        "outputId": "57ca5d2a-a359-406a-f562-b69e5eedc7ba"
      },
      "outputs": [
        {
          "output_type": "stream",
          "name": "stdout",
          "text": [
            "10521\n",
            "10521\n",
            "10521\n"
          ]
        }
      ],
      "source": [
        "print(len(sentences_all))\n",
        "print(len(labels_all))\n",
        "print(len(predicates_all))"
      ]
    },
    {
      "cell_type": "code",
      "execution_count": null,
      "metadata": {
        "id": "NribvqAL9RJ2"
      },
      "outputs": [],
      "source": [
        "\n",
        "\n",
        "# Combine sentences, labels, and predicates into a list of tuples\n",
        "combined_data = list(zip(sentences_all, labels_all, predicates_all))\n",
        "\n",
        "# Shuffle the combined data using a random seed for reproducibility\n",
        "random_seed = 42\n",
        "random.seed(random_seed)\n",
        "random.shuffle(combined_data)\n",
        "\n",
        "# Split the shuffled data into training and validation sets\n",
        "split_ratio = 0.8  \n",
        "split_index = int(len(combined_data) * split_ratio)\n",
        "\n",
        "train_data = combined_data[:split_index]\n",
        "val_data = combined_data[split_index:]\n",
        "\n",
        "# Separate sentences, labels, and predicates for the train and validation sets\n",
        "train_sentences, train_labels, train_predicates = zip(*train_data)\n",
        "val_sentences, val_labels, val_predicates = zip(*val_data)\n"
      ]
    },
    {
      "cell_type": "code",
      "execution_count": null,
      "metadata": {
        "colab": {
          "base_uri": "https://localhost:8080/"
        },
        "id": "bJhpwldO-IN6",
        "outputId": "9070bb29-3f9e-41fc-ef75-4371b5600309"
      },
      "outputs": [
        {
          "output_type": "stream",
          "name": "stdout",
          "text": [
            "8416\n",
            "8416\n",
            "8416\n"
          ]
        }
      ],
      "source": [
        "print(len(train_sentences))\n",
        "print(len(train_labels))\n",
        "print(len(train_predicates))"
      ]
    },
    {
      "cell_type": "code",
      "execution_count": null,
      "metadata": {
        "colab": {
          "base_uri": "https://localhost:8080/"
        },
        "id": "8guN900B-TKK",
        "outputId": "b3fdc74a-aad7-4b9e-db0f-6b7e7ba1f19d"
      },
      "outputs": [
        {
          "output_type": "stream",
          "name": "stdout",
          "text": [
            "2105\n",
            "2105\n",
            "2105\n"
          ]
        }
      ],
      "source": [
        "print(len(val_sentences))\n",
        "print(len(val_labels))\n",
        "print(len(val_predicates))"
      ]
    },
    {
      "cell_type": "code",
      "execution_count": null,
      "metadata": {
        "id": "wqEs-WIu-_7k"
      },
      "outputs": [],
      "source": [
        "X = []\n",
        "count = 0\n",
        "max_length = 0\n",
        "for i in range(len(train_sentences)):\n",
        "\n",
        "  if(len(train_labels[i])>max_length):\n",
        "    max_length = len(train_labels[i])\n",
        "\n",
        "  count+=1\n",
        "  X.append(len(train_sentences[i].split()) == len(train_labels[i]))  "
      ]
    },
    {
      "cell_type": "code",
      "execution_count": null,
      "metadata": {
        "colab": {
          "base_uri": "https://localhost:8080/"
        },
        "id": "t86mRrqtEluK",
        "outputId": "2b1d3d14-9d35-4e1d-e5a7-d5374b953a02"
      },
      "outputs": [
        {
          "output_type": "stream",
          "name": "stdout",
          "text": [
            "108\n",
            "8416\n",
            "8416\n"
          ]
        }
      ],
      "source": [
        "print(max_length)\n",
        "print(sum(X))\n",
        "print(count)"
      ]
    },
    {
      "cell_type": "code",
      "execution_count": null,
      "metadata": {
        "id": "h3rW6t3pEqAw"
      },
      "outputs": [],
      "source": [
        "import torch\n",
        "import torch.nn as nn\n",
        "from transformers import BertModel\n",
        "\n",
        "class SRLModel(nn.Module):\n",
        "    def __init__(self, bert_model, lstm_hidden_size, dropout_rate):\n",
        "        super(SRLModel, self).__init__()\n",
        "        self.bert =bert_model\n",
        "        self.lstm = nn.LSTM(input_size=self.bert.config.hidden_size,\n",
        "                            hidden_size=lstm_hidden_size,\n",
        "                            num_layers=1,\n",
        "                            batch_first=True,\n",
        "                            bidirectional=True)\n",
        "        self.dropout = nn.Dropout(dropout_rate)\n",
        "        self.fc = nn.Linear(in_features=lstm_hidden_size * 2, out_features=1)\n",
        "\n",
        "    def forward(self, input_ids, predicate_idx, labels=None):\n",
        "        bert_output = self.bert(input_ids=input_ids)\n",
        "        sequence_output = bert_output.last_hidden_state\n",
        "\n",
        "        lstm_output, _ = self.lstm(sequence_output)\n",
        "        lstm_output = self.dropout(lstm_output)\n",
        "        logits = self.fc(lstm_output)\n",
        "\n",
        "        if labels is not None:\n",
        "            labels_mask = (labels != -100)\n",
        "            labels = labels[labels_mask]\n",
        "            logits = logits[labels_mask]\n",
        "\n",
        "        return logits, labels\n"
      ]
    },
    {
      "cell_type": "code",
      "execution_count": null,
      "metadata": {
        "id": "lEyDCtEeEynU"
      },
      "outputs": [],
      "source": [
        "def validate(model, dataloader, criterion):\n",
        "    model.eval()\n",
        "    total_loss = 0\n",
        "    all_labels = []\n",
        "    all_logits = []\n",
        "\n",
        "    with torch.no_grad():\n",
        "        for batch in dataloader:\n",
        "            input_ids, predicate_idx, padded_labels = batch\n",
        "            input_ids, predicate_idx, padded_labels = input_ids.to(device), predicate_idx.to(device), padded_labels.to(device)\n",
        "\n",
        "            \n",
        "\n",
        "            logits, labels = model(input_ids, predicate_idx, padded_labels)\n",
        "\n",
        "            loss = criterion(logits, labels.float().unsqueeze(1))\n",
        "            total_loss += loss.item()\n",
        "\n",
        "            mask = labels.ne(-100)\n",
        "            valid_labels = labels[mask].cpu().numpy()\n",
        "            valid_logits = logits[mask].cpu().numpy().squeeze()\n",
        "\n",
        "            all_labels.extend(valid_labels)\n",
        "            all_logits.extend(valid_logits)\n",
        "\n",
        "    # Calculate metrics\n",
        "    #print(all_labels)\n",
        "    #print(all_logits)\n",
        "    average_loss = total_loss / len(dataloader)\n",
        "    all_labels = np.array(all_labels)\n",
        "    all_logits = np.array(all_logits)\n",
        "    \n",
        "    all_probs = 1 / (1 + np.exp(-all_logits))\n",
        "\n",
        "    precision, recall, thresholds = precision_recall_curve(all_labels, all_probs)\n",
        "\n",
        "    f_scores = np.where((precision + recall) != 0.0, (2 *precision * recall)/ (precision + recall + 1e-10), 0)\n",
        "  \n",
        "    best_threshold = thresholds[np.argmax(f_scores)]\n",
        "\n",
        "    # Calculate accuracy and F-score using the best threshold\n",
        "    preds = (all_probs > best_threshold).astype(int)\n",
        "    accuracy = accuracy_score(all_labels, preds)\n",
        "    best_f_score = f1_score(all_labels, preds)\n",
        "\n",
        "    return average_loss, accuracy, best_f_score, best_threshold\n"
      ]
    },
    {
      "cell_type": "code",
      "execution_count": null,
      "metadata": {
        "id": "TtkTC4l2E3sQ"
      },
      "outputs": [],
      "source": [
        "def validate_on_train(model, dataloader, criterion):\n",
        "    model.eval()\n",
        "    total_loss = 0\n",
        "    all_labels = []\n",
        "    all_logits = []\n",
        "\n",
        "    with torch.no_grad():\n",
        "        for batch in dataloader:\n",
        "            input_ids, predicate_idx, padded_labels = batch\n",
        "            input_ids, predicate_idx, padded_labels = input_ids.to(device), predicate_idx.to(device), padded_labels.to(device)\n",
        "\n",
        "            logits, labels = model(input_ids, predicate_idx, padded_labels)\n",
        "\n",
        "            loss = criterion(logits, labels.float().unsqueeze(1))\n",
        "            total_loss += loss.item()\n",
        "\n",
        "            mask = labels.ne(-100)\n",
        "            valid_labels = labels[mask].cpu().numpy()\n",
        "            valid_logits = logits[mask].cpu().numpy().squeeze()\n",
        "\n",
        "            all_labels.extend(valid_labels)\n",
        "            all_logits.extend(valid_logits)\n",
        "\n",
        "    average_loss = total_loss / len(dataloader)\n",
        "    all_labels = np.array(all_labels)\n",
        "    all_logits = np.array(all_logits)\n",
        "\n",
        "    all_probs = 1 / (1 + np.exp(-all_logits))\n",
        "\n",
        "    precision, recall, thresholds = precision_recall_curve(all_labels, all_probs)\n",
        "\n",
        "    f_scores = np.where((precision + recall) != 0.0, (2 * precision * recall) / (precision + recall + 1e-10), 0)\n",
        "\n",
        "    best_threshold = thresholds[np.argmax(f_scores)]\n",
        "\n",
        "    preds = (all_probs > best_threshold).astype(int)\n",
        "    accuracy = accuracy_score(all_labels, preds)\n",
        "    best_f_score = f1_score(all_labels, preds)\n",
        "\n",
        "    return average_loss, accuracy, best_f_score, best_threshold\n"
      ]
    },
    {
      "cell_type": "code",
      "execution_count": null,
      "metadata": {
        "id": "mnFqfumJE6SZ"
      },
      "outputs": [],
      "source": [
        "def train_model_old(model, train_dataset, train_dataloader, val_dataloader, criterion, optimizer, num_epochs, clip_grad_value = 1, weighting_method='none', custom_value= 20):\n",
        "\n",
        "    if weighting_method != 'none':\n",
        "        negative_count = sum([1 for label_seq in train_dataset.labels for label in label_seq if label == 0])\n",
        "        positive_count = sum([1 for label_seq in train_dataset.labels for label in label_seq if label == 1])\n",
        "\n",
        "        if weighting_method == 'direct':\n",
        "            pos_weight = torch.tensor([negative_count / positive_count], device=device)\n",
        "        elif weighting_method == 'log':\n",
        "            pos_weight = torch.tensor([np.log(negative_count / positive_count)], device=device)\n",
        "        elif weighting_method == 'custom':\n",
        "            pos_weight = torch.tensor([custom_value], device=device)\n",
        "        else:\n",
        "            raise ValueError(\"Invalid weighting_method value. It must be 'none', 'direct', 'log', or 'custom'.\")\n",
        "    else:\n",
        "        pos_weight = torch.tensor(1.0, device=device)\n",
        "\n",
        "    train_accuracies = []\n",
        "    val_accuracies = []\n",
        "    train_f_scores = []\n",
        "    val_f_scores = []\n",
        "    avg_train_loss_per_epoch = []\n",
        "    avg_val_loss_per_epoch = []\n",
        "\n",
        "    for epoch in range(num_epochs):\n",
        "        print(f\"Epoch {epoch+1}/{num_epochs}\")\n",
        "        total_train_loss = 0\n",
        "        num_train_batches = 0\n",
        "        for i, batch in enumerate(train_dataloader):\n",
        "            model.train()\n",
        "            input_ids, predicate_idx, padded_labels = batch\n",
        "            input_ids, predicate_idx, padded_labels = input_ids.to(device), predicate_idx.to(device), padded_labels.to(device)\n",
        "\n",
        "            logits, labels = model(input_ids, predicate_idx, padded_labels)\n",
        "\n",
        "            criterion.pos_weight = pos_weight\n",
        "\n",
        "            loss = criterion(logits, labels.float().unsqueeze(1))\n",
        "            loss.backward()\n",
        "\n",
        "            torch.nn.utils.clip_grad_norm_(model.parameters(), clip_grad_value)\n",
        "\n",
        "            optimizer.step()\n",
        "            optimizer.zero_grad()\n",
        "\n",
        "            total_train_loss += loss.item()\n",
        "            num_train_batches += 1\n",
        "\n",
        "            #if i % 3 == 0:\n",
        "            #    print(f\"Batch {i}, Loss: {loss.item()}\")\n",
        "\n",
        "        avg_train_loss_per_epoch.append(total_train_loss / num_train_batches)\n",
        "\n",
        "        val_loss, val_accuracy, val_f_score, val_threshold = validate(model, val_dataloader, criterion)\n",
        "        avg_val_loss_per_epoch.append(val_loss)\n",
        "        print(f\"Validation Loss: {val_loss}, Validation Accuracy: {val_accuracy}, Best F-score: {val_f_score}, Best Threshold: {val_threshold}\")\n",
        "\n",
        "        if (epoch + 1) % 10 == 0:\n",
        "            train_loss, train_accuracy, train_f_score, train_threshold = validate_on_train(model, train_dataloader, criterion)\n",
        "            train_accuracies.append(train_accuracy)\n",
        "            val_accuracies.append(val_accuracy)\n",
        "            train_f_scores.append(train_f_score)\n",
        "            val_f_scores.append(val_f_score)\n",
        "            print(f\"Train Loss: {train_loss}, Train Accuracy: {train_accuracy}, Best F-score: {train_f_score}, Best Threshold: {train_threshold}\")\n",
        "\n",
        "    return avg_train_loss_per_epoch, avg_val_loss_per_epoch, train_accuracies, val_accuracies, train_f_scores, val_f_scores\n"
      ]
    },
    {
      "cell_type": "code",
      "execution_count": null,
      "metadata": {
        "id": "g9HfXrYog6Zp"
      },
      "outputs": [],
      "source": [
        "def train_model(model, train_dataset, train_dataloader, val_dataloader, criterion, optimizer, num_epochs, clip_grad_value=1, weighting_method='none', custom_value=20, patience=15):\n",
        "\n",
        "  if weighting_method != 'none':\n",
        "      negative_count = sum([1 for label_seq in train_dataset.labels for label in label_seq if label == 0])\n",
        "      positive_count = sum([1 for label_seq in train_dataset.labels for label in label_seq if label == 1])\n",
        "\n",
        "      if weighting_method == 'direct':\n",
        "          pos_weight = torch.tensor([negative_count / positive_count], device=device)\n",
        "      elif weighting_method == 'log':\n",
        "          pos_weight = torch.tensor([np.log(negative_count / positive_count)], device=device)\n",
        "      elif weighting_method == 'custom':\n",
        "          pos_weight = torch.tensor([custom_value], device=device)\n",
        "      else:\n",
        "          raise ValueError(\"Invalid weighting_method value. It must be 'none', 'direct', 'log', or 'custom'.\")\n",
        "  else:\n",
        "      pos_weight = torch.tensor(1.0, device=device)\n",
        "\n",
        "\n",
        "\n",
        "  train_accuracies = []\n",
        "  val_accuracies = []\n",
        "  train_f_scores = []\n",
        "  val_f_scores = []\n",
        "  avg_train_loss_per_epoch = []\n",
        "  avg_val_loss_per_epoch = []\n",
        "\n",
        "  # Early stopping initialization\n",
        "  best_val_accuracy = float('-inf')\n",
        "  patience_counter = 0\n",
        "\n",
        "  for epoch in range(num_epochs):\n",
        "      print(f\"Epoch {epoch+1}/{num_epochs}\")\n",
        "      total_train_loss = 0\n",
        "      num_train_batches = 0\n",
        "\n",
        "      for i, batch in enumerate(train_dataloader):\n",
        "          model.train()\n",
        "          input_ids, predicate_idx, padded_labels = batch\n",
        "          input_ids, predicate_idx, padded_labels = input_ids.to(device), predicate_idx.to(device), padded_labels.to(device)\n",
        "\n",
        "          logits, labels = model(input_ids, predicate_idx, padded_labels)\n",
        "\n",
        "          criterion.pos_weight = pos_weight\n",
        "\n",
        "          loss = criterion(logits, labels.float().unsqueeze(1))\n",
        "          loss.backward()\n",
        "\n",
        "          torch.nn.utils.clip_grad_norm_(model.parameters(), clip_grad_value)\n",
        "\n",
        "          optimizer.step()\n",
        "          optimizer.zero_grad()\n",
        "\n",
        "          total_train_loss += loss.item()\n",
        "          num_train_batches += 1\n",
        "\n",
        "\n",
        "      avg_train_loss_per_epoch.append(total_train_loss / num_train_batches)\n",
        "\n",
        "      val_loss, val_accuracy, val_f_score, val_threshold = validate(model, val_dataloader, criterion)\n",
        "      avg_val_loss_per_epoch.append(val_loss)\n",
        "      print(f\"Validation Loss: {val_loss}, Validation Accuracy: {val_accuracy}, Best F-score: {val_f_score}, Best Threshold: {val_threshold}\")\n",
        "\n",
        "      if (epoch + 1) % 10 == 0:\n",
        "          train_loss, train_accuracy, train_f_score, train_threshold = validate_on_train(model, train_dataloader, criterion)\n",
        "          train_accuracies.append(train_accuracy)\n",
        "          val_accuracies.append(val_accuracy)\n",
        "          train_f_scores.append(train_f_score)\n",
        "          val_f_scores.append(val_f_score)\n",
        "          print(f\"Train Loss: {train_loss}, Train Accuracy: {train_accuracy}, Best F-score: {train_f_score}, Best Threshold: {train_threshold}\")\n",
        "\n",
        "      # Early stopping\n",
        "      if val_accuracy > best_val_accuracy:\n",
        "          best_val_accuracy = val_accuracy\n",
        "          patience_counter = 0\n",
        "      else:\n",
        "          patience_counter += 1\n",
        "\n",
        "      if patience_counter >= patience:\n",
        "          print(f\"Early stopping triggered after {epoch + 1} epochs due to no improvement in validation accuracy\")\n",
        "          num_missing_values = num_epochs - epoch - 1\n",
        "          train_accuracies.extend([None] * num_missing_values)\n",
        "          val_accuracies.extend([None] * num_missing_values)\n",
        "          train_f_scores.extend([None] * num_missing_values)\n",
        "          val_f_scores.extend([None] * num_missing_values)\n",
        "\n",
        "          #return avg_train_loss_per_epoch, avg_val_loss_per_epoch, train_accuracies, val_accuracies, train_f_scores, val_f_scores\n",
        "          return avg_train_loss_per_epoch, avg_val_loss_per_epoch, train_accuracies, val_accuracies, train_f_scores, val_f_scores\n",
        "          \n",
        "\n",
        "  return avg_train_loss_per_epoch, avg_val_loss_per_epoch, train_accuracies, val_accuracies, train_f_scores, val_f_scores\n"
      ]
    },
    {
      "cell_type": "code",
      "execution_count": null,
      "metadata": {
        "id": "KaWg8iT3jd-m"
      },
      "outputs": [],
      "source": []
    },
    {
      "cell_type": "code",
      "execution_count": null,
      "metadata": {
        "id": "vJ_M5pjqFPPa"
      },
      "outputs": [],
      "source": [
        "hyper_parameter_dict = {'learning_rate': [1e-4,1e-5,2e-4,2e-5], 'clip_grad_value':[0.8,1.0,1.5,2.0], 'lstm_hidden_size':[50,70,80,96,128], 'dropout_rate':[0.1,0.2,0.3], \n",
        "                        'custom_weight_value': [10, 15, 20 ,27, 40] }"
      ]
    },
    {
      "cell_type": "code",
      "execution_count": null,
      "metadata": {
        "colab": {
          "base_uri": "https://localhost:8080/",
          "height": 123,
          "referenced_widgets": [
            "69c4e18c06af480bbbf0e31cd5a729c9",
            "f43d2f72f57d4d518c892b64722f34d5",
            "18063c61e95d4d89b60ea24b3ad42c0c",
            "0772a361f750415ead849c7343bd40d6",
            "9a0e4f98b6c84ad5a25d15cc0951c5b7",
            "41a86ad8693b4801a4f893a739b24dc8",
            "438a711788cb472cbd7915ad32accf01",
            "83befdf66c2a4c218e5e9da1bfc9b94b",
            "44f29f8b78d140a09165fd32678aabbc",
            "420f27ed1ed947eca154ce2ac257526a",
            "be31f52d7e4d4459a92c410a94dd7a78"
          ]
        },
        "id": "P5mOFKbAMmq4",
        "outputId": "308eefc7-a20c-4b6f-82cc-5ec975321d3f"
      },
      "outputs": [
        {
          "output_type": "display_data",
          "data": {
            "text/plain": [
              "Downloading pytorch_model.bin:   0%|          | 0.00/440M [00:00<?, ?B/s]"
            ],
            "application/vnd.jupyter.widget-view+json": {
              "version_major": 2,
              "version_minor": 0,
              "model_id": "69c4e18c06af480bbbf0e31cd5a729c9"
            }
          },
          "metadata": {}
        },
        {
          "output_type": "stream",
          "name": "stderr",
          "text": [
            "Some weights of the model checkpoint at bert-base-uncased were not used when initializing BertModel: ['cls.predictions.decoder.weight', 'cls.predictions.transform.dense.weight', 'cls.predictions.transform.LayerNorm.bias', 'cls.predictions.bias', 'cls.predictions.transform.dense.bias', 'cls.seq_relationship.weight', 'cls.predictions.transform.LayerNorm.weight', 'cls.seq_relationship.bias']\n",
            "- This IS expected if you are initializing BertModel from the checkpoint of a model trained on another task or with another architecture (e.g. initializing a BertForSequenceClassification model from a BertForPreTraining model).\n",
            "- This IS NOT expected if you are initializing BertModel from the checkpoint of a model that you expect to be exactly identical (initializing a BertForSequenceClassification model from a BertForSequenceClassification model).\n"
          ]
        }
      ],
      "source": [
        "bert_model = BertModel.from_pretrained(\"bert-base-uncased\")"
      ]
    },
    {
      "cell_type": "code",
      "execution_count": null,
      "metadata": {
        "id": "-cazV04IMvpn"
      },
      "outputs": [],
      "source": [
        "num_labels = 1\n",
        "hidden_size = 768"
      ]
    },
    {
      "cell_type": "code",
      "execution_count": null,
      "metadata": {
        "id": "KoEHr59_HHvn"
      },
      "outputs": [],
      "source": [
        "max_length = 128\n",
        "train_dataset = SRLDataset(train_sentences, train_predicates, train_labels, tokenizer, max_length)\n",
        "train_dataloader = DataLoader(train_dataset, batch_size=8, shuffle=True)\n"
      ]
    },
    {
      "cell_type": "code",
      "execution_count": null,
      "metadata": {
        "id": "zsBi0Wk-L92w"
      },
      "outputs": [],
      "source": [
        "max_length = 128\n",
        "val_dataset = SRLDataset(val_sentences, val_predicates, val_labels, tokenizer, max_length)\n",
        "val_dataloader = DataLoader(val_dataset, batch_size=8, shuffle=True)"
      ]
    },
    {
      "cell_type": "code",
      "execution_count": null,
      "metadata": {
        "colab": {
          "base_uri": "https://localhost:8080/"
        },
        "id": "x-7X-QIYjrGg",
        "outputId": "e332d6e4-1e1d-4da7-ce0b-68c3377ce8dd"
      },
      "outputs": [
        {
          "output_type": "stream",
          "name": "stdout",
          "text": [
            "241285\n",
            "8754\n",
            "tensor([27.5628], device='cuda:0')\n"
          ]
        }
      ],
      "source": [
        "negative_count = sum([1 for label_seq in train_dataset.labels for label in label_seq if label == 0])\n",
        "print(negative_count)\n",
        "positive_count = sum([1 for label_seq in train_dataset.labels for label in label_seq if label == 1])\n",
        "print(positive_count)\n",
        "pos_weight = torch.tensor([negative_count / positive_count ], device=device)\n",
        "print(pos_weight)"
      ]
    },
    {
      "cell_type": "code",
      "execution_count": null,
      "metadata": {
        "id": "TggFQaBbMNZD"
      },
      "outputs": [],
      "source": []
    },
    {
      "cell_type": "code",
      "execution_count": null,
      "metadata": {
        "id": "ziRiEvEvnsoT"
      },
      "outputs": [],
      "source": [
        "import csv\n",
        "import ast\n"
      ]
    },
    {
      "cell_type": "code",
      "execution_count": null,
      "metadata": {
        "id": "rllJ2fmAn3SH"
      },
      "outputs": [],
      "source": [
        "num_epochs = 100\n",
        "\n",
        "criterion = nn.BCEWithLogitsLoss()"
      ]
    },
    {
      "cell_type": "code",
      "execution_count": null,
      "metadata": {
        "id": "EiKTA11rnU5a"
      },
      "outputs": [],
      "source": [
        "\n",
        "def grid_search(hyper_parameter_dict, results_csv_path):\n",
        "    # Create the CSV file and write the header\n",
        "    with open(results_csv_path, 'w', newline='') as csvfile:\n",
        "        fieldnames = ['learning_rate', 'clip_grad_value', 'lstm_hidden_size', 'dropout_rate', 'custom_weight_value', 'train_accuracies', 'train_f_scores', 'val_accuracies', 'val_f_scores']\n",
        "        writer = csv.DictWriter(csvfile, fieldnames=fieldnames)\n",
        "        writer.writeheader()\n",
        "\n",
        "    for config in itertools.product(*hyper_parameter_dict.values()):\n",
        "        print(f\"Training with hyperparameter configuration: {config}\")\n",
        "        learning_rate, clip_grad_value, lstm_hidden_size, dropout_rate, custom_weight_value = config\n",
        "\n",
        "        # Train the model with the current configuration of hyperparameters\n",
        "        model = SRLModel(bert_model, hidden_size, num_labels, lstm_hidden_size=lstm_hidden_size, dropout_rate=dropout_rate).to(device)\n",
        "        optimizer = torch.optim.Adam(model.parameters(), lr=learning_rate)\n",
        "        criterion = nn.BCEWithLogitsLoss()\n",
        "\n",
        "        avg_train_loss_per_epoch, avg_val_loss_per_epoch, train_accuracies, val_accuracies, train_f_scores, val_f_scores = train_model(model, train_dataset, train_dataloader, val_dataloader, criterion, optimizer, num_epochs, clip_grad_value, weighting_method='custom', custom_value=custom_weight_value, patience = 15)\n",
        "\n",
        "        # Save the current configuration and its results to the CSV file\n",
        "        results_dict = {'learning_rate': learning_rate, 'clip_grad_value': clip_grad_value, 'lstm_hidden_size': lstm_hidden_size, 'dropout_rate': dropout_rate, 'custom_weight_value': custom_weight_value, 'train_accuracies': str(train_accuracies), 'train_f_scores': str(train_f_scores), 'val_accuracies': str(val_accuracies), 'val_f_scores': str(val_f_scores)}\n",
        "        \n",
        "        with open(results_csv_path, 'a', newline='') as csvfile:\n",
        "            writer = csv.DictWriter(csvfile, fieldnames=fieldnames)\n",
        "            writer.writerow(results_dict)\n",
        "\n"
      ]
    },
    {
      "cell_type": "code",
      "execution_count": null,
      "metadata": {
        "id": "7ZvCzL4-nqr-"
      },
      "outputs": [],
      "source": [
        "\n",
        "results_csv_path = 'grid_search_results_sequential_new.csv'\n",
        "#grid_search(hyper_parameter_dict, results_csv_path)"
      ]
    },
    {
      "cell_type": "code",
      "source": [
        "# train single \n",
        "lstm_hidden_size= 35\n",
        "dropout_rate = 0.2\n",
        "learning_rate = 3e-5\n",
        "clip_grad_value = 1.0\n",
        "custom_weight_value = 27.0"
      ],
      "metadata": {
        "id": "P6e1fc-FDsa_"
      },
      "execution_count": null,
      "outputs": []
    },
    {
      "cell_type": "code",
      "source": [
        "model = SRLModel(bert_model,  lstm_hidden_size=lstm_hidden_size, dropout_rate=dropout_rate).to(device)\n",
        "optimizer = torch.optim.Adam(model.parameters(), lr=learning_rate)\n",
        "criterion = nn.BCEWithLogitsLoss()"
      ],
      "metadata": {
        "id": "-vR6ax-ZDs7n"
      },
      "execution_count": null,
      "outputs": []
    },
    {
      "cell_type": "code",
      "source": [
        "# train single\n",
        "#bs = 8\n",
        "#lstm_hidden_size= 35\n",
        "#dropout_rate = 0.2\n",
        "#learning_rate = 3e-5\n",
        "#clip_grad_value = 1.0\n",
        "#custom_weight_value = 27.0\n",
        "\n",
        "avg_train_loss_per_epoch, avg_val_loss_per_epoch, train_accuracies, val_accuracies, train_f_scores, val_f_scores = train_model(model, train_dataset, train_dataloader, val_dataloader, criterion, optimizer, num_epochs, clip_grad_value, weighting_method='custom', custom_value=custom_weight_value, patience = 30)"
      ],
      "metadata": {
        "colab": {
          "base_uri": "https://localhost:8080/"
        },
        "id": "jYcI_xUlDtay",
        "outputId": "145e9a9a-a56f-4175-8db3-f507507788dc"
      },
      "execution_count": null,
      "outputs": [
        {
          "output_type": "stream",
          "name": "stdout",
          "text": [
            "Epoch 1/100\n",
            "Validation Loss: 0.9410998196707983, Validation Accuracy: 0.9765338827838828, Best F-score: 0.6891921160927009, Best Threshold: 0.9658750295639038\n",
            "Epoch 2/100\n",
            "Validation Loss: 1.0685190604858552, Validation Accuracy: 0.977743982208268, Best F-score: 0.6950481738740757, Best Threshold: 0.958918571472168\n",
            "Epoch 3/100\n",
            "Validation Loss: 1.1885023676352857, Validation Accuracy: 0.9783326792255364, Best F-score: 0.6954723052171914, Best Threshold: 0.9652690291404724\n",
            "Epoch 4/100\n",
            "Validation Loss: 1.269830928279341, Validation Accuracy: 0.9772370486656201, Best F-score: 0.6867686768676867, Best Threshold: 0.9458242654800415\n",
            "Epoch 5/100\n",
            "Validation Loss: 1.23692887491603, Validation Accuracy: 0.9772697540554683, Best F-score: 0.683803457688808, Best Threshold: 0.9605749845504761\n",
            "Epoch 6/100\n",
            "Validation Loss: 1.4150687082667102, Validation Accuracy: 0.9773842229199372, Best F-score: 0.6927349477893802, Best Threshold: 0.9540462493896484\n",
            "Epoch 7/100\n",
            "Validation Loss: 1.4903985524574774, Validation Accuracy: 0.970875850340136, Best F-score: 0.6434434434434435, Best Threshold: 0.9509226679801941\n",
            "Epoch 8/100\n",
            "Validation Loss: 1.5024407881763622, Validation Accuracy: 0.978021978021978, Best F-score: 0.6801523084245596, Best Threshold: 0.9662829637527466\n",
            "Epoch 9/100\n",
            "Validation Loss: 1.4213042683991124, Validation Accuracy: 0.9782509157509157, Best F-score: 0.6963470319634704, Best Threshold: 0.9643299579620361\n",
            "Epoch 10/100\n",
            "Validation Loss: 1.516275414375052, Validation Accuracy: 0.976566588173731, Best F-score: 0.6804905239687848, Best Threshold: 0.9503690004348755\n",
            "Train Loss: 0.10336771631744396, Train Accuracy: 0.9905315695901091, Best F-score: 0.8749326726273833, Best Threshold: 0.9470583200454712\n",
            "Epoch 11/100\n",
            "Validation Loss: 1.5278772910294884, Validation Accuracy: 0.9771879905808477, Best F-score: 0.6865872837564592, Best Threshold: 0.9612719416618347\n",
            "Epoch 12/100\n",
            "Validation Loss: 1.543152954871237, Validation Accuracy: 0.9778748037676609, Best F-score: 0.6873122255604346, Best Threshold: 0.9660911560058594\n",
            "Epoch 13/100\n",
            "Validation Loss: 1.4060871232773713, Validation Accuracy: 0.9762395342752486, Best F-score: 0.6828203449028596, Best Threshold: 0.9650086760520935\n",
            "Epoch 14/100\n",
            "Validation Loss: 1.619216015470694, Validation Accuracy: 0.9777930402930403, Best F-score: 0.6875287620800735, Best Threshold: 0.9595338106155396\n",
            "Epoch 15/100\n",
            "Validation Loss: 1.4942672455711572, Validation Accuracy: 0.9776622187336473, Best F-score: 0.6881278538812785, Best Threshold: 0.9601671695709229\n",
            "Epoch 16/100\n",
            "Validation Loss: 1.582919552220229, Validation Accuracy: 0.9774169283097854, Best F-score: 0.6787625029076528, Best Threshold: 0.9565577507019043\n",
            "Epoch 17/100\n",
            "Validation Loss: 1.4677123847085927, Validation Accuracy: 0.9784635007849294, Best F-score: 0.6824210272486134, Best Threshold: 0.9606063961982727\n",
            "Epoch 18/100\n",
            "Validation Loss: 1.5859881568467245, Validation Accuracy: 0.9775477498691785, Best F-score: 0.685884237016701, Best Threshold: 0.955798864364624\n",
            "Epoch 19/100\n",
            "Validation Loss: 1.3979094152733027, Validation Accuracy: 0.9774659863945578, Best F-score: 0.6858185134518924, Best Threshold: 0.9647406339645386\n",
            "Epoch 20/100\n",
            "Validation Loss: 1.2794775005507593, Validation Accuracy: 0.9780383307169022, Best F-score: 0.6822805772415425, Best Threshold: 0.9595068693161011\n",
            "Train Loss: 0.07919431049128846, Train Accuracy: 0.9909352623595231, Best F-score: 0.880168185003504, Best Threshold: 0.9468812942504883\n",
            "Epoch 21/100\n",
            "Validation Loss: 1.8795294019774618, Validation Accuracy: 0.9770735217163788, Best F-score: 0.6796160877513712, Best Threshold: 0.958764910697937\n",
            "Epoch 22/100\n",
            "Validation Loss: 1.6829875588529941, Validation Accuracy: 0.9773188121402407, Best F-score: 0.6820994728397892, Best Threshold: 0.9619956612586975\n",
            "Epoch 23/100\n",
            "Validation Loss: 1.8476408825672204, Validation Accuracy: 0.974833202511774, Best F-score: 0.6634594358189373, Best Threshold: 0.9499901533126831\n",
            "Epoch 24/100\n",
            "Validation Loss: 1.4313519973939313, Validation Accuracy: 0.9766319989534276, Best F-score: 0.6815244038332962, Best Threshold: 0.9651231169700623\n",
            "Epoch 25/100\n",
            "Validation Loss: 1.3715648292352192, Validation Accuracy: 0.9769427001569859, Best F-score: 0.6818592057761733, Best Threshold: 0.9660035967826843\n",
            "Epoch 26/100\n",
            "Validation Loss: 1.9844429469085298, Validation Accuracy: 0.976566588173731, Best F-score: 0.6824728561932196, Best Threshold: 0.9544333219528198\n",
            "Epoch 27/100\n",
            "Validation Loss: 1.7245363151759552, Validation Accuracy: 0.9765175300889587, Best F-score: 0.6811722912966252, Best Threshold: 0.9605355858802795\n",
            "Epoch 28/100\n",
            "Validation Loss: 1.6578171774105586, Validation Accuracy: 0.9767628205128205, Best F-score: 0.6806023825578783, Best Threshold: 0.959970235824585\n",
            "Epoch 29/100\n",
            "Validation Loss: 1.7309111941581112, Validation Accuracy: 0.9757816588173731, Best F-score: 0.6716914209709599, Best Threshold: 0.9611164331436157\n",
            "Epoch 30/100\n",
            "Validation Loss: 1.668899296835827, Validation Accuracy: 0.9758797749869178, Best F-score: 0.6741771592666226, Best Threshold: 0.9691912531852722\n",
            "Train Loss: 0.07199737283679171, Train Accuracy: 0.990853708264692, Best F-score: 0.8801111764391469, Best Threshold: 0.9639459848403931\n",
            "Epoch 31/100\n",
            "Validation Loss: 1.8290266224176968, Validation Accuracy: 0.9764030612244898, Best F-score: 0.6710736266241167, Best Threshold: 0.9667713046073914\n",
            "Epoch 32/100\n",
            "Validation Loss: 1.8901538690876227, Validation Accuracy: 0.9774169283097854, Best F-score: 0.6752880319774277, Best Threshold: 0.9651662111282349\n",
            "Epoch 33/100\n",
            "Validation Loss: 1.5928422537434734, Validation Accuracy: 0.9754382522239665, Best F-score: 0.673051806704397, Best Threshold: 0.9640461206436157\n",
            "Epoch 34/100\n",
            "Validation Loss: 1.888620162139308, Validation Accuracy: 0.9769099947671376, Best F-score: 0.6805429864253394, Best Threshold: 0.9586504101753235\n",
            "Epoch 35/100\n",
            "Validation Loss: 1.6903854144567794, Validation Accuracy: 0.9778748037676609, Best F-score: 0.6854219948849104, Best Threshold: 0.9657688140869141\n",
            "Epoch 36/100\n",
            "Validation Loss: 1.7405704864094416, Validation Accuracy: 0.9767464678178964, Best F-score: 0.6725011515430678, Best Threshold: 0.9623312950134277\n",
            "Epoch 37/100\n",
            "Validation Loss: 1.753624963433002, Validation Accuracy: 0.9770081109366824, Best F-score: 0.6754385964912282, Best Threshold: 0.9619109630584717\n",
            "Epoch 38/100\n",
            "Validation Loss: 1.9427398137190859, Validation Accuracy: 0.9772534013605442, Best F-score: 0.6764363805536171, Best Threshold: 0.9664337038993835\n",
            "Epoch 39/100\n",
            "Validation Loss: 1.7763741761084406, Validation Accuracy: 0.9758470695970696, Best F-score: 0.6721420643729189, Best Threshold: 0.9624402523040771\n",
            "Epoch 40/100\n",
            "Validation Loss: 1.8232388194481963, Validation Accuracy: 0.9770735217163788, Best F-score: 0.6712007504690432, Best Threshold: 0.9664098024368286\n",
            "Train Loss: 0.06775091217782972, Train Accuracy: 0.9909189515405569, Best F-score: 0.8813089591216756, Best Threshold: 0.9494332075119019\n",
            "Epoch 41/100\n",
            "Validation Loss: 1.4349427962213557, Validation Accuracy: 0.9771716378859236, Best F-score: 0.6795224977043159, Best Threshold: 0.961409866809845\n",
            "Epoch 42/100\n",
            "Validation Loss: 1.6784744192409562, Validation Accuracy: 0.9764684720041863, Best F-score: 0.6743607150939126, Best Threshold: 0.9611786603927612\n",
            "Epoch 43/100\n",
            "Validation Loss: 1.5826598176499829, Validation Accuracy: 0.9775150444793302, Best F-score: 0.6756310450577967, Best Threshold: 0.9619738459587097\n",
            "Epoch 44/100\n",
            "Validation Loss: 1.6145647008158972, Validation Accuracy: 0.9766319989534276, Best F-score: 0.6718714121699196, Best Threshold: 0.9664082527160645\n",
            "Epoch 45/100\n",
            "Validation Loss: 1.8308557772737306, Validation Accuracy: 0.9772697540554683, Best F-score: 0.670772145902416, Best Threshold: 0.9660342931747437\n",
            "Epoch 46/100\n",
            "Validation Loss: 1.7772871904307976, Validation Accuracy: 0.9759615384615384, Best F-score: 0.6663640490240581, Best Threshold: 0.9557667374610901\n",
            "Epoch 47/100\n",
            "Validation Loss: 1.7700617417171034, Validation Accuracy: 0.9759778911564626, Best F-score: 0.6677222347885093, Best Threshold: 0.959419310092926\n",
            "Early stopping triggered after 47 epochs due to no improvement in validation accuracy\n"
          ]
        }
      ]
    },
    {
      "cell_type": "code",
      "execution_count": null,
      "metadata": {
        "id": "dmCOe6YX9H5q"
      },
      "outputs": [],
      "source": [
        "# train single \n",
        "lstm_hidden_size= 75\n",
        "dropout_rate = 0.3\n",
        "learning_rate = 3e-5\n",
        "clip_grad_value = 1.0\n",
        "custom_weight_value = 27.0\n"
      ]
    },
    {
      "cell_type": "code",
      "execution_count": null,
      "metadata": {
        "id": "mXm4umEf_W_Y"
      },
      "outputs": [],
      "source": [
        "model = SRLModel(bert_model,  lstm_hidden_size=lstm_hidden_size, dropout_rate=dropout_rate).to(device)\n",
        "optimizer = torch.optim.Adam(model.parameters(), lr=learning_rate)\n",
        "criterion = nn.BCEWithLogitsLoss()"
      ]
    },
    {
      "cell_type": "code",
      "source": [
        "# train single\n",
        "#bs = 8\n",
        "#lstm_hidden_size= 75\n",
        "#dropout_rate = 0.3\n",
        "#learning_rate = 3e-5\n",
        "#clip_grad_value = 1.0\n",
        "#custom_weight_value = 27.0\n",
        "\n",
        "avg_train_loss_per_epoch, avg_val_loss_per_epoch, train_accuracies, val_accuracies, train_f_scores, val_f_scores = train_model(model, train_dataset, train_dataloader, val_dataloader, criterion, optimizer, num_epochs, clip_grad_value, weighting_method='custom', custom_value=custom_weight_value, patience = 30)"
      ],
      "metadata": {
        "colab": {
          "base_uri": "https://localhost:8080/"
        },
        "id": "N6u7a6J83mkz",
        "outputId": "aa94247c-726b-4285-ccce-48c1a92516eb"
      },
      "execution_count": null,
      "outputs": [
        {
          "output_type": "stream",
          "name": "stdout",
          "text": [
            "Epoch 1/100\n",
            "Validation Loss: 0.33588128115208643, Validation Accuracy: 0.9764357666143381, Best F-score: 0.706337884654575, Best Threshold: 0.9339672327041626\n",
            "Epoch 2/100\n",
            "Validation Loss: 0.26941927086632206, Validation Accuracy: 0.9797717163788592, Best F-score: 0.744051313883716, Best Threshold: 0.9527961611747742\n",
            "Epoch 3/100\n",
            "Validation Loss: 0.32634172957601415, Validation Accuracy: 0.9786760858189429, Best F-score: 0.7434081070444707, Best Threshold: 0.9194042682647705\n",
            "Epoch 4/100\n",
            "Validation Loss: 0.4344470635548515, Validation Accuracy: 0.9796899529042387, Best F-score: 0.7439175257731959, Best Threshold: 0.93880295753479\n",
            "Epoch 5/100\n",
            "Validation Loss: 0.48700758111926745, Validation Accuracy: 0.9807201726844584, Best F-score: 0.7454113582379616, Best Threshold: 0.9489056468009949\n",
            "Epoch 6/100\n",
            "Validation Loss: 0.684730335824051, Validation Accuracy: 0.9801314756671899, Best F-score: 0.7375243033052497, Best Threshold: 0.9529955387115479\n",
            "Epoch 7/100\n",
            "Validation Loss: 0.6116190466608079, Validation Accuracy: 0.9792647828362114, Best F-score: 0.7321504013519223, Best Threshold: 0.9532709717750549\n",
            "Epoch 8/100\n",
            "Validation Loss: 0.7502428376168575, Validation Accuracy: 0.9800170068027211, Best F-score: 0.7346938775510203, Best Threshold: 0.9471006989479065\n",
            "Epoch 9/100\n",
            "Validation Loss: 0.7627892109020701, Validation Accuracy: 0.9797553636839351, Best F-score: 0.733877901977644, Best Threshold: 0.9483897686004639\n",
            "Epoch 10/100\n",
            "Validation Loss: 0.6564311527137486, Validation Accuracy: 0.979608189429618, Best F-score: 0.7303783783783784, Best Threshold: 0.9541844129562378\n",
            "Train Loss: 0.07947200518588131, Train Accuracy: 0.9898016604413707, Best F-score: 0.8666488936283657, Best Threshold: 0.9522054195404053\n",
            "Epoch 11/100\n",
            "Validation Loss: 0.8538652231811352, Validation Accuracy: 0.9790031397174255, Best F-score: 0.7278507842306062, Best Threshold: 0.9537390470504761\n",
            "Epoch 12/100\n",
            "Validation Loss: 0.7884183555911735, Validation Accuracy: 0.9787905546834118, Best F-score: 0.7230407858210549, Best Threshold: 0.9511644244194031\n",
            "Epoch 13/100\n",
            "Validation Loss: 0.9066037879378166, Validation Accuracy: 0.9791666666666666, Best F-score: 0.7209811651335961, Best Threshold: 0.9482376575469971\n",
            "Epoch 14/100\n",
            "Validation Loss: 0.9588272621819995, Validation Accuracy: 0.9802295918367347, Best F-score: 0.7239095683946106, Best Threshold: 0.9573017954826355\n",
            "Epoch 15/100\n",
            "Validation Loss: 1.189826054322832, Validation Accuracy: 0.9784962061747776, Best F-score: 0.7159213653056815, Best Threshold: 0.939183235168457\n",
            "Epoch 16/100\n",
            "Validation Loss: 0.9411467700353209, Validation Accuracy: 0.9783490319204605, Best F-score: 0.7150236762806715, Best Threshold: 0.9479498267173767\n",
            "Epoch 17/100\n",
            "Validation Loss: 1.1525082570360095, Validation Accuracy: 0.9776785714285714, Best F-score: 0.7053744873731923, Best Threshold: 0.9546546936035156\n",
            "Epoch 18/100\n",
            "Validation Loss: 1.0166536930175323, Validation Accuracy: 0.977760334903192, Best F-score: 0.7090286692340608, Best Threshold: 0.947857677936554\n",
            "Epoch 19/100\n",
            "Validation Loss: 1.1702593302811093, Validation Accuracy: 0.9784962061747776, Best F-score: 0.7140682757121114, Best Threshold: 0.9548866152763367\n",
            "Epoch 20/100\n",
            "Validation Loss: 1.1263480621899635, Validation Accuracy: 0.9762558869701727, Best F-score: 0.6947014297729185, Best Threshold: 0.9573802351951599\n",
            "Train Loss: 0.05830917496238603, Train Accuracy: 0.9905723466375247, Best F-score: 0.8765880217785844, Best Threshold: 0.9544766545295715\n",
            "Epoch 21/100\n",
            "Validation Loss: 1.2412544971085944, Validation Accuracy: 0.9772370486656201, Best F-score: 0.7024369388627619, Best Threshold: 0.9451537132263184\n",
            "Epoch 22/100\n",
            "Validation Loss: 1.334051009900165, Validation Accuracy: 0.9780383307169022, Best F-score: 0.7072160453455416, Best Threshold: 0.9540407061576843\n",
            "Epoch 23/100\n",
            "Validation Loss: 1.4274372180466943, Validation Accuracy: 0.9773351648351648, Best F-score: 0.7020636285468617, Best Threshold: 0.9411800503730774\n",
            "Epoch 24/100\n",
            "Validation Loss: 1.392950580226925, Validation Accuracy: 0.9778093929879644, Best F-score: 0.7012987012987013, Best Threshold: 0.9524082541465759\n",
            "Epoch 25/100\n",
            "Validation Loss: 1.4629900296622853, Validation Accuracy: 0.9782999738356881, Best F-score: 0.7035961581416127, Best Threshold: 0.9521620869636536\n",
            "Epoch 26/100\n",
            "Validation Loss: 1.4832328257133376, Validation Accuracy: 0.9781691522762951, Best F-score: 0.7012754531215036, Best Threshold: 0.9484024047851562\n",
            "Epoch 27/100\n",
            "Validation Loss: 1.5564227180098587, Validation Accuracy: 0.9770735217163788, Best F-score: 0.7001710863986313, Best Threshold: 0.9404112100601196\n",
            "Epoch 28/100\n",
            "Validation Loss: 1.5960112702242046, Validation Accuracy: 0.9775150444793302, Best F-score: 0.7006313956020029, Best Threshold: 0.9473662376403809\n",
            "Epoch 29/100\n",
            "Validation Loss: 1.6745139777238638, Validation Accuracy: 0.9772370486656201, Best F-score: 0.6969960818458859, Best Threshold: 0.9444128274917603\n",
            "Epoch 30/100\n",
            "Validation Loss: 1.523173361471942, Validation Accuracy: 0.977089874411303, Best F-score: 0.6977346278317152, Best Threshold: 0.9495350122451782\n",
            "Train Loss: 0.05435891491372023, Train Accuracy: 0.9908333197409842, Best F-score: 0.8790227101496072, Best Threshold: 0.953076958656311\n",
            "Epoch 31/100\n",
            "Validation Loss: 1.5709817569773152, Validation Accuracy: 0.9771716378859236, Best F-score: 0.6965217391304348, Best Threshold: 0.942474365234375\n",
            "Epoch 32/100\n",
            "Validation Loss: 1.1535311529658876, Validation Accuracy: 0.9771879905808477, Best F-score: 0.6966731898238747, Best Threshold: 0.9460335373878479\n",
            "Epoch 33/100\n",
            "Validation Loss: 1.6466685787967916, Validation Accuracy: 0.9778911564625851, Best F-score: 0.6956325979288608, Best Threshold: 0.9554967880249023\n",
            "Epoch 34/100\n",
            "Validation Loss: 1.776369204217533, Validation Accuracy: 0.9773842229199372, Best F-score: 0.6921878477631872, Best Threshold: 0.9544191956520081\n",
            "Epoch 35/100\n",
            "Validation Loss: 1.6596982672740266, Validation Accuracy: 0.9771879905808477, Best F-score: 0.7007080025745548, Best Threshold: 0.943866491317749\n",
            "Early stopping triggered after 35 epochs due to no improvement in validation accuracy\n"
          ]
        }
      ]
    },
    {
      "cell_type": "code",
      "execution_count": null,
      "metadata": {
        "colab": {
          "background_save": true,
          "base_uri": "https://localhost:8080/"
        },
        "id": "rNGYcWgE88_c",
        "outputId": "c91a2a92-d798-4896-8266-2fe46d469703"
      },
      "outputs": [
        {
          "name": "stdout",
          "output_type": "stream",
          "text": [
            "Epoch 1/100\n",
            "Validation Loss: 0.3050805778717095, Validation Accuracy: 0.978414442700157, Best F-score: 0.7261410788381744, Best Threshold: 0.9184591770172119\n",
            "Epoch 2/100\n",
            "Validation Loss: 0.29212658353290466, Validation Accuracy: 0.9801151229722659, Best F-score: 0.7469829379941739, Best Threshold: 0.9719102382659912\n",
            "Epoch 3/100\n",
            "Validation Loss: 0.37070030367599344, Validation Accuracy: 0.9801314756671899, Best F-score: 0.7486033519553073, Best Threshold: 0.9382821917533875\n",
            "Epoch 4/100\n",
            "Validation Loss: 0.5064458283332159, Validation Accuracy: 0.9801314756671899, Best F-score: 0.7488112466404796, Best Threshold: 0.9534609913825989\n",
            "Epoch 5/100\n",
            "Validation Loss: 0.5103459995029107, Validation Accuracy: 0.9800170068027211, Best F-score: 0.747937293729373, Best Threshold: 0.9457011818885803\n",
            "Epoch 6/100\n",
            "Validation Loss: 0.6598007928158315, Validation Accuracy: 0.980671114599686, Best F-score: 0.744045041143352, Best Threshold: 0.9441694021224976\n",
            "Epoch 7/100\n",
            "Validation Loss: 0.6362836944150194, Validation Accuracy: 0.979215724751439, Best F-score: 0.7411932396660558, Best Threshold: 0.9380279779434204\n",
            "Epoch 8/100\n",
            "Validation Loss: 0.650762516267176, Validation Accuracy: 0.9790358451072737, Best F-score: 0.7321353949017969, Best Threshold: 0.9514307379722595\n",
            "Epoch 9/100\n",
            "Validation Loss: 0.6850890713339707, Validation Accuracy: 0.9798534798534798, Best F-score: 0.7369769427839453, Best Threshold: 0.9546783566474915\n",
            "Epoch 10/100\n",
            "Validation Loss: 0.8005152329591647, Validation Accuracy: 0.9808673469387755, Best F-score: 0.7388392857142857, Best Threshold: 0.9566523432731628\n",
            "Train Loss: 0.07177463561880475, Train Accuracy: 0.9898424374887863, Best F-score: 0.8658805793355948, Best Threshold: 0.9522407650947571\n",
            "Epoch 11/100\n",
            "Validation Loss: 0.688812146068744, Validation Accuracy: 0.9798207744636316, Best F-score: 0.7300962379702536, Best Threshold: 0.9576427936553955\n",
            "Epoch 12/100\n",
            "Validation Loss: 0.9559010729755996, Validation Accuracy: 0.9791830193615908, Best F-score: 0.730125079499682, Best Threshold: 0.9585722088813782\n",
            "Epoch 13/100\n",
            "Validation Loss: 0.9745476741941189, Validation Accuracy: 0.9789213762428048, Best F-score: 0.7276568772448764, Best Threshold: 0.934228241443634\n",
            "Epoch 14/100\n",
            "Validation Loss: 0.838274072996288, Validation Accuracy: 0.9784307953950812, Best F-score: 0.7258366244024111, Best Threshold: 0.9352515935897827\n",
            "Epoch 15/100\n",
            "Validation Loss: 0.9121531209433978, Validation Accuracy: 0.9783653846153846, Best F-score: 0.7183308494783904, Best Threshold: 0.9595826268196106\n",
            "Epoch 16/100\n",
            "Validation Loss: 1.0215473341632564, Validation Accuracy: 0.9778257456828885, Best F-score: 0.7164366373902132, Best Threshold: 0.9548438787460327\n",
            "Epoch 17/100\n",
            "Validation Loss: 0.8350284579649286, Validation Accuracy: 0.9779075091575091, Best F-score: 0.7188345473465141, Best Threshold: 0.9559347033500671\n",
            "Epoch 18/100\n",
            "Validation Loss: 1.2799879609132714, Validation Accuracy: 0.9783980900052328, Best F-score: 0.7189959583067432, Best Threshold: 0.9541294574737549\n",
            "Epoch 19/100\n",
            "Validation Loss: 0.9812021367251873, Validation Accuracy: 0.9778093929879644, Best F-score: 0.7124390760754397, Best Threshold: 0.9497305154800415\n",
            "Epoch 20/100\n",
            "Validation Loss: 1.1521180040853203, Validation Accuracy: 0.9781364468864469, Best F-score: 0.7153502235469449, Best Threshold: 0.9602081775665283\n",
            "Train Loss: 0.05670357661846043, Train Accuracy: 0.9904826371332105, Best F-score: 0.8744486282947821, Best Threshold: 0.9619299173355103\n",
            "Epoch 21/100\n",
            "Validation Loss: 1.0147329775862537, Validation Accuracy: 0.9785943223443223, Best F-score: 0.7121178799208269, Best Threshold: 0.9575241804122925\n",
            "Epoch 22/100\n",
            "Validation Loss: 1.1202082328217209, Validation Accuracy: 0.9777766875981162, Best F-score: 0.7075532601678503, Best Threshold: 0.9515573382377625\n",
            "Epoch 23/100\n",
            "Validation Loss: 1.4685440471852726, Validation Accuracy: 0.976288592360021, Best F-score: 0.7011541632316571, Best Threshold: 0.29256054759025574\n",
            "Epoch 24/100\n",
            "Validation Loss: 0.7893212973579483, Validation Accuracy: 0.9775804552590267, Best F-score: 0.7064868336544637, Best Threshold: 0.9539082646369934\n",
            "Epoch 25/100\n",
            "Validation Loss: 1.3905689344161525, Validation Accuracy: 0.9778093929879644, Best F-score: 0.7101046784875027, Best Threshold: 0.9450209736824036\n",
            "Epoch 26/100\n",
            "Validation Loss: 1.1839387488182422, Validation Accuracy: 0.9778093929879644, Best F-score: 0.7071012303043385, Best Threshold: 0.9518679976463318\n",
            "Epoch 27/100\n",
            "Validation Loss: 1.4164990610530916, Validation Accuracy: 0.9778748037676609, Best F-score: 0.7085935817359466, Best Threshold: 0.9393706321716309\n",
            "Epoch 28/100\n",
            "Validation Loss: 1.1700214371085167, Validation Accuracy: 0.9776949241234956, Best F-score: 0.7053995680345573, Best Threshold: 0.9527273178100586\n",
            "Epoch 29/100\n",
            "Validation Loss: 1.3162077402098562, Validation Accuracy: 0.9768118785975929, Best F-score: 0.6990662139219014, Best Threshold: 0.936332643032074\n",
            "Epoch 30/100\n",
            "Validation Loss: 1.232847501576509, Validation Accuracy: 0.9772370486656201, Best F-score: 0.6990920881971465, Best Threshold: 0.947982907295227\n",
            "Train Loss: 0.07448573614472873, Train Accuracy: 0.9905519581138169, Best F-score: 0.8762087941443607, Best Threshold: 0.9438242316246033\n",
            "Epoch 31/100\n",
            "Validation Loss: 1.1045343614236083, Validation Accuracy: 0.9779892726321298, Best F-score: 0.7044356609574001, Best Threshold: 0.9555463790893555\n",
            "Epoch 32/100\n",
            "Validation Loss: 1.2228785520946641, Validation Accuracy: 0.9766319989534276, Best F-score: 0.7002307530941893, Best Threshold: 0.8299946188926697\n",
            "Epoch 33/100\n",
            "Validation Loss: 1.4213939556535684, Validation Accuracy: 0.9778748037676609, Best F-score: 0.7047785293475889, Best Threshold: 0.9548095464706421\n",
            "Epoch 34/100\n",
            "Validation Loss: 1.4751766902517598, Validation Accuracy: 0.9754055468341183, Best F-score: 0.6915504511894995, Best Threshold: 0.2549854815006256\n",
            "Epoch 35/100\n",
            "Validation Loss: 1.3030400114520542, Validation Accuracy: 0.9772370486656201, Best F-score: 0.7038297872340424, Best Threshold: 0.9547626972198486\n",
            "Epoch 36/100\n",
            "Validation Loss: 0.9332636594420897, Validation Accuracy: 0.9768282312925171, Best F-score: 0.6946778711484594, Best Threshold: 0.9428701996803284\n",
            "Epoch 37/100\n",
            "Validation Loss: 1.4552891380241457, Validation Accuracy: 0.9766483516483516, Best F-score: 0.6934306569343065, Best Threshold: 0.9521124958992004\n",
            "Epoch 38/100\n",
            "Validation Loss: 1.5891038988418174, Validation Accuracy: 0.9764030612244898, Best F-score: 0.6902768834513844, Best Threshold: 0.9400022029876709\n",
            "Epoch 39/100\n",
            "Validation Loss: 1.3882800766952195, Validation Accuracy: 0.976566588173731, Best F-score: 0.6921589688506982, Best Threshold: 0.9588042497634888\n",
            "Epoch 40/100\n",
            "Validation Loss: 1.4295999338885523, Validation Accuracy: 0.9782182103610675, Best F-score: 0.6990510619069137, Best Threshold: 0.9534857273101807\n",
            "Train Loss: 0.06788030603453694, Train Accuracy: 0.990715066303479, Best F-score: 0.8784757431819396, Best Threshold: 0.941714882850647\n",
            "Early stopping triggered after 40 epochs due to no improvement in validation accuracy\n"
          ]
        }
      ],
      "source": [
        "# train single\n",
        "#bs = 64\n",
        "#lstm_hidden_size= 80\n",
        "#dropout_rate = 0.2\n",
        "#learning_rate = 3e-5\n",
        "#clip_grad_value = 1.5\n",
        "#custom_weight_value = 27.0\n",
        "\n",
        "avg_train_loss_per_epoch, avg_val_loss_per_epoch, train_accuracies, val_accuracies, train_f_scores, val_f_scores = train_model(model, train_dataset, train_dataloader, val_dataloader, criterion, optimizer, num_epochs, clip_grad_value, weighting_method='custom', custom_value=custom_weight_value, patience = 30)"
      ]
    },
    {
      "cell_type": "code",
      "execution_count": null,
      "metadata": {
        "id": "rBPV05RxNBYD"
      },
      "outputs": [],
      "source": [
        "#grid_search(hyper_parameter_dict, results_csv_path)"
      ]
    },
    {
      "cell_type": "code",
      "execution_count": null,
      "metadata": {
        "colab": {
          "base_uri": "https://localhost:8080/"
        },
        "id": "bLcP4AJ9XOG5",
        "outputId": "1a2a552a-7971-4842-96ad-09a5ccf56329"
      },
      "outputs": [
        {
          "name": "stdout",
          "output_type": "stream",
          "text": [
            "Epoch 1/100\n",
            "Validation Loss: 1.0357710485750775, Validation Accuracy: 0.9771716378859236, Best F-score: 0.6688804554079696, Best Threshold: 0.9696148037910461\n",
            "Epoch 2/100\n",
            "Validation Loss: 1.124192273841714, Validation Accuracy: 0.97854526425955, Best F-score: 0.6810889645114243, Best Threshold: 0.9705095291137695\n",
            "Epoch 3/100\n",
            "Validation Loss: 1.1666829138994217, Validation Accuracy: 0.9775968079539508, Best F-score: 0.6791569086651054, Best Threshold: 0.9663196206092834\n",
            "Epoch 4/100\n",
            "Validation Loss: 1.3827161829707757, Validation Accuracy: 0.976304945054945, Best F-score: 0.6713540485370832, Best Threshold: 0.9650532007217407\n",
            "Epoch 5/100\n",
            "Validation Loss: 1.317360872789374, Validation Accuracy: 0.9773842229199372, Best F-score: 0.6803790154841691, Best Threshold: 0.9659895896911621\n",
            "Epoch 6/100\n",
            "Validation Loss: 1.3777492953077801, Validation Accuracy: 0.9764194139194139, Best F-score: 0.6774049217002237, Best Threshold: 0.9627013802528381\n",
            "Epoch 7/100\n",
            "Validation Loss: 1.2183032280431603, Validation Accuracy: 0.9768936420722135, Best F-score: 0.6783519235146824, Best Threshold: 0.9618566036224365\n",
            "Epoch 8/100\n",
            "Validation Loss: 1.21363857641535, Validation Accuracy: 0.9772370486656201, Best F-score: 0.6792626728110599, Best Threshold: 0.9658794403076172\n",
            "Epoch 9/100\n",
            "Validation Loss: 1.4240278233334702, Validation Accuracy: 0.976566588173731, Best F-score: 0.6701956271576525, Best Threshold: 0.9701871871948242\n",
            "Epoch 10/100\n",
            "Validation Loss: 1.6002210612004657, Validation Accuracy: 0.9774496336996337, Best F-score: 0.6717448226612711, Best Threshold: 0.9702597856521606\n",
            "Train Loss: 0.05863251131594252, Train Accuracy: 0.9909515731784893, Best F-score: 0.8811907693955132, Best Threshold: 0.9604926109313965\n",
            "Epoch 11/100\n",
            "Validation Loss: 1.4914450618034263, Validation Accuracy: 0.9771062271062271, Best F-score: 0.6765249537892791, Best Threshold: 0.969567060470581\n",
            "Epoch 12/100\n",
            "Validation Loss: 1.3901184448656045, Validation Accuracy: 0.9768118785975929, Best F-score: 0.6714550509731232, Best Threshold: 0.9648933410644531\n",
            "Epoch 13/100\n",
            "Validation Loss: 1.5782682507667902, Validation Accuracy: 0.9773024594453166, Best F-score: 0.6755493221131369, Best Threshold: 0.9705654382705688\n",
            "Epoch 14/100\n",
            "Validation Loss: 1.6370623426617317, Validation Accuracy: 0.9772697540554683, Best F-score: 0.6729411764705883, Best Threshold: 0.9656462073326111\n",
            "Epoch 15/100\n",
            "Validation Loss: 1.5156402444502093, Validation Accuracy: 0.9779565672422815, Best F-score: 0.6816249409541805, Best Threshold: 0.9661272764205933\n",
            "Epoch 16/100\n",
            "Validation Loss: 1.5434083531276797, Validation Accuracy: 0.9766647043432758, Best F-score: 0.6786759738797568, Best Threshold: 0.9642755389213562\n",
            "Epoch 17/100\n",
            "Validation Loss: 1.4603032076133873, Validation Accuracy: 0.9777766875981162, Best F-score: 0.6829951014695591, Best Threshold: 0.9578887224197388\n",
            "Epoch 18/100\n",
            "Validation Loss: 1.342781422694899, Validation Accuracy: 0.9779075091575091, Best F-score: 0.6855946008843379, Best Threshold: 0.967833399772644\n",
            "Epoch 19/100\n",
            "Validation Loss: 1.168894094819168, Validation Accuracy: 0.9777766875981162, Best F-score: 0.6825508058864752, Best Threshold: 0.9591758847236633\n",
            "Epoch 20/100\n",
            "Validation Loss: 1.2472716699231345, Validation Accuracy: 0.9785125588697017, Best F-score: 0.6892147587511825, Best Threshold: 0.9683433175086975\n",
            "Train Loss: 0.05386338716775462, Train Accuracy: 0.9909678839974555, Best F-score: 0.8815064462633071, Best Threshold: 0.94175124168396\n",
            "Epoch 21/100\n",
            "Validation Loss: 1.8522334312492947, Validation Accuracy: 0.9772697540554683, Best F-score: 0.6788354898336414, Best Threshold: 0.9663454294204712\n",
            "Epoch 22/100\n",
            "Validation Loss: 1.0312364577965916, Validation Accuracy: 0.9778420983778127, Best F-score: 0.6785290628706999, Best Threshold: 0.9660463929176331\n",
            "Epoch 23/100\n",
            "Validation Loss: 1.4823217763091034, Validation Accuracy: 0.9774496336996337, Best F-score: 0.6753002119142923, Best Threshold: 0.965474009513855\n",
            "Epoch 24/100\n",
            "Validation Loss: 1.6934573194890652, Validation Accuracy: 0.9781691522762951, Best F-score: 0.6777697320782042, Best Threshold: 0.9696771502494812\n",
            "Epoch 25/100\n",
            "Validation Loss: 1.790129724546239, Validation Accuracy: 0.9769263474620618, Best F-score: 0.6776330820196481, Best Threshold: 0.9675372838973999\n",
            "Epoch 26/100\n",
            "Validation Loss: 1.7038759904087715, Validation Accuracy: 0.9772861067503925, Best F-score: 0.6775017413512886, Best Threshold: 0.962383508682251\n",
            "Epoch 27/100\n",
            "Validation Loss: 1.4660741109049544, Validation Accuracy: 0.9761087127158555, Best F-score: 0.6689326988443237, Best Threshold: 0.9576808214187622\n",
            "Epoch 28/100\n",
            "Validation Loss: 1.6970315332401473, Validation Accuracy: 0.9776785714285714, Best F-score: 0.6755407653910149, Best Threshold: 0.9681375622749329\n",
            "Epoch 29/100\n",
            "Validation Loss: 1.672251930354901, Validation Accuracy: 0.9776295133437991, Best F-score: 0.6770538243626063, Best Threshold: 0.9619983434677124\n",
            "Epoch 30/100\n",
            "Validation Loss: 2.0643354083569543, Validation Accuracy: 0.9772861067503925, Best F-score: 0.6713981547196594, Best Threshold: 0.9640556573867798\n",
            "Train Loss: 0.05658207303925136, Train Accuracy: 0.9910086610448711, Best F-score: 0.8824564209179593, Best Threshold: 0.9535976648330688\n",
            "Epoch 31/100\n",
            "Validation Loss: 1.57687364912258, Validation Accuracy: 0.9773024594453166, Best F-score: 0.6829602558245774, Best Threshold: 0.9651861786842346\n",
            "Epoch 32/100\n",
            "Validation Loss: 1.9252265040534284, Validation Accuracy: 0.9778257456828885, Best F-score: 0.6791292001893044, Best Threshold: 0.9677172899246216\n",
            "Epoch 33/100\n",
            "Validation Loss: 1.567664086537541, Validation Accuracy: 0.9777112768184196, Best F-score: 0.6851466851466851, Best Threshold: 0.9678598642349243\n",
            "Epoch 34/100\n",
            "Validation Loss: 1.677398777795288, Validation Accuracy: 0.9780056253270539, Best F-score: 0.6840498003288701, Best Threshold: 0.9667941331863403\n",
            "Epoch 35/100\n",
            "Validation Loss: 1.6133294532883842, Validation Accuracy: 0.9779729199372057, Best F-score: 0.6826855123674912, Best Threshold: 0.9660643339157104\n",
            "Epoch 36/100\n",
            "Validation Loss: 1.7986909741500638, Validation Accuracy: 0.9774986917844061, Best F-score: 0.678654834189631, Best Threshold: 0.9652170538902283\n",
            "Epoch 37/100\n",
            "Validation Loss: 1.8894095062893235, Validation Accuracy: 0.9777112768184196, Best F-score: 0.6784619013918377, Best Threshold: 0.968172550201416\n",
            "Epoch 38/100\n",
            "Validation Loss: 1.7442935887935027, Validation Accuracy: 0.9775968079539508, Best F-score: 0.6781015037593985, Best Threshold: 0.9643549919128418\n",
            "Epoch 39/100\n",
            "Validation Loss: 1.673178376137929, Validation Accuracy: 0.9776458660387232, Best F-score: 0.6829041985618186, Best Threshold: 0.9618006348609924\n",
            "Epoch 40/100\n",
            "Validation Loss: 1.8612030317198556, Validation Accuracy: 0.9776622187336473, Best F-score: 0.6785882352941177, Best Threshold: 0.9699957966804504\n",
            "Train Loss: 0.05013104269130049, Train Accuracy: 0.9910290495685788, Best F-score: 0.8820122278236618, Best Threshold: 0.9658672213554382\n",
            "Epoch 41/100\n",
            "Validation Loss: 1.5838383784658223, Validation Accuracy: 0.9770571690214548, Best F-score: 0.6716592557921836, Best Threshold: 0.9689432978630066\n",
            "Epoch 42/100\n",
            "Validation Loss: 2.06947131623637, Validation Accuracy: 0.9765992935635793, Best F-score: 0.6757307953772943, Best Threshold: 0.9633358120918274\n",
            "Epoch 43/100\n",
            "Validation Loss: 1.5656448842909292, Validation Accuracy: 0.9770081109366824, Best F-score: 0.6775229357798165, Best Threshold: 0.965408444404602\n",
            "Epoch 44/100\n",
            "Validation Loss: 1.6837507579124198, Validation Accuracy: 0.9774332810047096, Best F-score: 0.6784715750232991, Best Threshold: 0.9681780338287354\n",
            "Epoch 45/100\n",
            "Validation Loss: 2.013157368268607, Validation Accuracy: 0.9772370486656201, Best F-score: 0.6746143057503506, Best Threshold: 0.9683693647384644\n",
            "Epoch 46/100\n",
            "Validation Loss: 2.0437638928305426, Validation Accuracy: 0.9771225798011512, Best F-score: 0.6696576151121606, Best Threshold: 0.9691502451896667\n",
            "Epoch 47/100\n",
            "Validation Loss: 2.0068219312519395, Validation Accuracy: 0.9776785714285714, Best F-score: 0.6746126340882002, Best Threshold: 0.967333972454071\n",
            "Epoch 48/100\n",
            "Validation Loss: 1.7537378564758122, Validation Accuracy: 0.9772370486656201, Best F-score: 0.675221651889874, Best Threshold: 0.9646950364112854\n",
            "Epoch 49/100\n",
            "Validation Loss: 1.505739391974683, Validation Accuracy: 0.9772043432757719, Best F-score: 0.673536299765808, Best Threshold: 0.970740020275116\n",
            "Epoch 50/100\n",
            "Validation Loss: 1.9037586714861527, Validation Accuracy: 0.9774332810047096, Best F-score: 0.6720532319391634, Best Threshold: 0.9644636511802673\n",
            "Train Loss: 0.049499335804967445, Train Accuracy: 0.9911269144823761, Best F-score: 0.8838103374626228, Best Threshold: 0.9531158208847046\n",
            "Epoch 51/100\n",
            "Validation Loss: 1.724266693277179, Validation Accuracy: 0.9761414181057039, Best F-score: 0.664057103384757, Best Threshold: 0.9613498449325562\n",
            "Epoch 52/100\n",
            "Validation Loss: 1.8376559989069992, Validation Accuracy: 0.9769427001569859, Best F-score: 0.6760110294117647, Best Threshold: 0.9672109484672546\n",
            "Early stopping triggered after 52 epochs due to no improvement in validation accuracy\n"
          ]
        }
      ],
      "source": [
        "# train single\n",
        "# bs 20 \n",
        "#lstm_hidden_size= 70\n",
        "#dropout_rate = 0.2\n",
        "#learning_rate = 4e-5\n",
        "#clip_grad_value = 2.0\n",
        "#custom_weight_value = 27.0\n",
        "\n",
        "avg_train_loss_per_epoch, avg_val_loss_per_epoch, train_accuracies, val_accuracies, train_f_scores, val_f_scores = train_model(model, train_dataset, train_dataloader, val_dataloader, criterion, optimizer, num_epochs, clip_grad_value, weighting_method='custom', custom_value=custom_weight_value, patience = 50)"
      ]
    }
  ],
  "metadata": {
    "accelerator": "GPU",
    "colab": {
      "machine_shape": "hm",
      "provenance": [],
      "gpuType": "A100",
      "authorship_tag": "ABX9TyPJDh9nezpEAq1MH+m/ALh9",
      "include_colab_link": true
    },
    "gpuClass": "premium",
    "kernelspec": {
      "display_name": "Python 3",
      "name": "python3"
    },
    "language_info": {
      "name": "python"
    },
    "widgets": {
      "application/vnd.jupyter.widget-state+json": {
        "1ba422c1f4724ccdba598b8dbe3aae2b": {
          "model_module": "@jupyter-widgets/controls",
          "model_name": "HBoxModel",
          "model_module_version": "1.5.0",
          "state": {
            "_dom_classes": [],
            "_model_module": "@jupyter-widgets/controls",
            "_model_module_version": "1.5.0",
            "_model_name": "HBoxModel",
            "_view_count": null,
            "_view_module": "@jupyter-widgets/controls",
            "_view_module_version": "1.5.0",
            "_view_name": "HBoxView",
            "box_style": "",
            "children": [
              "IPY_MODEL_ec0557a2ad034292a30bfcb4b1bf4189",
              "IPY_MODEL_f26c14e45d174391852fd356e1cc46c2",
              "IPY_MODEL_db59b05a5dba436cb705b48750cf0b71"
            ],
            "layout": "IPY_MODEL_432b83e091b14563b3745166cfdff02a"
          }
        },
        "ec0557a2ad034292a30bfcb4b1bf4189": {
          "model_module": "@jupyter-widgets/controls",
          "model_name": "HTMLModel",
          "model_module_version": "1.5.0",
          "state": {
            "_dom_classes": [],
            "_model_module": "@jupyter-widgets/controls",
            "_model_module_version": "1.5.0",
            "_model_name": "HTMLModel",
            "_view_count": null,
            "_view_module": "@jupyter-widgets/controls",
            "_view_module_version": "1.5.0",
            "_view_name": "HTMLView",
            "description": "",
            "description_tooltip": null,
            "layout": "IPY_MODEL_479a6e5a28514a149970ee5dca82025c",
            "placeholder": "​",
            "style": "IPY_MODEL_50f9fd6dbde542efbc7a0a4a2245f966",
            "value": "Downloading (…)solve/main/vocab.txt: 100%"
          }
        },
        "f26c14e45d174391852fd356e1cc46c2": {
          "model_module": "@jupyter-widgets/controls",
          "model_name": "FloatProgressModel",
          "model_module_version": "1.5.0",
          "state": {
            "_dom_classes": [],
            "_model_module": "@jupyter-widgets/controls",
            "_model_module_version": "1.5.0",
            "_model_name": "FloatProgressModel",
            "_view_count": null,
            "_view_module": "@jupyter-widgets/controls",
            "_view_module_version": "1.5.0",
            "_view_name": "ProgressView",
            "bar_style": "success",
            "description": "",
            "description_tooltip": null,
            "layout": "IPY_MODEL_47a72518b9c44e63b2f5b790463cfcdd",
            "max": 231508,
            "min": 0,
            "orientation": "horizontal",
            "style": "IPY_MODEL_d3fd3570ec8f445c88f1da8e550528cb",
            "value": 231508
          }
        },
        "db59b05a5dba436cb705b48750cf0b71": {
          "model_module": "@jupyter-widgets/controls",
          "model_name": "HTMLModel",
          "model_module_version": "1.5.0",
          "state": {
            "_dom_classes": [],
            "_model_module": "@jupyter-widgets/controls",
            "_model_module_version": "1.5.0",
            "_model_name": "HTMLModel",
            "_view_count": null,
            "_view_module": "@jupyter-widgets/controls",
            "_view_module_version": "1.5.0",
            "_view_name": "HTMLView",
            "description": "",
            "description_tooltip": null,
            "layout": "IPY_MODEL_878d451fe67b43bdbb4cb3639d2363ca",
            "placeholder": "​",
            "style": "IPY_MODEL_9d7f200b73a443b0917204bfeb147764",
            "value": " 232k/232k [00:00&lt;00:00, 556kB/s]"
          }
        },
        "432b83e091b14563b3745166cfdff02a": {
          "model_module": "@jupyter-widgets/base",
          "model_name": "LayoutModel",
          "model_module_version": "1.2.0",
          "state": {
            "_model_module": "@jupyter-widgets/base",
            "_model_module_version": "1.2.0",
            "_model_name": "LayoutModel",
            "_view_count": null,
            "_view_module": "@jupyter-widgets/base",
            "_view_module_version": "1.2.0",
            "_view_name": "LayoutView",
            "align_content": null,
            "align_items": null,
            "align_self": null,
            "border": null,
            "bottom": null,
            "display": null,
            "flex": null,
            "flex_flow": null,
            "grid_area": null,
            "grid_auto_columns": null,
            "grid_auto_flow": null,
            "grid_auto_rows": null,
            "grid_column": null,
            "grid_gap": null,
            "grid_row": null,
            "grid_template_areas": null,
            "grid_template_columns": null,
            "grid_template_rows": null,
            "height": null,
            "justify_content": null,
            "justify_items": null,
            "left": null,
            "margin": null,
            "max_height": null,
            "max_width": null,
            "min_height": null,
            "min_width": null,
            "object_fit": null,
            "object_position": null,
            "order": null,
            "overflow": null,
            "overflow_x": null,
            "overflow_y": null,
            "padding": null,
            "right": null,
            "top": null,
            "visibility": null,
            "width": null
          }
        },
        "479a6e5a28514a149970ee5dca82025c": {
          "model_module": "@jupyter-widgets/base",
          "model_name": "LayoutModel",
          "model_module_version": "1.2.0",
          "state": {
            "_model_module": "@jupyter-widgets/base",
            "_model_module_version": "1.2.0",
            "_model_name": "LayoutModel",
            "_view_count": null,
            "_view_module": "@jupyter-widgets/base",
            "_view_module_version": "1.2.0",
            "_view_name": "LayoutView",
            "align_content": null,
            "align_items": null,
            "align_self": null,
            "border": null,
            "bottom": null,
            "display": null,
            "flex": null,
            "flex_flow": null,
            "grid_area": null,
            "grid_auto_columns": null,
            "grid_auto_flow": null,
            "grid_auto_rows": null,
            "grid_column": null,
            "grid_gap": null,
            "grid_row": null,
            "grid_template_areas": null,
            "grid_template_columns": null,
            "grid_template_rows": null,
            "height": null,
            "justify_content": null,
            "justify_items": null,
            "left": null,
            "margin": null,
            "max_height": null,
            "max_width": null,
            "min_height": null,
            "min_width": null,
            "object_fit": null,
            "object_position": null,
            "order": null,
            "overflow": null,
            "overflow_x": null,
            "overflow_y": null,
            "padding": null,
            "right": null,
            "top": null,
            "visibility": null,
            "width": null
          }
        },
        "50f9fd6dbde542efbc7a0a4a2245f966": {
          "model_module": "@jupyter-widgets/controls",
          "model_name": "DescriptionStyleModel",
          "model_module_version": "1.5.0",
          "state": {
            "_model_module": "@jupyter-widgets/controls",
            "_model_module_version": "1.5.0",
            "_model_name": "DescriptionStyleModel",
            "_view_count": null,
            "_view_module": "@jupyter-widgets/base",
            "_view_module_version": "1.2.0",
            "_view_name": "StyleView",
            "description_width": ""
          }
        },
        "47a72518b9c44e63b2f5b790463cfcdd": {
          "model_module": "@jupyter-widgets/base",
          "model_name": "LayoutModel",
          "model_module_version": "1.2.0",
          "state": {
            "_model_module": "@jupyter-widgets/base",
            "_model_module_version": "1.2.0",
            "_model_name": "LayoutModel",
            "_view_count": null,
            "_view_module": "@jupyter-widgets/base",
            "_view_module_version": "1.2.0",
            "_view_name": "LayoutView",
            "align_content": null,
            "align_items": null,
            "align_self": null,
            "border": null,
            "bottom": null,
            "display": null,
            "flex": null,
            "flex_flow": null,
            "grid_area": null,
            "grid_auto_columns": null,
            "grid_auto_flow": null,
            "grid_auto_rows": null,
            "grid_column": null,
            "grid_gap": null,
            "grid_row": null,
            "grid_template_areas": null,
            "grid_template_columns": null,
            "grid_template_rows": null,
            "height": null,
            "justify_content": null,
            "justify_items": null,
            "left": null,
            "margin": null,
            "max_height": null,
            "max_width": null,
            "min_height": null,
            "min_width": null,
            "object_fit": null,
            "object_position": null,
            "order": null,
            "overflow": null,
            "overflow_x": null,
            "overflow_y": null,
            "padding": null,
            "right": null,
            "top": null,
            "visibility": null,
            "width": null
          }
        },
        "d3fd3570ec8f445c88f1da8e550528cb": {
          "model_module": "@jupyter-widgets/controls",
          "model_name": "ProgressStyleModel",
          "model_module_version": "1.5.0",
          "state": {
            "_model_module": "@jupyter-widgets/controls",
            "_model_module_version": "1.5.0",
            "_model_name": "ProgressStyleModel",
            "_view_count": null,
            "_view_module": "@jupyter-widgets/base",
            "_view_module_version": "1.2.0",
            "_view_name": "StyleView",
            "bar_color": null,
            "description_width": ""
          }
        },
        "878d451fe67b43bdbb4cb3639d2363ca": {
          "model_module": "@jupyter-widgets/base",
          "model_name": "LayoutModel",
          "model_module_version": "1.2.0",
          "state": {
            "_model_module": "@jupyter-widgets/base",
            "_model_module_version": "1.2.0",
            "_model_name": "LayoutModel",
            "_view_count": null,
            "_view_module": "@jupyter-widgets/base",
            "_view_module_version": "1.2.0",
            "_view_name": "LayoutView",
            "align_content": null,
            "align_items": null,
            "align_self": null,
            "border": null,
            "bottom": null,
            "display": null,
            "flex": null,
            "flex_flow": null,
            "grid_area": null,
            "grid_auto_columns": null,
            "grid_auto_flow": null,
            "grid_auto_rows": null,
            "grid_column": null,
            "grid_gap": null,
            "grid_row": null,
            "grid_template_areas": null,
            "grid_template_columns": null,
            "grid_template_rows": null,
            "height": null,
            "justify_content": null,
            "justify_items": null,
            "left": null,
            "margin": null,
            "max_height": null,
            "max_width": null,
            "min_height": null,
            "min_width": null,
            "object_fit": null,
            "object_position": null,
            "order": null,
            "overflow": null,
            "overflow_x": null,
            "overflow_y": null,
            "padding": null,
            "right": null,
            "top": null,
            "visibility": null,
            "width": null
          }
        },
        "9d7f200b73a443b0917204bfeb147764": {
          "model_module": "@jupyter-widgets/controls",
          "model_name": "DescriptionStyleModel",
          "model_module_version": "1.5.0",
          "state": {
            "_model_module": "@jupyter-widgets/controls",
            "_model_module_version": "1.5.0",
            "_model_name": "DescriptionStyleModel",
            "_view_count": null,
            "_view_module": "@jupyter-widgets/base",
            "_view_module_version": "1.2.0",
            "_view_name": "StyleView",
            "description_width": ""
          }
        },
        "d2a50562684b4240ba9a57945ea49bee": {
          "model_module": "@jupyter-widgets/controls",
          "model_name": "HBoxModel",
          "model_module_version": "1.5.0",
          "state": {
            "_dom_classes": [],
            "_model_module": "@jupyter-widgets/controls",
            "_model_module_version": "1.5.0",
            "_model_name": "HBoxModel",
            "_view_count": null,
            "_view_module": "@jupyter-widgets/controls",
            "_view_module_version": "1.5.0",
            "_view_name": "HBoxView",
            "box_style": "",
            "children": [
              "IPY_MODEL_cc6e422dcbbe4fb68ce57d9790523a42",
              "IPY_MODEL_4549628ac59a4c098ff6dc1b11008df4",
              "IPY_MODEL_bf61bf18a8c640febb4e524b78dc902d"
            ],
            "layout": "IPY_MODEL_148cdad428604279a0f240fa8cb1200a"
          }
        },
        "cc6e422dcbbe4fb68ce57d9790523a42": {
          "model_module": "@jupyter-widgets/controls",
          "model_name": "HTMLModel",
          "model_module_version": "1.5.0",
          "state": {
            "_dom_classes": [],
            "_model_module": "@jupyter-widgets/controls",
            "_model_module_version": "1.5.0",
            "_model_name": "HTMLModel",
            "_view_count": null,
            "_view_module": "@jupyter-widgets/controls",
            "_view_module_version": "1.5.0",
            "_view_name": "HTMLView",
            "description": "",
            "description_tooltip": null,
            "layout": "IPY_MODEL_cf81ed0251be495bb3453cd3638da3fd",
            "placeholder": "​",
            "style": "IPY_MODEL_31ef11e6b9694fff9f6a56660a542aa3",
            "value": "Downloading (…)okenizer_config.json: 100%"
          }
        },
        "4549628ac59a4c098ff6dc1b11008df4": {
          "model_module": "@jupyter-widgets/controls",
          "model_name": "FloatProgressModel",
          "model_module_version": "1.5.0",
          "state": {
            "_dom_classes": [],
            "_model_module": "@jupyter-widgets/controls",
            "_model_module_version": "1.5.0",
            "_model_name": "FloatProgressModel",
            "_view_count": null,
            "_view_module": "@jupyter-widgets/controls",
            "_view_module_version": "1.5.0",
            "_view_name": "ProgressView",
            "bar_style": "success",
            "description": "",
            "description_tooltip": null,
            "layout": "IPY_MODEL_43bd65402c71425a9b54f1dc33a067a9",
            "max": 28,
            "min": 0,
            "orientation": "horizontal",
            "style": "IPY_MODEL_bd10930e1fd145f19935d7ee36c5ab18",
            "value": 28
          }
        },
        "bf61bf18a8c640febb4e524b78dc902d": {
          "model_module": "@jupyter-widgets/controls",
          "model_name": "HTMLModel",
          "model_module_version": "1.5.0",
          "state": {
            "_dom_classes": [],
            "_model_module": "@jupyter-widgets/controls",
            "_model_module_version": "1.5.0",
            "_model_name": "HTMLModel",
            "_view_count": null,
            "_view_module": "@jupyter-widgets/controls",
            "_view_module_version": "1.5.0",
            "_view_name": "HTMLView",
            "description": "",
            "description_tooltip": null,
            "layout": "IPY_MODEL_4bd9d3907d8348e1968d5150a44b4f0e",
            "placeholder": "​",
            "style": "IPY_MODEL_0bbd31f752004e47b4eaf00eddea720b",
            "value": " 28.0/28.0 [00:00&lt;00:00, 2.49kB/s]"
          }
        },
        "148cdad428604279a0f240fa8cb1200a": {
          "model_module": "@jupyter-widgets/base",
          "model_name": "LayoutModel",
          "model_module_version": "1.2.0",
          "state": {
            "_model_module": "@jupyter-widgets/base",
            "_model_module_version": "1.2.0",
            "_model_name": "LayoutModel",
            "_view_count": null,
            "_view_module": "@jupyter-widgets/base",
            "_view_module_version": "1.2.0",
            "_view_name": "LayoutView",
            "align_content": null,
            "align_items": null,
            "align_self": null,
            "border": null,
            "bottom": null,
            "display": null,
            "flex": null,
            "flex_flow": null,
            "grid_area": null,
            "grid_auto_columns": null,
            "grid_auto_flow": null,
            "grid_auto_rows": null,
            "grid_column": null,
            "grid_gap": null,
            "grid_row": null,
            "grid_template_areas": null,
            "grid_template_columns": null,
            "grid_template_rows": null,
            "height": null,
            "justify_content": null,
            "justify_items": null,
            "left": null,
            "margin": null,
            "max_height": null,
            "max_width": null,
            "min_height": null,
            "min_width": null,
            "object_fit": null,
            "object_position": null,
            "order": null,
            "overflow": null,
            "overflow_x": null,
            "overflow_y": null,
            "padding": null,
            "right": null,
            "top": null,
            "visibility": null,
            "width": null
          }
        },
        "cf81ed0251be495bb3453cd3638da3fd": {
          "model_module": "@jupyter-widgets/base",
          "model_name": "LayoutModel",
          "model_module_version": "1.2.0",
          "state": {
            "_model_module": "@jupyter-widgets/base",
            "_model_module_version": "1.2.0",
            "_model_name": "LayoutModel",
            "_view_count": null,
            "_view_module": "@jupyter-widgets/base",
            "_view_module_version": "1.2.0",
            "_view_name": "LayoutView",
            "align_content": null,
            "align_items": null,
            "align_self": null,
            "border": null,
            "bottom": null,
            "display": null,
            "flex": null,
            "flex_flow": null,
            "grid_area": null,
            "grid_auto_columns": null,
            "grid_auto_flow": null,
            "grid_auto_rows": null,
            "grid_column": null,
            "grid_gap": null,
            "grid_row": null,
            "grid_template_areas": null,
            "grid_template_columns": null,
            "grid_template_rows": null,
            "height": null,
            "justify_content": null,
            "justify_items": null,
            "left": null,
            "margin": null,
            "max_height": null,
            "max_width": null,
            "min_height": null,
            "min_width": null,
            "object_fit": null,
            "object_position": null,
            "order": null,
            "overflow": null,
            "overflow_x": null,
            "overflow_y": null,
            "padding": null,
            "right": null,
            "top": null,
            "visibility": null,
            "width": null
          }
        },
        "31ef11e6b9694fff9f6a56660a542aa3": {
          "model_module": "@jupyter-widgets/controls",
          "model_name": "DescriptionStyleModel",
          "model_module_version": "1.5.0",
          "state": {
            "_model_module": "@jupyter-widgets/controls",
            "_model_module_version": "1.5.0",
            "_model_name": "DescriptionStyleModel",
            "_view_count": null,
            "_view_module": "@jupyter-widgets/base",
            "_view_module_version": "1.2.0",
            "_view_name": "StyleView",
            "description_width": ""
          }
        },
        "43bd65402c71425a9b54f1dc33a067a9": {
          "model_module": "@jupyter-widgets/base",
          "model_name": "LayoutModel",
          "model_module_version": "1.2.0",
          "state": {
            "_model_module": "@jupyter-widgets/base",
            "_model_module_version": "1.2.0",
            "_model_name": "LayoutModel",
            "_view_count": null,
            "_view_module": "@jupyter-widgets/base",
            "_view_module_version": "1.2.0",
            "_view_name": "LayoutView",
            "align_content": null,
            "align_items": null,
            "align_self": null,
            "border": null,
            "bottom": null,
            "display": null,
            "flex": null,
            "flex_flow": null,
            "grid_area": null,
            "grid_auto_columns": null,
            "grid_auto_flow": null,
            "grid_auto_rows": null,
            "grid_column": null,
            "grid_gap": null,
            "grid_row": null,
            "grid_template_areas": null,
            "grid_template_columns": null,
            "grid_template_rows": null,
            "height": null,
            "justify_content": null,
            "justify_items": null,
            "left": null,
            "margin": null,
            "max_height": null,
            "max_width": null,
            "min_height": null,
            "min_width": null,
            "object_fit": null,
            "object_position": null,
            "order": null,
            "overflow": null,
            "overflow_x": null,
            "overflow_y": null,
            "padding": null,
            "right": null,
            "top": null,
            "visibility": null,
            "width": null
          }
        },
        "bd10930e1fd145f19935d7ee36c5ab18": {
          "model_module": "@jupyter-widgets/controls",
          "model_name": "ProgressStyleModel",
          "model_module_version": "1.5.0",
          "state": {
            "_model_module": "@jupyter-widgets/controls",
            "_model_module_version": "1.5.0",
            "_model_name": "ProgressStyleModel",
            "_view_count": null,
            "_view_module": "@jupyter-widgets/base",
            "_view_module_version": "1.2.0",
            "_view_name": "StyleView",
            "bar_color": null,
            "description_width": ""
          }
        },
        "4bd9d3907d8348e1968d5150a44b4f0e": {
          "model_module": "@jupyter-widgets/base",
          "model_name": "LayoutModel",
          "model_module_version": "1.2.0",
          "state": {
            "_model_module": "@jupyter-widgets/base",
            "_model_module_version": "1.2.0",
            "_model_name": "LayoutModel",
            "_view_count": null,
            "_view_module": "@jupyter-widgets/base",
            "_view_module_version": "1.2.0",
            "_view_name": "LayoutView",
            "align_content": null,
            "align_items": null,
            "align_self": null,
            "border": null,
            "bottom": null,
            "display": null,
            "flex": null,
            "flex_flow": null,
            "grid_area": null,
            "grid_auto_columns": null,
            "grid_auto_flow": null,
            "grid_auto_rows": null,
            "grid_column": null,
            "grid_gap": null,
            "grid_row": null,
            "grid_template_areas": null,
            "grid_template_columns": null,
            "grid_template_rows": null,
            "height": null,
            "justify_content": null,
            "justify_items": null,
            "left": null,
            "margin": null,
            "max_height": null,
            "max_width": null,
            "min_height": null,
            "min_width": null,
            "object_fit": null,
            "object_position": null,
            "order": null,
            "overflow": null,
            "overflow_x": null,
            "overflow_y": null,
            "padding": null,
            "right": null,
            "top": null,
            "visibility": null,
            "width": null
          }
        },
        "0bbd31f752004e47b4eaf00eddea720b": {
          "model_module": "@jupyter-widgets/controls",
          "model_name": "DescriptionStyleModel",
          "model_module_version": "1.5.0",
          "state": {
            "_model_module": "@jupyter-widgets/controls",
            "_model_module_version": "1.5.0",
            "_model_name": "DescriptionStyleModel",
            "_view_count": null,
            "_view_module": "@jupyter-widgets/base",
            "_view_module_version": "1.2.0",
            "_view_name": "StyleView",
            "description_width": ""
          }
        },
        "e67d42d8a3684ec899aacedbec7b1ae9": {
          "model_module": "@jupyter-widgets/controls",
          "model_name": "HBoxModel",
          "model_module_version": "1.5.0",
          "state": {
            "_dom_classes": [],
            "_model_module": "@jupyter-widgets/controls",
            "_model_module_version": "1.5.0",
            "_model_name": "HBoxModel",
            "_view_count": null,
            "_view_module": "@jupyter-widgets/controls",
            "_view_module_version": "1.5.0",
            "_view_name": "HBoxView",
            "box_style": "",
            "children": [
              "IPY_MODEL_bf395cd7a3654f8f8e3f1fa1d47410d3",
              "IPY_MODEL_0ec527723d104062955e0f96fc40a79b",
              "IPY_MODEL_824987c8c11d47869fae4af4b7cb1535"
            ],
            "layout": "IPY_MODEL_6aae30fc3ab54f8d808ac693707d6f4e"
          }
        },
        "bf395cd7a3654f8f8e3f1fa1d47410d3": {
          "model_module": "@jupyter-widgets/controls",
          "model_name": "HTMLModel",
          "model_module_version": "1.5.0",
          "state": {
            "_dom_classes": [],
            "_model_module": "@jupyter-widgets/controls",
            "_model_module_version": "1.5.0",
            "_model_name": "HTMLModel",
            "_view_count": null,
            "_view_module": "@jupyter-widgets/controls",
            "_view_module_version": "1.5.0",
            "_view_name": "HTMLView",
            "description": "",
            "description_tooltip": null,
            "layout": "IPY_MODEL_b36eb47aa41942278af0bffa06f4aeba",
            "placeholder": "​",
            "style": "IPY_MODEL_8654d26f98b34721aa97a01565894f66",
            "value": "Downloading (…)lve/main/config.json: 100%"
          }
        },
        "0ec527723d104062955e0f96fc40a79b": {
          "model_module": "@jupyter-widgets/controls",
          "model_name": "FloatProgressModel",
          "model_module_version": "1.5.0",
          "state": {
            "_dom_classes": [],
            "_model_module": "@jupyter-widgets/controls",
            "_model_module_version": "1.5.0",
            "_model_name": "FloatProgressModel",
            "_view_count": null,
            "_view_module": "@jupyter-widgets/controls",
            "_view_module_version": "1.5.0",
            "_view_name": "ProgressView",
            "bar_style": "success",
            "description": "",
            "description_tooltip": null,
            "layout": "IPY_MODEL_e108928f4b1946eba0a29e162d703c51",
            "max": 570,
            "min": 0,
            "orientation": "horizontal",
            "style": "IPY_MODEL_f7f83e181b21460885587bf829f82423",
            "value": 570
          }
        },
        "824987c8c11d47869fae4af4b7cb1535": {
          "model_module": "@jupyter-widgets/controls",
          "model_name": "HTMLModel",
          "model_module_version": "1.5.0",
          "state": {
            "_dom_classes": [],
            "_model_module": "@jupyter-widgets/controls",
            "_model_module_version": "1.5.0",
            "_model_name": "HTMLModel",
            "_view_count": null,
            "_view_module": "@jupyter-widgets/controls",
            "_view_module_version": "1.5.0",
            "_view_name": "HTMLView",
            "description": "",
            "description_tooltip": null,
            "layout": "IPY_MODEL_58fca59ca0394568bb6670e0019df885",
            "placeholder": "​",
            "style": "IPY_MODEL_65241a540582419b892e0e41095cd385",
            "value": " 570/570 [00:00&lt;00:00, 51.4kB/s]"
          }
        },
        "6aae30fc3ab54f8d808ac693707d6f4e": {
          "model_module": "@jupyter-widgets/base",
          "model_name": "LayoutModel",
          "model_module_version": "1.2.0",
          "state": {
            "_model_module": "@jupyter-widgets/base",
            "_model_module_version": "1.2.0",
            "_model_name": "LayoutModel",
            "_view_count": null,
            "_view_module": "@jupyter-widgets/base",
            "_view_module_version": "1.2.0",
            "_view_name": "LayoutView",
            "align_content": null,
            "align_items": null,
            "align_self": null,
            "border": null,
            "bottom": null,
            "display": null,
            "flex": null,
            "flex_flow": null,
            "grid_area": null,
            "grid_auto_columns": null,
            "grid_auto_flow": null,
            "grid_auto_rows": null,
            "grid_column": null,
            "grid_gap": null,
            "grid_row": null,
            "grid_template_areas": null,
            "grid_template_columns": null,
            "grid_template_rows": null,
            "height": null,
            "justify_content": null,
            "justify_items": null,
            "left": null,
            "margin": null,
            "max_height": null,
            "max_width": null,
            "min_height": null,
            "min_width": null,
            "object_fit": null,
            "object_position": null,
            "order": null,
            "overflow": null,
            "overflow_x": null,
            "overflow_y": null,
            "padding": null,
            "right": null,
            "top": null,
            "visibility": null,
            "width": null
          }
        },
        "b36eb47aa41942278af0bffa06f4aeba": {
          "model_module": "@jupyter-widgets/base",
          "model_name": "LayoutModel",
          "model_module_version": "1.2.0",
          "state": {
            "_model_module": "@jupyter-widgets/base",
            "_model_module_version": "1.2.0",
            "_model_name": "LayoutModel",
            "_view_count": null,
            "_view_module": "@jupyter-widgets/base",
            "_view_module_version": "1.2.0",
            "_view_name": "LayoutView",
            "align_content": null,
            "align_items": null,
            "align_self": null,
            "border": null,
            "bottom": null,
            "display": null,
            "flex": null,
            "flex_flow": null,
            "grid_area": null,
            "grid_auto_columns": null,
            "grid_auto_flow": null,
            "grid_auto_rows": null,
            "grid_column": null,
            "grid_gap": null,
            "grid_row": null,
            "grid_template_areas": null,
            "grid_template_columns": null,
            "grid_template_rows": null,
            "height": null,
            "justify_content": null,
            "justify_items": null,
            "left": null,
            "margin": null,
            "max_height": null,
            "max_width": null,
            "min_height": null,
            "min_width": null,
            "object_fit": null,
            "object_position": null,
            "order": null,
            "overflow": null,
            "overflow_x": null,
            "overflow_y": null,
            "padding": null,
            "right": null,
            "top": null,
            "visibility": null,
            "width": null
          }
        },
        "8654d26f98b34721aa97a01565894f66": {
          "model_module": "@jupyter-widgets/controls",
          "model_name": "DescriptionStyleModel",
          "model_module_version": "1.5.0",
          "state": {
            "_model_module": "@jupyter-widgets/controls",
            "_model_module_version": "1.5.0",
            "_model_name": "DescriptionStyleModel",
            "_view_count": null,
            "_view_module": "@jupyter-widgets/base",
            "_view_module_version": "1.2.0",
            "_view_name": "StyleView",
            "description_width": ""
          }
        },
        "e108928f4b1946eba0a29e162d703c51": {
          "model_module": "@jupyter-widgets/base",
          "model_name": "LayoutModel",
          "model_module_version": "1.2.0",
          "state": {
            "_model_module": "@jupyter-widgets/base",
            "_model_module_version": "1.2.0",
            "_model_name": "LayoutModel",
            "_view_count": null,
            "_view_module": "@jupyter-widgets/base",
            "_view_module_version": "1.2.0",
            "_view_name": "LayoutView",
            "align_content": null,
            "align_items": null,
            "align_self": null,
            "border": null,
            "bottom": null,
            "display": null,
            "flex": null,
            "flex_flow": null,
            "grid_area": null,
            "grid_auto_columns": null,
            "grid_auto_flow": null,
            "grid_auto_rows": null,
            "grid_column": null,
            "grid_gap": null,
            "grid_row": null,
            "grid_template_areas": null,
            "grid_template_columns": null,
            "grid_template_rows": null,
            "height": null,
            "justify_content": null,
            "justify_items": null,
            "left": null,
            "margin": null,
            "max_height": null,
            "max_width": null,
            "min_height": null,
            "min_width": null,
            "object_fit": null,
            "object_position": null,
            "order": null,
            "overflow": null,
            "overflow_x": null,
            "overflow_y": null,
            "padding": null,
            "right": null,
            "top": null,
            "visibility": null,
            "width": null
          }
        },
        "f7f83e181b21460885587bf829f82423": {
          "model_module": "@jupyter-widgets/controls",
          "model_name": "ProgressStyleModel",
          "model_module_version": "1.5.0",
          "state": {
            "_model_module": "@jupyter-widgets/controls",
            "_model_module_version": "1.5.0",
            "_model_name": "ProgressStyleModel",
            "_view_count": null,
            "_view_module": "@jupyter-widgets/base",
            "_view_module_version": "1.2.0",
            "_view_name": "StyleView",
            "bar_color": null,
            "description_width": ""
          }
        },
        "58fca59ca0394568bb6670e0019df885": {
          "model_module": "@jupyter-widgets/base",
          "model_name": "LayoutModel",
          "model_module_version": "1.2.0",
          "state": {
            "_model_module": "@jupyter-widgets/base",
            "_model_module_version": "1.2.0",
            "_model_name": "LayoutModel",
            "_view_count": null,
            "_view_module": "@jupyter-widgets/base",
            "_view_module_version": "1.2.0",
            "_view_name": "LayoutView",
            "align_content": null,
            "align_items": null,
            "align_self": null,
            "border": null,
            "bottom": null,
            "display": null,
            "flex": null,
            "flex_flow": null,
            "grid_area": null,
            "grid_auto_columns": null,
            "grid_auto_flow": null,
            "grid_auto_rows": null,
            "grid_column": null,
            "grid_gap": null,
            "grid_row": null,
            "grid_template_areas": null,
            "grid_template_columns": null,
            "grid_template_rows": null,
            "height": null,
            "justify_content": null,
            "justify_items": null,
            "left": null,
            "margin": null,
            "max_height": null,
            "max_width": null,
            "min_height": null,
            "min_width": null,
            "object_fit": null,
            "object_position": null,
            "order": null,
            "overflow": null,
            "overflow_x": null,
            "overflow_y": null,
            "padding": null,
            "right": null,
            "top": null,
            "visibility": null,
            "width": null
          }
        },
        "65241a540582419b892e0e41095cd385": {
          "model_module": "@jupyter-widgets/controls",
          "model_name": "DescriptionStyleModel",
          "model_module_version": "1.5.0",
          "state": {
            "_model_module": "@jupyter-widgets/controls",
            "_model_module_version": "1.5.0",
            "_model_name": "DescriptionStyleModel",
            "_view_count": null,
            "_view_module": "@jupyter-widgets/base",
            "_view_module_version": "1.2.0",
            "_view_name": "StyleView",
            "description_width": ""
          }
        },
        "69c4e18c06af480bbbf0e31cd5a729c9": {
          "model_module": "@jupyter-widgets/controls",
          "model_name": "HBoxModel",
          "model_module_version": "1.5.0",
          "state": {
            "_dom_classes": [],
            "_model_module": "@jupyter-widgets/controls",
            "_model_module_version": "1.5.0",
            "_model_name": "HBoxModel",
            "_view_count": null,
            "_view_module": "@jupyter-widgets/controls",
            "_view_module_version": "1.5.0",
            "_view_name": "HBoxView",
            "box_style": "",
            "children": [
              "IPY_MODEL_f43d2f72f57d4d518c892b64722f34d5",
              "IPY_MODEL_18063c61e95d4d89b60ea24b3ad42c0c",
              "IPY_MODEL_0772a361f750415ead849c7343bd40d6"
            ],
            "layout": "IPY_MODEL_9a0e4f98b6c84ad5a25d15cc0951c5b7"
          }
        },
        "f43d2f72f57d4d518c892b64722f34d5": {
          "model_module": "@jupyter-widgets/controls",
          "model_name": "HTMLModel",
          "model_module_version": "1.5.0",
          "state": {
            "_dom_classes": [],
            "_model_module": "@jupyter-widgets/controls",
            "_model_module_version": "1.5.0",
            "_model_name": "HTMLModel",
            "_view_count": null,
            "_view_module": "@jupyter-widgets/controls",
            "_view_module_version": "1.5.0",
            "_view_name": "HTMLView",
            "description": "",
            "description_tooltip": null,
            "layout": "IPY_MODEL_41a86ad8693b4801a4f893a739b24dc8",
            "placeholder": "​",
            "style": "IPY_MODEL_438a711788cb472cbd7915ad32accf01",
            "value": "Downloading pytorch_model.bin: 100%"
          }
        },
        "18063c61e95d4d89b60ea24b3ad42c0c": {
          "model_module": "@jupyter-widgets/controls",
          "model_name": "FloatProgressModel",
          "model_module_version": "1.5.0",
          "state": {
            "_dom_classes": [],
            "_model_module": "@jupyter-widgets/controls",
            "_model_module_version": "1.5.0",
            "_model_name": "FloatProgressModel",
            "_view_count": null,
            "_view_module": "@jupyter-widgets/controls",
            "_view_module_version": "1.5.0",
            "_view_name": "ProgressView",
            "bar_style": "success",
            "description": "",
            "description_tooltip": null,
            "layout": "IPY_MODEL_83befdf66c2a4c218e5e9da1bfc9b94b",
            "max": 440473133,
            "min": 0,
            "orientation": "horizontal",
            "style": "IPY_MODEL_44f29f8b78d140a09165fd32678aabbc",
            "value": 440473133
          }
        },
        "0772a361f750415ead849c7343bd40d6": {
          "model_module": "@jupyter-widgets/controls",
          "model_name": "HTMLModel",
          "model_module_version": "1.5.0",
          "state": {
            "_dom_classes": [],
            "_model_module": "@jupyter-widgets/controls",
            "_model_module_version": "1.5.0",
            "_model_name": "HTMLModel",
            "_view_count": null,
            "_view_module": "@jupyter-widgets/controls",
            "_view_module_version": "1.5.0",
            "_view_name": "HTMLView",
            "description": "",
            "description_tooltip": null,
            "layout": "IPY_MODEL_420f27ed1ed947eca154ce2ac257526a",
            "placeholder": "​",
            "style": "IPY_MODEL_be31f52d7e4d4459a92c410a94dd7a78",
            "value": " 440M/440M [00:00&lt;00:00, 587MB/s]"
          }
        },
        "9a0e4f98b6c84ad5a25d15cc0951c5b7": {
          "model_module": "@jupyter-widgets/base",
          "model_name": "LayoutModel",
          "model_module_version": "1.2.0",
          "state": {
            "_model_module": "@jupyter-widgets/base",
            "_model_module_version": "1.2.0",
            "_model_name": "LayoutModel",
            "_view_count": null,
            "_view_module": "@jupyter-widgets/base",
            "_view_module_version": "1.2.0",
            "_view_name": "LayoutView",
            "align_content": null,
            "align_items": null,
            "align_self": null,
            "border": null,
            "bottom": null,
            "display": null,
            "flex": null,
            "flex_flow": null,
            "grid_area": null,
            "grid_auto_columns": null,
            "grid_auto_flow": null,
            "grid_auto_rows": null,
            "grid_column": null,
            "grid_gap": null,
            "grid_row": null,
            "grid_template_areas": null,
            "grid_template_columns": null,
            "grid_template_rows": null,
            "height": null,
            "justify_content": null,
            "justify_items": null,
            "left": null,
            "margin": null,
            "max_height": null,
            "max_width": null,
            "min_height": null,
            "min_width": null,
            "object_fit": null,
            "object_position": null,
            "order": null,
            "overflow": null,
            "overflow_x": null,
            "overflow_y": null,
            "padding": null,
            "right": null,
            "top": null,
            "visibility": null,
            "width": null
          }
        },
        "41a86ad8693b4801a4f893a739b24dc8": {
          "model_module": "@jupyter-widgets/base",
          "model_name": "LayoutModel",
          "model_module_version": "1.2.0",
          "state": {
            "_model_module": "@jupyter-widgets/base",
            "_model_module_version": "1.2.0",
            "_model_name": "LayoutModel",
            "_view_count": null,
            "_view_module": "@jupyter-widgets/base",
            "_view_module_version": "1.2.0",
            "_view_name": "LayoutView",
            "align_content": null,
            "align_items": null,
            "align_self": null,
            "border": null,
            "bottom": null,
            "display": null,
            "flex": null,
            "flex_flow": null,
            "grid_area": null,
            "grid_auto_columns": null,
            "grid_auto_flow": null,
            "grid_auto_rows": null,
            "grid_column": null,
            "grid_gap": null,
            "grid_row": null,
            "grid_template_areas": null,
            "grid_template_columns": null,
            "grid_template_rows": null,
            "height": null,
            "justify_content": null,
            "justify_items": null,
            "left": null,
            "margin": null,
            "max_height": null,
            "max_width": null,
            "min_height": null,
            "min_width": null,
            "object_fit": null,
            "object_position": null,
            "order": null,
            "overflow": null,
            "overflow_x": null,
            "overflow_y": null,
            "padding": null,
            "right": null,
            "top": null,
            "visibility": null,
            "width": null
          }
        },
        "438a711788cb472cbd7915ad32accf01": {
          "model_module": "@jupyter-widgets/controls",
          "model_name": "DescriptionStyleModel",
          "model_module_version": "1.5.0",
          "state": {
            "_model_module": "@jupyter-widgets/controls",
            "_model_module_version": "1.5.0",
            "_model_name": "DescriptionStyleModel",
            "_view_count": null,
            "_view_module": "@jupyter-widgets/base",
            "_view_module_version": "1.2.0",
            "_view_name": "StyleView",
            "description_width": ""
          }
        },
        "83befdf66c2a4c218e5e9da1bfc9b94b": {
          "model_module": "@jupyter-widgets/base",
          "model_name": "LayoutModel",
          "model_module_version": "1.2.0",
          "state": {
            "_model_module": "@jupyter-widgets/base",
            "_model_module_version": "1.2.0",
            "_model_name": "LayoutModel",
            "_view_count": null,
            "_view_module": "@jupyter-widgets/base",
            "_view_module_version": "1.2.0",
            "_view_name": "LayoutView",
            "align_content": null,
            "align_items": null,
            "align_self": null,
            "border": null,
            "bottom": null,
            "display": null,
            "flex": null,
            "flex_flow": null,
            "grid_area": null,
            "grid_auto_columns": null,
            "grid_auto_flow": null,
            "grid_auto_rows": null,
            "grid_column": null,
            "grid_gap": null,
            "grid_row": null,
            "grid_template_areas": null,
            "grid_template_columns": null,
            "grid_template_rows": null,
            "height": null,
            "justify_content": null,
            "justify_items": null,
            "left": null,
            "margin": null,
            "max_height": null,
            "max_width": null,
            "min_height": null,
            "min_width": null,
            "object_fit": null,
            "object_position": null,
            "order": null,
            "overflow": null,
            "overflow_x": null,
            "overflow_y": null,
            "padding": null,
            "right": null,
            "top": null,
            "visibility": null,
            "width": null
          }
        },
        "44f29f8b78d140a09165fd32678aabbc": {
          "model_module": "@jupyter-widgets/controls",
          "model_name": "ProgressStyleModel",
          "model_module_version": "1.5.0",
          "state": {
            "_model_module": "@jupyter-widgets/controls",
            "_model_module_version": "1.5.0",
            "_model_name": "ProgressStyleModel",
            "_view_count": null,
            "_view_module": "@jupyter-widgets/base",
            "_view_module_version": "1.2.0",
            "_view_name": "StyleView",
            "bar_color": null,
            "description_width": ""
          }
        },
        "420f27ed1ed947eca154ce2ac257526a": {
          "model_module": "@jupyter-widgets/base",
          "model_name": "LayoutModel",
          "model_module_version": "1.2.0",
          "state": {
            "_model_module": "@jupyter-widgets/base",
            "_model_module_version": "1.2.0",
            "_model_name": "LayoutModel",
            "_view_count": null,
            "_view_module": "@jupyter-widgets/base",
            "_view_module_version": "1.2.0",
            "_view_name": "LayoutView",
            "align_content": null,
            "align_items": null,
            "align_self": null,
            "border": null,
            "bottom": null,
            "display": null,
            "flex": null,
            "flex_flow": null,
            "grid_area": null,
            "grid_auto_columns": null,
            "grid_auto_flow": null,
            "grid_auto_rows": null,
            "grid_column": null,
            "grid_gap": null,
            "grid_row": null,
            "grid_template_areas": null,
            "grid_template_columns": null,
            "grid_template_rows": null,
            "height": null,
            "justify_content": null,
            "justify_items": null,
            "left": null,
            "margin": null,
            "max_height": null,
            "max_width": null,
            "min_height": null,
            "min_width": null,
            "object_fit": null,
            "object_position": null,
            "order": null,
            "overflow": null,
            "overflow_x": null,
            "overflow_y": null,
            "padding": null,
            "right": null,
            "top": null,
            "visibility": null,
            "width": null
          }
        },
        "be31f52d7e4d4459a92c410a94dd7a78": {
          "model_module": "@jupyter-widgets/controls",
          "model_name": "DescriptionStyleModel",
          "model_module_version": "1.5.0",
          "state": {
            "_model_module": "@jupyter-widgets/controls",
            "_model_module_version": "1.5.0",
            "_model_name": "DescriptionStyleModel",
            "_view_count": null,
            "_view_module": "@jupyter-widgets/base",
            "_view_module_version": "1.2.0",
            "_view_name": "StyleView",
            "description_width": ""
          }
        }
      }
    }
  },
  "nbformat": 4,
  "nbformat_minor": 0
}