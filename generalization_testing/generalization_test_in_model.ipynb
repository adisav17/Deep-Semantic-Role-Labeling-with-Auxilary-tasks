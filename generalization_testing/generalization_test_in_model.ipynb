{
  "nbformat": 4,
  "nbformat_minor": 0,
  "metadata": {
    "colab": {
      "provenance": [],
      "machine_shape": "hm",
      "gpuType": "A100"
    },
    "kernelspec": {
      "name": "python3",
      "display_name": "Python 3"
    },
    "language_info": {
      "name": "python"
    },
    "accelerator": "GPU",
    "gpuClass": "standard",
    "widgets": {
      "application/vnd.jupyter.widget-state+json": {
        "6d0ecd39b06440c58a8a523d9f01079e": {
          "model_module": "@jupyter-widgets/controls",
          "model_name": "HBoxModel",
          "model_module_version": "1.5.0",
          "state": {
            "_dom_classes": [],
            "_model_module": "@jupyter-widgets/controls",
            "_model_module_version": "1.5.0",
            "_model_name": "HBoxModel",
            "_view_count": null,
            "_view_module": "@jupyter-widgets/controls",
            "_view_module_version": "1.5.0",
            "_view_name": "HBoxView",
            "box_style": "",
            "children": [
              "IPY_MODEL_785f221413c3400cb9cc6ea8ff4751e3",
              "IPY_MODEL_721d7f8c69ea43509e2400bc5336fcd7",
              "IPY_MODEL_b917dc106dbf445793cab09e61a5dd21"
            ],
            "layout": "IPY_MODEL_1b9c36ae31e34405b1fe614946ea4dfb"
          }
        },
        "785f221413c3400cb9cc6ea8ff4751e3": {
          "model_module": "@jupyter-widgets/controls",
          "model_name": "HTMLModel",
          "model_module_version": "1.5.0",
          "state": {
            "_dom_classes": [],
            "_model_module": "@jupyter-widgets/controls",
            "_model_module_version": "1.5.0",
            "_model_name": "HTMLModel",
            "_view_count": null,
            "_view_module": "@jupyter-widgets/controls",
            "_view_module_version": "1.5.0",
            "_view_name": "HTMLView",
            "description": "",
            "description_tooltip": null,
            "layout": "IPY_MODEL_e06e3d340eae4d3eac8d7a1b8934b2e9",
            "placeholder": "​",
            "style": "IPY_MODEL_146fc4a7b45f476a9e8481c591cc599b",
            "value": "Downloading (…)solve/main/vocab.txt: 100%"
          }
        },
        "721d7f8c69ea43509e2400bc5336fcd7": {
          "model_module": "@jupyter-widgets/controls",
          "model_name": "FloatProgressModel",
          "model_module_version": "1.5.0",
          "state": {
            "_dom_classes": [],
            "_model_module": "@jupyter-widgets/controls",
            "_model_module_version": "1.5.0",
            "_model_name": "FloatProgressModel",
            "_view_count": null,
            "_view_module": "@jupyter-widgets/controls",
            "_view_module_version": "1.5.0",
            "_view_name": "ProgressView",
            "bar_style": "success",
            "description": "",
            "description_tooltip": null,
            "layout": "IPY_MODEL_9d13fb573675416a91c1043942b31e17",
            "max": 231508,
            "min": 0,
            "orientation": "horizontal",
            "style": "IPY_MODEL_33883b2298104dbf94737537e268da7f",
            "value": 231508
          }
        },
        "b917dc106dbf445793cab09e61a5dd21": {
          "model_module": "@jupyter-widgets/controls",
          "model_name": "HTMLModel",
          "model_module_version": "1.5.0",
          "state": {
            "_dom_classes": [],
            "_model_module": "@jupyter-widgets/controls",
            "_model_module_version": "1.5.0",
            "_model_name": "HTMLModel",
            "_view_count": null,
            "_view_module": "@jupyter-widgets/controls",
            "_view_module_version": "1.5.0",
            "_view_name": "HTMLView",
            "description": "",
            "description_tooltip": null,
            "layout": "IPY_MODEL_13ba65aeda4d4013a19ebcfda61c3c7e",
            "placeholder": "​",
            "style": "IPY_MODEL_c729f6514e524d6786245729e69132ab",
            "value": " 232k/232k [00:00&lt;00:00, 544kB/s]"
          }
        },
        "1b9c36ae31e34405b1fe614946ea4dfb": {
          "model_module": "@jupyter-widgets/base",
          "model_name": "LayoutModel",
          "model_module_version": "1.2.0",
          "state": {
            "_model_module": "@jupyter-widgets/base",
            "_model_module_version": "1.2.0",
            "_model_name": "LayoutModel",
            "_view_count": null,
            "_view_module": "@jupyter-widgets/base",
            "_view_module_version": "1.2.0",
            "_view_name": "LayoutView",
            "align_content": null,
            "align_items": null,
            "align_self": null,
            "border": null,
            "bottom": null,
            "display": null,
            "flex": null,
            "flex_flow": null,
            "grid_area": null,
            "grid_auto_columns": null,
            "grid_auto_flow": null,
            "grid_auto_rows": null,
            "grid_column": null,
            "grid_gap": null,
            "grid_row": null,
            "grid_template_areas": null,
            "grid_template_columns": null,
            "grid_template_rows": null,
            "height": null,
            "justify_content": null,
            "justify_items": null,
            "left": null,
            "margin": null,
            "max_height": null,
            "max_width": null,
            "min_height": null,
            "min_width": null,
            "object_fit": null,
            "object_position": null,
            "order": null,
            "overflow": null,
            "overflow_x": null,
            "overflow_y": null,
            "padding": null,
            "right": null,
            "top": null,
            "visibility": null,
            "width": null
          }
        },
        "e06e3d340eae4d3eac8d7a1b8934b2e9": {
          "model_module": "@jupyter-widgets/base",
          "model_name": "LayoutModel",
          "model_module_version": "1.2.0",
          "state": {
            "_model_module": "@jupyter-widgets/base",
            "_model_module_version": "1.2.0",
            "_model_name": "LayoutModel",
            "_view_count": null,
            "_view_module": "@jupyter-widgets/base",
            "_view_module_version": "1.2.0",
            "_view_name": "LayoutView",
            "align_content": null,
            "align_items": null,
            "align_self": null,
            "border": null,
            "bottom": null,
            "display": null,
            "flex": null,
            "flex_flow": null,
            "grid_area": null,
            "grid_auto_columns": null,
            "grid_auto_flow": null,
            "grid_auto_rows": null,
            "grid_column": null,
            "grid_gap": null,
            "grid_row": null,
            "grid_template_areas": null,
            "grid_template_columns": null,
            "grid_template_rows": null,
            "height": null,
            "justify_content": null,
            "justify_items": null,
            "left": null,
            "margin": null,
            "max_height": null,
            "max_width": null,
            "min_height": null,
            "min_width": null,
            "object_fit": null,
            "object_position": null,
            "order": null,
            "overflow": null,
            "overflow_x": null,
            "overflow_y": null,
            "padding": null,
            "right": null,
            "top": null,
            "visibility": null,
            "width": null
          }
        },
        "146fc4a7b45f476a9e8481c591cc599b": {
          "model_module": "@jupyter-widgets/controls",
          "model_name": "DescriptionStyleModel",
          "model_module_version": "1.5.0",
          "state": {
            "_model_module": "@jupyter-widgets/controls",
            "_model_module_version": "1.5.0",
            "_model_name": "DescriptionStyleModel",
            "_view_count": null,
            "_view_module": "@jupyter-widgets/base",
            "_view_module_version": "1.2.0",
            "_view_name": "StyleView",
            "description_width": ""
          }
        },
        "9d13fb573675416a91c1043942b31e17": {
          "model_module": "@jupyter-widgets/base",
          "model_name": "LayoutModel",
          "model_module_version": "1.2.0",
          "state": {
            "_model_module": "@jupyter-widgets/base",
            "_model_module_version": "1.2.0",
            "_model_name": "LayoutModel",
            "_view_count": null,
            "_view_module": "@jupyter-widgets/base",
            "_view_module_version": "1.2.0",
            "_view_name": "LayoutView",
            "align_content": null,
            "align_items": null,
            "align_self": null,
            "border": null,
            "bottom": null,
            "display": null,
            "flex": null,
            "flex_flow": null,
            "grid_area": null,
            "grid_auto_columns": null,
            "grid_auto_flow": null,
            "grid_auto_rows": null,
            "grid_column": null,
            "grid_gap": null,
            "grid_row": null,
            "grid_template_areas": null,
            "grid_template_columns": null,
            "grid_template_rows": null,
            "height": null,
            "justify_content": null,
            "justify_items": null,
            "left": null,
            "margin": null,
            "max_height": null,
            "max_width": null,
            "min_height": null,
            "min_width": null,
            "object_fit": null,
            "object_position": null,
            "order": null,
            "overflow": null,
            "overflow_x": null,
            "overflow_y": null,
            "padding": null,
            "right": null,
            "top": null,
            "visibility": null,
            "width": null
          }
        },
        "33883b2298104dbf94737537e268da7f": {
          "model_module": "@jupyter-widgets/controls",
          "model_name": "ProgressStyleModel",
          "model_module_version": "1.5.0",
          "state": {
            "_model_module": "@jupyter-widgets/controls",
            "_model_module_version": "1.5.0",
            "_model_name": "ProgressStyleModel",
            "_view_count": null,
            "_view_module": "@jupyter-widgets/base",
            "_view_module_version": "1.2.0",
            "_view_name": "StyleView",
            "bar_color": null,
            "description_width": ""
          }
        },
        "13ba65aeda4d4013a19ebcfda61c3c7e": {
          "model_module": "@jupyter-widgets/base",
          "model_name": "LayoutModel",
          "model_module_version": "1.2.0",
          "state": {
            "_model_module": "@jupyter-widgets/base",
            "_model_module_version": "1.2.0",
            "_model_name": "LayoutModel",
            "_view_count": null,
            "_view_module": "@jupyter-widgets/base",
            "_view_module_version": "1.2.0",
            "_view_name": "LayoutView",
            "align_content": null,
            "align_items": null,
            "align_self": null,
            "border": null,
            "bottom": null,
            "display": null,
            "flex": null,
            "flex_flow": null,
            "grid_area": null,
            "grid_auto_columns": null,
            "grid_auto_flow": null,
            "grid_auto_rows": null,
            "grid_column": null,
            "grid_gap": null,
            "grid_row": null,
            "grid_template_areas": null,
            "grid_template_columns": null,
            "grid_template_rows": null,
            "height": null,
            "justify_content": null,
            "justify_items": null,
            "left": null,
            "margin": null,
            "max_height": null,
            "max_width": null,
            "min_height": null,
            "min_width": null,
            "object_fit": null,
            "object_position": null,
            "order": null,
            "overflow": null,
            "overflow_x": null,
            "overflow_y": null,
            "padding": null,
            "right": null,
            "top": null,
            "visibility": null,
            "width": null
          }
        },
        "c729f6514e524d6786245729e69132ab": {
          "model_module": "@jupyter-widgets/controls",
          "model_name": "DescriptionStyleModel",
          "model_module_version": "1.5.0",
          "state": {
            "_model_module": "@jupyter-widgets/controls",
            "_model_module_version": "1.5.0",
            "_model_name": "DescriptionStyleModel",
            "_view_count": null,
            "_view_module": "@jupyter-widgets/base",
            "_view_module_version": "1.2.0",
            "_view_name": "StyleView",
            "description_width": ""
          }
        },
        "e55818e047e042929beeff0711e10654": {
          "model_module": "@jupyter-widgets/controls",
          "model_name": "HBoxModel",
          "model_module_version": "1.5.0",
          "state": {
            "_dom_classes": [],
            "_model_module": "@jupyter-widgets/controls",
            "_model_module_version": "1.5.0",
            "_model_name": "HBoxModel",
            "_view_count": null,
            "_view_module": "@jupyter-widgets/controls",
            "_view_module_version": "1.5.0",
            "_view_name": "HBoxView",
            "box_style": "",
            "children": [
              "IPY_MODEL_3a8610dab8c2424eb44c25d7038dcd45",
              "IPY_MODEL_b1b0d7517e4c49efae269b0aac30ad17",
              "IPY_MODEL_bca0958d5bdc467e83ac7c4d82898b2c"
            ],
            "layout": "IPY_MODEL_8643e77fb1ae4210995ca1d38613418e"
          }
        },
        "3a8610dab8c2424eb44c25d7038dcd45": {
          "model_module": "@jupyter-widgets/controls",
          "model_name": "HTMLModel",
          "model_module_version": "1.5.0",
          "state": {
            "_dom_classes": [],
            "_model_module": "@jupyter-widgets/controls",
            "_model_module_version": "1.5.0",
            "_model_name": "HTMLModel",
            "_view_count": null,
            "_view_module": "@jupyter-widgets/controls",
            "_view_module_version": "1.5.0",
            "_view_name": "HTMLView",
            "description": "",
            "description_tooltip": null,
            "layout": "IPY_MODEL_f24bf336f87e48bbb0081262c52016cc",
            "placeholder": "​",
            "style": "IPY_MODEL_8b0ee5db7d244bfa9eb7406d87dffa4f",
            "value": "Downloading (…)okenizer_config.json: 100%"
          }
        },
        "b1b0d7517e4c49efae269b0aac30ad17": {
          "model_module": "@jupyter-widgets/controls",
          "model_name": "FloatProgressModel",
          "model_module_version": "1.5.0",
          "state": {
            "_dom_classes": [],
            "_model_module": "@jupyter-widgets/controls",
            "_model_module_version": "1.5.0",
            "_model_name": "FloatProgressModel",
            "_view_count": null,
            "_view_module": "@jupyter-widgets/controls",
            "_view_module_version": "1.5.0",
            "_view_name": "ProgressView",
            "bar_style": "success",
            "description": "",
            "description_tooltip": null,
            "layout": "IPY_MODEL_d9a604028881464c9e0d27fa46a9c353",
            "max": 28,
            "min": 0,
            "orientation": "horizontal",
            "style": "IPY_MODEL_ce766a57ac61480a8eaf85d42267b825",
            "value": 28
          }
        },
        "bca0958d5bdc467e83ac7c4d82898b2c": {
          "model_module": "@jupyter-widgets/controls",
          "model_name": "HTMLModel",
          "model_module_version": "1.5.0",
          "state": {
            "_dom_classes": [],
            "_model_module": "@jupyter-widgets/controls",
            "_model_module_version": "1.5.0",
            "_model_name": "HTMLModel",
            "_view_count": null,
            "_view_module": "@jupyter-widgets/controls",
            "_view_module_version": "1.5.0",
            "_view_name": "HTMLView",
            "description": "",
            "description_tooltip": null,
            "layout": "IPY_MODEL_251a074a8e2449889d311e6da6b04006",
            "placeholder": "​",
            "style": "IPY_MODEL_350c816a1cb246268be7cbb2748c5ed9",
            "value": " 28.0/28.0 [00:00&lt;00:00, 2.52kB/s]"
          }
        },
        "8643e77fb1ae4210995ca1d38613418e": {
          "model_module": "@jupyter-widgets/base",
          "model_name": "LayoutModel",
          "model_module_version": "1.2.0",
          "state": {
            "_model_module": "@jupyter-widgets/base",
            "_model_module_version": "1.2.0",
            "_model_name": "LayoutModel",
            "_view_count": null,
            "_view_module": "@jupyter-widgets/base",
            "_view_module_version": "1.2.0",
            "_view_name": "LayoutView",
            "align_content": null,
            "align_items": null,
            "align_self": null,
            "border": null,
            "bottom": null,
            "display": null,
            "flex": null,
            "flex_flow": null,
            "grid_area": null,
            "grid_auto_columns": null,
            "grid_auto_flow": null,
            "grid_auto_rows": null,
            "grid_column": null,
            "grid_gap": null,
            "grid_row": null,
            "grid_template_areas": null,
            "grid_template_columns": null,
            "grid_template_rows": null,
            "height": null,
            "justify_content": null,
            "justify_items": null,
            "left": null,
            "margin": null,
            "max_height": null,
            "max_width": null,
            "min_height": null,
            "min_width": null,
            "object_fit": null,
            "object_position": null,
            "order": null,
            "overflow": null,
            "overflow_x": null,
            "overflow_y": null,
            "padding": null,
            "right": null,
            "top": null,
            "visibility": null,
            "width": null
          }
        },
        "f24bf336f87e48bbb0081262c52016cc": {
          "model_module": "@jupyter-widgets/base",
          "model_name": "LayoutModel",
          "model_module_version": "1.2.0",
          "state": {
            "_model_module": "@jupyter-widgets/base",
            "_model_module_version": "1.2.0",
            "_model_name": "LayoutModel",
            "_view_count": null,
            "_view_module": "@jupyter-widgets/base",
            "_view_module_version": "1.2.0",
            "_view_name": "LayoutView",
            "align_content": null,
            "align_items": null,
            "align_self": null,
            "border": null,
            "bottom": null,
            "display": null,
            "flex": null,
            "flex_flow": null,
            "grid_area": null,
            "grid_auto_columns": null,
            "grid_auto_flow": null,
            "grid_auto_rows": null,
            "grid_column": null,
            "grid_gap": null,
            "grid_row": null,
            "grid_template_areas": null,
            "grid_template_columns": null,
            "grid_template_rows": null,
            "height": null,
            "justify_content": null,
            "justify_items": null,
            "left": null,
            "margin": null,
            "max_height": null,
            "max_width": null,
            "min_height": null,
            "min_width": null,
            "object_fit": null,
            "object_position": null,
            "order": null,
            "overflow": null,
            "overflow_x": null,
            "overflow_y": null,
            "padding": null,
            "right": null,
            "top": null,
            "visibility": null,
            "width": null
          }
        },
        "8b0ee5db7d244bfa9eb7406d87dffa4f": {
          "model_module": "@jupyter-widgets/controls",
          "model_name": "DescriptionStyleModel",
          "model_module_version": "1.5.0",
          "state": {
            "_model_module": "@jupyter-widgets/controls",
            "_model_module_version": "1.5.0",
            "_model_name": "DescriptionStyleModel",
            "_view_count": null,
            "_view_module": "@jupyter-widgets/base",
            "_view_module_version": "1.2.0",
            "_view_name": "StyleView",
            "description_width": ""
          }
        },
        "d9a604028881464c9e0d27fa46a9c353": {
          "model_module": "@jupyter-widgets/base",
          "model_name": "LayoutModel",
          "model_module_version": "1.2.0",
          "state": {
            "_model_module": "@jupyter-widgets/base",
            "_model_module_version": "1.2.0",
            "_model_name": "LayoutModel",
            "_view_count": null,
            "_view_module": "@jupyter-widgets/base",
            "_view_module_version": "1.2.0",
            "_view_name": "LayoutView",
            "align_content": null,
            "align_items": null,
            "align_self": null,
            "border": null,
            "bottom": null,
            "display": null,
            "flex": null,
            "flex_flow": null,
            "grid_area": null,
            "grid_auto_columns": null,
            "grid_auto_flow": null,
            "grid_auto_rows": null,
            "grid_column": null,
            "grid_gap": null,
            "grid_row": null,
            "grid_template_areas": null,
            "grid_template_columns": null,
            "grid_template_rows": null,
            "height": null,
            "justify_content": null,
            "justify_items": null,
            "left": null,
            "margin": null,
            "max_height": null,
            "max_width": null,
            "min_height": null,
            "min_width": null,
            "object_fit": null,
            "object_position": null,
            "order": null,
            "overflow": null,
            "overflow_x": null,
            "overflow_y": null,
            "padding": null,
            "right": null,
            "top": null,
            "visibility": null,
            "width": null
          }
        },
        "ce766a57ac61480a8eaf85d42267b825": {
          "model_module": "@jupyter-widgets/controls",
          "model_name": "ProgressStyleModel",
          "model_module_version": "1.5.0",
          "state": {
            "_model_module": "@jupyter-widgets/controls",
            "_model_module_version": "1.5.0",
            "_model_name": "ProgressStyleModel",
            "_view_count": null,
            "_view_module": "@jupyter-widgets/base",
            "_view_module_version": "1.2.0",
            "_view_name": "StyleView",
            "bar_color": null,
            "description_width": ""
          }
        },
        "251a074a8e2449889d311e6da6b04006": {
          "model_module": "@jupyter-widgets/base",
          "model_name": "LayoutModel",
          "model_module_version": "1.2.0",
          "state": {
            "_model_module": "@jupyter-widgets/base",
            "_model_module_version": "1.2.0",
            "_model_name": "LayoutModel",
            "_view_count": null,
            "_view_module": "@jupyter-widgets/base",
            "_view_module_version": "1.2.0",
            "_view_name": "LayoutView",
            "align_content": null,
            "align_items": null,
            "align_self": null,
            "border": null,
            "bottom": null,
            "display": null,
            "flex": null,
            "flex_flow": null,
            "grid_area": null,
            "grid_auto_columns": null,
            "grid_auto_flow": null,
            "grid_auto_rows": null,
            "grid_column": null,
            "grid_gap": null,
            "grid_row": null,
            "grid_template_areas": null,
            "grid_template_columns": null,
            "grid_template_rows": null,
            "height": null,
            "justify_content": null,
            "justify_items": null,
            "left": null,
            "margin": null,
            "max_height": null,
            "max_width": null,
            "min_height": null,
            "min_width": null,
            "object_fit": null,
            "object_position": null,
            "order": null,
            "overflow": null,
            "overflow_x": null,
            "overflow_y": null,
            "padding": null,
            "right": null,
            "top": null,
            "visibility": null,
            "width": null
          }
        },
        "350c816a1cb246268be7cbb2748c5ed9": {
          "model_module": "@jupyter-widgets/controls",
          "model_name": "DescriptionStyleModel",
          "model_module_version": "1.5.0",
          "state": {
            "_model_module": "@jupyter-widgets/controls",
            "_model_module_version": "1.5.0",
            "_model_name": "DescriptionStyleModel",
            "_view_count": null,
            "_view_module": "@jupyter-widgets/base",
            "_view_module_version": "1.2.0",
            "_view_name": "StyleView",
            "description_width": ""
          }
        },
        "965a8dae2a254aefa68a8488957c24ac": {
          "model_module": "@jupyter-widgets/controls",
          "model_name": "HBoxModel",
          "model_module_version": "1.5.0",
          "state": {
            "_dom_classes": [],
            "_model_module": "@jupyter-widgets/controls",
            "_model_module_version": "1.5.0",
            "_model_name": "HBoxModel",
            "_view_count": null,
            "_view_module": "@jupyter-widgets/controls",
            "_view_module_version": "1.5.0",
            "_view_name": "HBoxView",
            "box_style": "",
            "children": [
              "IPY_MODEL_f5e09c16e192452c9f9463f7ba62b5ba",
              "IPY_MODEL_e59979ec15d5473d8daedbb9888e3b8f",
              "IPY_MODEL_c30e99c2a50448af9888f66e1b89a3dd"
            ],
            "layout": "IPY_MODEL_1fee474b21244c62a7d87300008388a4"
          }
        },
        "f5e09c16e192452c9f9463f7ba62b5ba": {
          "model_module": "@jupyter-widgets/controls",
          "model_name": "HTMLModel",
          "model_module_version": "1.5.0",
          "state": {
            "_dom_classes": [],
            "_model_module": "@jupyter-widgets/controls",
            "_model_module_version": "1.5.0",
            "_model_name": "HTMLModel",
            "_view_count": null,
            "_view_module": "@jupyter-widgets/controls",
            "_view_module_version": "1.5.0",
            "_view_name": "HTMLView",
            "description": "",
            "description_tooltip": null,
            "layout": "IPY_MODEL_9c9fc90afe024cfeb7ed00fe04f8e15e",
            "placeholder": "​",
            "style": "IPY_MODEL_a3e6752da20c4220b7d2db2319a1991c",
            "value": "Downloading (…)lve/main/config.json: 100%"
          }
        },
        "e59979ec15d5473d8daedbb9888e3b8f": {
          "model_module": "@jupyter-widgets/controls",
          "model_name": "FloatProgressModel",
          "model_module_version": "1.5.0",
          "state": {
            "_dom_classes": [],
            "_model_module": "@jupyter-widgets/controls",
            "_model_module_version": "1.5.0",
            "_model_name": "FloatProgressModel",
            "_view_count": null,
            "_view_module": "@jupyter-widgets/controls",
            "_view_module_version": "1.5.0",
            "_view_name": "ProgressView",
            "bar_style": "success",
            "description": "",
            "description_tooltip": null,
            "layout": "IPY_MODEL_8184e816183e4a79ba38d0a78f78826a",
            "max": 570,
            "min": 0,
            "orientation": "horizontal",
            "style": "IPY_MODEL_18653bebf90246ff986fb8b1b1d99ef7",
            "value": 570
          }
        },
        "c30e99c2a50448af9888f66e1b89a3dd": {
          "model_module": "@jupyter-widgets/controls",
          "model_name": "HTMLModel",
          "model_module_version": "1.5.0",
          "state": {
            "_dom_classes": [],
            "_model_module": "@jupyter-widgets/controls",
            "_model_module_version": "1.5.0",
            "_model_name": "HTMLModel",
            "_view_count": null,
            "_view_module": "@jupyter-widgets/controls",
            "_view_module_version": "1.5.0",
            "_view_name": "HTMLView",
            "description": "",
            "description_tooltip": null,
            "layout": "IPY_MODEL_ae46b70d61a04c2bbc29bd069781bf78",
            "placeholder": "​",
            "style": "IPY_MODEL_aa8c787072114b5aa999378c45b001f1",
            "value": " 570/570 [00:00&lt;00:00, 51.5kB/s]"
          }
        },
        "1fee474b21244c62a7d87300008388a4": {
          "model_module": "@jupyter-widgets/base",
          "model_name": "LayoutModel",
          "model_module_version": "1.2.0",
          "state": {
            "_model_module": "@jupyter-widgets/base",
            "_model_module_version": "1.2.0",
            "_model_name": "LayoutModel",
            "_view_count": null,
            "_view_module": "@jupyter-widgets/base",
            "_view_module_version": "1.2.0",
            "_view_name": "LayoutView",
            "align_content": null,
            "align_items": null,
            "align_self": null,
            "border": null,
            "bottom": null,
            "display": null,
            "flex": null,
            "flex_flow": null,
            "grid_area": null,
            "grid_auto_columns": null,
            "grid_auto_flow": null,
            "grid_auto_rows": null,
            "grid_column": null,
            "grid_gap": null,
            "grid_row": null,
            "grid_template_areas": null,
            "grid_template_columns": null,
            "grid_template_rows": null,
            "height": null,
            "justify_content": null,
            "justify_items": null,
            "left": null,
            "margin": null,
            "max_height": null,
            "max_width": null,
            "min_height": null,
            "min_width": null,
            "object_fit": null,
            "object_position": null,
            "order": null,
            "overflow": null,
            "overflow_x": null,
            "overflow_y": null,
            "padding": null,
            "right": null,
            "top": null,
            "visibility": null,
            "width": null
          }
        },
        "9c9fc90afe024cfeb7ed00fe04f8e15e": {
          "model_module": "@jupyter-widgets/base",
          "model_name": "LayoutModel",
          "model_module_version": "1.2.0",
          "state": {
            "_model_module": "@jupyter-widgets/base",
            "_model_module_version": "1.2.0",
            "_model_name": "LayoutModel",
            "_view_count": null,
            "_view_module": "@jupyter-widgets/base",
            "_view_module_version": "1.2.0",
            "_view_name": "LayoutView",
            "align_content": null,
            "align_items": null,
            "align_self": null,
            "border": null,
            "bottom": null,
            "display": null,
            "flex": null,
            "flex_flow": null,
            "grid_area": null,
            "grid_auto_columns": null,
            "grid_auto_flow": null,
            "grid_auto_rows": null,
            "grid_column": null,
            "grid_gap": null,
            "grid_row": null,
            "grid_template_areas": null,
            "grid_template_columns": null,
            "grid_template_rows": null,
            "height": null,
            "justify_content": null,
            "justify_items": null,
            "left": null,
            "margin": null,
            "max_height": null,
            "max_width": null,
            "min_height": null,
            "min_width": null,
            "object_fit": null,
            "object_position": null,
            "order": null,
            "overflow": null,
            "overflow_x": null,
            "overflow_y": null,
            "padding": null,
            "right": null,
            "top": null,
            "visibility": null,
            "width": null
          }
        },
        "a3e6752da20c4220b7d2db2319a1991c": {
          "model_module": "@jupyter-widgets/controls",
          "model_name": "DescriptionStyleModel",
          "model_module_version": "1.5.0",
          "state": {
            "_model_module": "@jupyter-widgets/controls",
            "_model_module_version": "1.5.0",
            "_model_name": "DescriptionStyleModel",
            "_view_count": null,
            "_view_module": "@jupyter-widgets/base",
            "_view_module_version": "1.2.0",
            "_view_name": "StyleView",
            "description_width": ""
          }
        },
        "8184e816183e4a79ba38d0a78f78826a": {
          "model_module": "@jupyter-widgets/base",
          "model_name": "LayoutModel",
          "model_module_version": "1.2.0",
          "state": {
            "_model_module": "@jupyter-widgets/base",
            "_model_module_version": "1.2.0",
            "_model_name": "LayoutModel",
            "_view_count": null,
            "_view_module": "@jupyter-widgets/base",
            "_view_module_version": "1.2.0",
            "_view_name": "LayoutView",
            "align_content": null,
            "align_items": null,
            "align_self": null,
            "border": null,
            "bottom": null,
            "display": null,
            "flex": null,
            "flex_flow": null,
            "grid_area": null,
            "grid_auto_columns": null,
            "grid_auto_flow": null,
            "grid_auto_rows": null,
            "grid_column": null,
            "grid_gap": null,
            "grid_row": null,
            "grid_template_areas": null,
            "grid_template_columns": null,
            "grid_template_rows": null,
            "height": null,
            "justify_content": null,
            "justify_items": null,
            "left": null,
            "margin": null,
            "max_height": null,
            "max_width": null,
            "min_height": null,
            "min_width": null,
            "object_fit": null,
            "object_position": null,
            "order": null,
            "overflow": null,
            "overflow_x": null,
            "overflow_y": null,
            "padding": null,
            "right": null,
            "top": null,
            "visibility": null,
            "width": null
          }
        },
        "18653bebf90246ff986fb8b1b1d99ef7": {
          "model_module": "@jupyter-widgets/controls",
          "model_name": "ProgressStyleModel",
          "model_module_version": "1.5.0",
          "state": {
            "_model_module": "@jupyter-widgets/controls",
            "_model_module_version": "1.5.0",
            "_model_name": "ProgressStyleModel",
            "_view_count": null,
            "_view_module": "@jupyter-widgets/base",
            "_view_module_version": "1.2.0",
            "_view_name": "StyleView",
            "bar_color": null,
            "description_width": ""
          }
        },
        "ae46b70d61a04c2bbc29bd069781bf78": {
          "model_module": "@jupyter-widgets/base",
          "model_name": "LayoutModel",
          "model_module_version": "1.2.0",
          "state": {
            "_model_module": "@jupyter-widgets/base",
            "_model_module_version": "1.2.0",
            "_model_name": "LayoutModel",
            "_view_count": null,
            "_view_module": "@jupyter-widgets/base",
            "_view_module_version": "1.2.0",
            "_view_name": "LayoutView",
            "align_content": null,
            "align_items": null,
            "align_self": null,
            "border": null,
            "bottom": null,
            "display": null,
            "flex": null,
            "flex_flow": null,
            "grid_area": null,
            "grid_auto_columns": null,
            "grid_auto_flow": null,
            "grid_auto_rows": null,
            "grid_column": null,
            "grid_gap": null,
            "grid_row": null,
            "grid_template_areas": null,
            "grid_template_columns": null,
            "grid_template_rows": null,
            "height": null,
            "justify_content": null,
            "justify_items": null,
            "left": null,
            "margin": null,
            "max_height": null,
            "max_width": null,
            "min_height": null,
            "min_width": null,
            "object_fit": null,
            "object_position": null,
            "order": null,
            "overflow": null,
            "overflow_x": null,
            "overflow_y": null,
            "padding": null,
            "right": null,
            "top": null,
            "visibility": null,
            "width": null
          }
        },
        "aa8c787072114b5aa999378c45b001f1": {
          "model_module": "@jupyter-widgets/controls",
          "model_name": "DescriptionStyleModel",
          "model_module_version": "1.5.0",
          "state": {
            "_model_module": "@jupyter-widgets/controls",
            "_model_module_version": "1.5.0",
            "_model_name": "DescriptionStyleModel",
            "_view_count": null,
            "_view_module": "@jupyter-widgets/base",
            "_view_module_version": "1.2.0",
            "_view_name": "StyleView",
            "description_width": ""
          }
        },
        "5eb185ee572a4909813fbbc67dd19cda": {
          "model_module": "@jupyter-widgets/controls",
          "model_name": "HBoxModel",
          "model_module_version": "1.5.0",
          "state": {
            "_dom_classes": [],
            "_model_module": "@jupyter-widgets/controls",
            "_model_module_version": "1.5.0",
            "_model_name": "HBoxModel",
            "_view_count": null,
            "_view_module": "@jupyter-widgets/controls",
            "_view_module_version": "1.5.0",
            "_view_name": "HBoxView",
            "box_style": "",
            "children": [
              "IPY_MODEL_50606636db1247169caa14c82a14b995",
              "IPY_MODEL_d7fa8794b587419ab362b6c2f0b9cbf4",
              "IPY_MODEL_a41f4e107d6e48fa95c183f894a7a74e"
            ],
            "layout": "IPY_MODEL_4e05c52273684a339bce8698a9b80ee8"
          }
        },
        "50606636db1247169caa14c82a14b995": {
          "model_module": "@jupyter-widgets/controls",
          "model_name": "HTMLModel",
          "model_module_version": "1.5.0",
          "state": {
            "_dom_classes": [],
            "_model_module": "@jupyter-widgets/controls",
            "_model_module_version": "1.5.0",
            "_model_name": "HTMLModel",
            "_view_count": null,
            "_view_module": "@jupyter-widgets/controls",
            "_view_module_version": "1.5.0",
            "_view_name": "HTMLView",
            "description": "",
            "description_tooltip": null,
            "layout": "IPY_MODEL_e7d181ed494244ed85a918078b7f7ae5",
            "placeholder": "​",
            "style": "IPY_MODEL_bd77446c0647445eace197eb55c507a4",
            "value": "Downloading pytorch_model.bin: 100%"
          }
        },
        "d7fa8794b587419ab362b6c2f0b9cbf4": {
          "model_module": "@jupyter-widgets/controls",
          "model_name": "FloatProgressModel",
          "model_module_version": "1.5.0",
          "state": {
            "_dom_classes": [],
            "_model_module": "@jupyter-widgets/controls",
            "_model_module_version": "1.5.0",
            "_model_name": "FloatProgressModel",
            "_view_count": null,
            "_view_module": "@jupyter-widgets/controls",
            "_view_module_version": "1.5.0",
            "_view_name": "ProgressView",
            "bar_style": "success",
            "description": "",
            "description_tooltip": null,
            "layout": "IPY_MODEL_1afe1b8baf204cc296d850e7dea80607",
            "max": 440473133,
            "min": 0,
            "orientation": "horizontal",
            "style": "IPY_MODEL_fb5a2b774ace4ce1a9cc5d8ce0cb3bf9",
            "value": 440473133
          }
        },
        "a41f4e107d6e48fa95c183f894a7a74e": {
          "model_module": "@jupyter-widgets/controls",
          "model_name": "HTMLModel",
          "model_module_version": "1.5.0",
          "state": {
            "_dom_classes": [],
            "_model_module": "@jupyter-widgets/controls",
            "_model_module_version": "1.5.0",
            "_model_name": "HTMLModel",
            "_view_count": null,
            "_view_module": "@jupyter-widgets/controls",
            "_view_module_version": "1.5.0",
            "_view_name": "HTMLView",
            "description": "",
            "description_tooltip": null,
            "layout": "IPY_MODEL_3ba33275c6734248b48a451d4c7a0c39",
            "placeholder": "​",
            "style": "IPY_MODEL_7f686a9c252b406fa71802762667e538",
            "value": " 440M/440M [00:27&lt;00:00, 16.3MB/s]"
          }
        },
        "4e05c52273684a339bce8698a9b80ee8": {
          "model_module": "@jupyter-widgets/base",
          "model_name": "LayoutModel",
          "model_module_version": "1.2.0",
          "state": {
            "_model_module": "@jupyter-widgets/base",
            "_model_module_version": "1.2.0",
            "_model_name": "LayoutModel",
            "_view_count": null,
            "_view_module": "@jupyter-widgets/base",
            "_view_module_version": "1.2.0",
            "_view_name": "LayoutView",
            "align_content": null,
            "align_items": null,
            "align_self": null,
            "border": null,
            "bottom": null,
            "display": null,
            "flex": null,
            "flex_flow": null,
            "grid_area": null,
            "grid_auto_columns": null,
            "grid_auto_flow": null,
            "grid_auto_rows": null,
            "grid_column": null,
            "grid_gap": null,
            "grid_row": null,
            "grid_template_areas": null,
            "grid_template_columns": null,
            "grid_template_rows": null,
            "height": null,
            "justify_content": null,
            "justify_items": null,
            "left": null,
            "margin": null,
            "max_height": null,
            "max_width": null,
            "min_height": null,
            "min_width": null,
            "object_fit": null,
            "object_position": null,
            "order": null,
            "overflow": null,
            "overflow_x": null,
            "overflow_y": null,
            "padding": null,
            "right": null,
            "top": null,
            "visibility": null,
            "width": null
          }
        },
        "e7d181ed494244ed85a918078b7f7ae5": {
          "model_module": "@jupyter-widgets/base",
          "model_name": "LayoutModel",
          "model_module_version": "1.2.0",
          "state": {
            "_model_module": "@jupyter-widgets/base",
            "_model_module_version": "1.2.0",
            "_model_name": "LayoutModel",
            "_view_count": null,
            "_view_module": "@jupyter-widgets/base",
            "_view_module_version": "1.2.0",
            "_view_name": "LayoutView",
            "align_content": null,
            "align_items": null,
            "align_self": null,
            "border": null,
            "bottom": null,
            "display": null,
            "flex": null,
            "flex_flow": null,
            "grid_area": null,
            "grid_auto_columns": null,
            "grid_auto_flow": null,
            "grid_auto_rows": null,
            "grid_column": null,
            "grid_gap": null,
            "grid_row": null,
            "grid_template_areas": null,
            "grid_template_columns": null,
            "grid_template_rows": null,
            "height": null,
            "justify_content": null,
            "justify_items": null,
            "left": null,
            "margin": null,
            "max_height": null,
            "max_width": null,
            "min_height": null,
            "min_width": null,
            "object_fit": null,
            "object_position": null,
            "order": null,
            "overflow": null,
            "overflow_x": null,
            "overflow_y": null,
            "padding": null,
            "right": null,
            "top": null,
            "visibility": null,
            "width": null
          }
        },
        "bd77446c0647445eace197eb55c507a4": {
          "model_module": "@jupyter-widgets/controls",
          "model_name": "DescriptionStyleModel",
          "model_module_version": "1.5.0",
          "state": {
            "_model_module": "@jupyter-widgets/controls",
            "_model_module_version": "1.5.0",
            "_model_name": "DescriptionStyleModel",
            "_view_count": null,
            "_view_module": "@jupyter-widgets/base",
            "_view_module_version": "1.2.0",
            "_view_name": "StyleView",
            "description_width": ""
          }
        },
        "1afe1b8baf204cc296d850e7dea80607": {
          "model_module": "@jupyter-widgets/base",
          "model_name": "LayoutModel",
          "model_module_version": "1.2.0",
          "state": {
            "_model_module": "@jupyter-widgets/base",
            "_model_module_version": "1.2.0",
            "_model_name": "LayoutModel",
            "_view_count": null,
            "_view_module": "@jupyter-widgets/base",
            "_view_module_version": "1.2.0",
            "_view_name": "LayoutView",
            "align_content": null,
            "align_items": null,
            "align_self": null,
            "border": null,
            "bottom": null,
            "display": null,
            "flex": null,
            "flex_flow": null,
            "grid_area": null,
            "grid_auto_columns": null,
            "grid_auto_flow": null,
            "grid_auto_rows": null,
            "grid_column": null,
            "grid_gap": null,
            "grid_row": null,
            "grid_template_areas": null,
            "grid_template_columns": null,
            "grid_template_rows": null,
            "height": null,
            "justify_content": null,
            "justify_items": null,
            "left": null,
            "margin": null,
            "max_height": null,
            "max_width": null,
            "min_height": null,
            "min_width": null,
            "object_fit": null,
            "object_position": null,
            "order": null,
            "overflow": null,
            "overflow_x": null,
            "overflow_y": null,
            "padding": null,
            "right": null,
            "top": null,
            "visibility": null,
            "width": null
          }
        },
        "fb5a2b774ace4ce1a9cc5d8ce0cb3bf9": {
          "model_module": "@jupyter-widgets/controls",
          "model_name": "ProgressStyleModel",
          "model_module_version": "1.5.0",
          "state": {
            "_model_module": "@jupyter-widgets/controls",
            "_model_module_version": "1.5.0",
            "_model_name": "ProgressStyleModel",
            "_view_count": null,
            "_view_module": "@jupyter-widgets/base",
            "_view_module_version": "1.2.0",
            "_view_name": "StyleView",
            "bar_color": null,
            "description_width": ""
          }
        },
        "3ba33275c6734248b48a451d4c7a0c39": {
          "model_module": "@jupyter-widgets/base",
          "model_name": "LayoutModel",
          "model_module_version": "1.2.0",
          "state": {
            "_model_module": "@jupyter-widgets/base",
            "_model_module_version": "1.2.0",
            "_model_name": "LayoutModel",
            "_view_count": null,
            "_view_module": "@jupyter-widgets/base",
            "_view_module_version": "1.2.0",
            "_view_name": "LayoutView",
            "align_content": null,
            "align_items": null,
            "align_self": null,
            "border": null,
            "bottom": null,
            "display": null,
            "flex": null,
            "flex_flow": null,
            "grid_area": null,
            "grid_auto_columns": null,
            "grid_auto_flow": null,
            "grid_auto_rows": null,
            "grid_column": null,
            "grid_gap": null,
            "grid_row": null,
            "grid_template_areas": null,
            "grid_template_columns": null,
            "grid_template_rows": null,
            "height": null,
            "justify_content": null,
            "justify_items": null,
            "left": null,
            "margin": null,
            "max_height": null,
            "max_width": null,
            "min_height": null,
            "min_width": null,
            "object_fit": null,
            "object_position": null,
            "order": null,
            "overflow": null,
            "overflow_x": null,
            "overflow_y": null,
            "padding": null,
            "right": null,
            "top": null,
            "visibility": null,
            "width": null
          }
        },
        "7f686a9c252b406fa71802762667e538": {
          "model_module": "@jupyter-widgets/controls",
          "model_name": "DescriptionStyleModel",
          "model_module_version": "1.5.0",
          "state": {
            "_model_module": "@jupyter-widgets/controls",
            "_model_module_version": "1.5.0",
            "_model_name": "DescriptionStyleModel",
            "_view_count": null,
            "_view_module": "@jupyter-widgets/base",
            "_view_module_version": "1.2.0",
            "_view_name": "StyleView",
            "description_width": ""
          }
        }
      }
    }
  },
  "cells": [
    {
      "cell_type": "code",
      "execution_count": 3,
      "metadata": {
        "colab": {
          "base_uri": "https://localhost:8080/"
        },
        "id": "Hj6xEqhP_rUk",
        "outputId": "39b32bcb-6812-4f7e-961f-f5b590fb3013"
      },
      "outputs": [
        {
          "output_type": "stream",
          "name": "stdout",
          "text": [
            "Looking in indexes: https://pypi.org/simple, https://us-python.pkg.dev/colab-wheels/public/simple/\n",
            "Requirement already satisfied: transformers in /usr/local/lib/python3.10/dist-packages (4.28.1)\n",
            "Requirement already satisfied: filelock in /usr/local/lib/python3.10/dist-packages (from transformers) (3.12.0)\n",
            "Requirement already satisfied: huggingface-hub<1.0,>=0.11.0 in /usr/local/lib/python3.10/dist-packages (from transformers) (0.14.1)\n",
            "Requirement already satisfied: numpy>=1.17 in /usr/local/lib/python3.10/dist-packages (from transformers) (1.22.4)\n",
            "Requirement already satisfied: packaging>=20.0 in /usr/local/lib/python3.10/dist-packages (from transformers) (23.1)\n",
            "Requirement already satisfied: pyyaml>=5.1 in /usr/local/lib/python3.10/dist-packages (from transformers) (6.0)\n",
            "Requirement already satisfied: regex!=2019.12.17 in /usr/local/lib/python3.10/dist-packages (from transformers) (2022.10.31)\n",
            "Requirement already satisfied: requests in /usr/local/lib/python3.10/dist-packages (from transformers) (2.27.1)\n",
            "Requirement already satisfied: tokenizers!=0.11.3,<0.14,>=0.11.1 in /usr/local/lib/python3.10/dist-packages (from transformers) (0.13.3)\n",
            "Requirement already satisfied: tqdm>=4.27 in /usr/local/lib/python3.10/dist-packages (from transformers) (4.65.0)\n",
            "Requirement already satisfied: fsspec in /usr/local/lib/python3.10/dist-packages (from huggingface-hub<1.0,>=0.11.0->transformers) (2023.4.0)\n",
            "Requirement already satisfied: typing-extensions>=3.7.4.3 in /usr/local/lib/python3.10/dist-packages (from huggingface-hub<1.0,>=0.11.0->transformers) (4.5.0)\n",
            "Requirement already satisfied: urllib3<1.27,>=1.21.1 in /usr/local/lib/python3.10/dist-packages (from requests->transformers) (1.26.15)\n",
            "Requirement already satisfied: certifi>=2017.4.17 in /usr/local/lib/python3.10/dist-packages (from requests->transformers) (2022.12.7)\n",
            "Requirement already satisfied: charset-normalizer~=2.0.0 in /usr/local/lib/python3.10/dist-packages (from requests->transformers) (2.0.12)\n",
            "Requirement already satisfied: idna<4,>=2.5 in /usr/local/lib/python3.10/dist-packages (from requests->transformers) (3.4)\n"
          ]
        }
      ],
      "source": [
        "! pip install transformers"
      ]
    },
    {
      "cell_type": "code",
      "source": [
        "import torch\n",
        "import torch.nn as nn\n",
        "import torch.optim as optim\n",
        "import torch.nn.functional as F\n",
        "from torch.utils.data import Dataset, DataLoader\n",
        "from transformers import BertTokenizer, BertModel\n",
        "from sklearn.metrics import precision_recall_curve, f1_score, accuracy_score\n",
        "import numpy as np\n",
        "import math\n",
        "import random\n",
        "import itertools\n",
        "import pandas as pd\n"
      ],
      "metadata": {
        "id": "d8HNnRkUADOd"
      },
      "execution_count": 4,
      "outputs": []
    },
    {
      "cell_type": "code",
      "source": [
        "tokenizer = BertTokenizer.from_pretrained('bert-base-uncased')"
      ],
      "metadata": {
        "colab": {
          "base_uri": "https://localhost:8080/",
          "height": 113,
          "referenced_widgets": [
            "6d0ecd39b06440c58a8a523d9f01079e",
            "785f221413c3400cb9cc6ea8ff4751e3",
            "721d7f8c69ea43509e2400bc5336fcd7",
            "b917dc106dbf445793cab09e61a5dd21",
            "1b9c36ae31e34405b1fe614946ea4dfb",
            "e06e3d340eae4d3eac8d7a1b8934b2e9",
            "146fc4a7b45f476a9e8481c591cc599b",
            "9d13fb573675416a91c1043942b31e17",
            "33883b2298104dbf94737537e268da7f",
            "13ba65aeda4d4013a19ebcfda61c3c7e",
            "c729f6514e524d6786245729e69132ab",
            "e55818e047e042929beeff0711e10654",
            "3a8610dab8c2424eb44c25d7038dcd45",
            "b1b0d7517e4c49efae269b0aac30ad17",
            "bca0958d5bdc467e83ac7c4d82898b2c",
            "8643e77fb1ae4210995ca1d38613418e",
            "f24bf336f87e48bbb0081262c52016cc",
            "8b0ee5db7d244bfa9eb7406d87dffa4f",
            "d9a604028881464c9e0d27fa46a9c353",
            "ce766a57ac61480a8eaf85d42267b825",
            "251a074a8e2449889d311e6da6b04006",
            "350c816a1cb246268be7cbb2748c5ed9",
            "965a8dae2a254aefa68a8488957c24ac",
            "f5e09c16e192452c9f9463f7ba62b5ba",
            "e59979ec15d5473d8daedbb9888e3b8f",
            "c30e99c2a50448af9888f66e1b89a3dd",
            "1fee474b21244c62a7d87300008388a4",
            "9c9fc90afe024cfeb7ed00fe04f8e15e",
            "a3e6752da20c4220b7d2db2319a1991c",
            "8184e816183e4a79ba38d0a78f78826a",
            "18653bebf90246ff986fb8b1b1d99ef7",
            "ae46b70d61a04c2bbc29bd069781bf78",
            "aa8c787072114b5aa999378c45b001f1"
          ]
        },
        "id": "xPy-yWzvAhss",
        "outputId": "32f6a09d-dae2-4b99-8090-e9acbe5663f5"
      },
      "execution_count": 5,
      "outputs": [
        {
          "output_type": "display_data",
          "data": {
            "text/plain": [
              "Downloading (…)solve/main/vocab.txt:   0%|          | 0.00/232k [00:00<?, ?B/s]"
            ],
            "application/vnd.jupyter.widget-view+json": {
              "version_major": 2,
              "version_minor": 0,
              "model_id": "6d0ecd39b06440c58a8a523d9f01079e"
            }
          },
          "metadata": {}
        },
        {
          "output_type": "display_data",
          "data": {
            "text/plain": [
              "Downloading (…)okenizer_config.json:   0%|          | 0.00/28.0 [00:00<?, ?B/s]"
            ],
            "application/vnd.jupyter.widget-view+json": {
              "version_major": 2,
              "version_minor": 0,
              "model_id": "e55818e047e042929beeff0711e10654"
            }
          },
          "metadata": {}
        },
        {
          "output_type": "display_data",
          "data": {
            "text/plain": [
              "Downloading (…)lve/main/config.json:   0%|          | 0.00/570 [00:00<?, ?B/s]"
            ],
            "application/vnd.jupyter.widget-view+json": {
              "version_major": 2,
              "version_minor": 0,
              "model_id": "965a8dae2a254aefa68a8488957c24ac"
            }
          },
          "metadata": {}
        }
      ]
    },
    {
      "cell_type": "code",
      "source": [
        "device = torch.device(\"cuda\" if torch.cuda.is_available() else \"cpu\")\n",
        "print(device)"
      ],
      "metadata": {
        "colab": {
          "base_uri": "https://localhost:8080/"
        },
        "id": "1EjtZiNXAouD",
        "outputId": "864f2429-94ea-4550-a3a6-173692071eb6"
      },
      "execution_count": 6,
      "outputs": [
        {
          "output_type": "stream",
          "name": "stdout",
          "text": [
            "cuda\n"
          ]
        }
      ]
    },
    {
      "cell_type": "code",
      "source": [
        "def convert_file(file_path):\n",
        "    with open(file_path) as f:\n",
        "        lines = f.readlines()\n",
        "\n",
        "    lines = [line.split() for line in lines]\n",
        "    sentences = []\n",
        "    tags = []\n",
        "    predicates = []\n",
        "    sentence = []\n",
        "    tag = []\n",
        "    curr_pred = None\n",
        "    exists_pred_in_sent = False\n",
        "    exists_arg_in_sent = False\n",
        "\n",
        "    for line in lines:\n",
        "        if len(line) != 0:\n",
        "            sentence.append(line[0])\n",
        "\n",
        "            if len(line) >= 6:\n",
        "                if line[5] == \"PRED\":\n",
        "                    curr_pred = line[0]\n",
        "                    exists_pred_in_sent = True\n",
        "\n",
        "                if line[5] == \"ARG1\":\n",
        "                    exists_arg_in_sent = True\n",
        "                    tag.append(1)\n",
        "                else:\n",
        "                    tag.append(0)\n",
        "            else:\n",
        "                tag.append(0)\n",
        "        else:\n",
        "            if exists_arg_in_sent and exists_pred_in_sent:\n",
        "                sentences.append(\" \".join(sentence))\n",
        "                tags.append(tag)\n",
        "                predicates.append(curr_pred)\n",
        "\n",
        "                exists_pred_in_sent = False\n",
        "                exists_arg_in_sent = False\n",
        "\n",
        "            sentence = []\n",
        "            tag = []\n",
        "            curr_pred = None\n",
        "\n",
        "    if len(sentence) > 0 and exists_arg_in_sent and exists_pred_in_sent:\n",
        "        sentences.append(\" \".join(sentence))\n",
        "        tags.append(tag)\n",
        "        predicates.append(curr_pred)\n",
        "\n",
        "    return sentences, tags, predicates\n"
      ],
      "metadata": {
        "id": "oDpHEeOhArmo"
      },
      "execution_count": 7,
      "outputs": []
    },
    {
      "cell_type": "code",
      "source": [
        "class SRLDataset(Dataset):\n",
        "    def __init__(self, sentences, predicates, labels, tokenizer, max_length):\n",
        "        self.sentences = sentences\n",
        "        self.predicates = predicates\n",
        "        self.labels = labels\n",
        "        self.tokenizer = tokenizer\n",
        "        self.max_length = max_length\n",
        "\n",
        "    def __len__(self):\n",
        "        return len(self.sentences)\n",
        "\n",
        "    def __getitem__(self, index):\n",
        "        sentence = self.sentences[index]\n",
        "        predicate = self.predicates[index]\n",
        "        label = self.labels[index]\n",
        "\n",
        "        # Tokenize sentence without special tokens to handle alignment\n",
        "        tokenized_sentence = self.tokenizer.tokenize(sentence)\n",
        "\n",
        "        # Initialize a list of labels with -100 (ignored by loss function) and the same length as the tokenized sentence\n",
        "        aligned_labels = [-100] * len(tokenized_sentence)\n",
        "\n",
        "        # Iterate through the original sentence words, labels, and their indices\n",
        "        words = sentence.split()\n",
        "        for word, lbl, idx in zip(words, label, range(len(words))):\n",
        "            # Tokenize the current word\n",
        "            subwords = self.tokenizer.tokenize(word)\n",
        "\n",
        "            # Assign the label to the first subword of the current word\n",
        "            subword_idx = tokenized_sentence.index(subwords[0], idx)\n",
        "            aligned_labels[subword_idx] = lbl\n",
        "\n",
        "        # Tokenize sentence and add [CLS] and [SEP] tokens\n",
        "        tokenized_sentence = self.tokenizer.encode(sentence, add_special_tokens=True, max_length=self.max_length, padding='max_length', truncation=True)\n",
        "        input_ids = torch.tensor(tokenized_sentence, dtype=torch.long)\n",
        "\n",
        "        # Add [CLS] and [SEP] tokens to the aligned_labels and pad or truncate to match max_length\n",
        "        aligned_labels = [-100] + aligned_labels[:self.max_length - 2] + [-100]\n",
        "        aligned_labels = aligned_labels + [-100] * (self.max_length - len(aligned_labels))\n",
        "\n",
        "        # Convert the aligned_labels list to a torch tensor\n",
        "        aligned_labels = torch.tensor(aligned_labels, dtype=torch.long)\n",
        "\n",
        "        # Find index of predicate in tokenized sentence\n",
        "        predicate_idx = tokenized_sentence.index(self.tokenizer.encode(predicate)[1])\n",
        "\n",
        "        return input_ids, predicate_idx, aligned_labels"
      ],
      "metadata": {
        "id": "O5AsamwdDZpk"
      },
      "execution_count": 26,
      "outputs": []
    },
    {
      "cell_type": "code",
      "source": [
        "tokenizer = BertTokenizer.from_pretrained('bert-base-uncased')"
      ],
      "metadata": {
        "id": "-MZ93f6UDtCx"
      },
      "execution_count": 27,
      "outputs": []
    },
    {
      "cell_type": "code",
      "source": [
        "from google.colab import drive\n",
        "drive.mount('/content/drive')"
      ],
      "metadata": {
        "colab": {
          "base_uri": "https://localhost:8080/"
        },
        "id": "YqE81SlVAThk",
        "outputId": "ceb3b8cb-e813-49fe-973a-24e0a589ff66"
      },
      "execution_count": 8,
      "outputs": [
        {
          "output_type": "stream",
          "name": "stdout",
          "text": [
            "Mounted at /content/drive\n"
          ]
        }
      ]
    },
    {
      "cell_type": "code",
      "source": [
        "%cd /content/drive/My Drive/nlp_srl"
      ],
      "metadata": {
        "colab": {
          "base_uri": "https://localhost:8080/"
        },
        "id": "qcRIc9aI_4Rd",
        "outputId": "10a45fbe-2706-41b6-bbac-31a59c0ab48e"
      },
      "execution_count": 9,
      "outputs": [
        {
          "output_type": "stream",
          "name": "stdout",
          "text": [
            "/content/drive/My Drive/nlp_srl\n"
          ]
        }
      ]
    },
    {
      "cell_type": "code",
      "source": [
        "sentences_1, labels_1, predicates_1 = convert_file('%_nombank.clean.train')"
      ],
      "metadata": {
        "id": "FMX7G7suA-I7"
      },
      "execution_count": 18,
      "outputs": []
    },
    {
      "cell_type": "code",
      "source": [
        "sentences_2, labels_2, predicates_2 = convert_file('%_nombank.clean.test')"
      ],
      "metadata": {
        "id": "cVGCJFJqBKoV"
      },
      "execution_count": 19,
      "outputs": []
    },
    {
      "cell_type": "code",
      "source": [
        "sentences_3, labels_3, predicates_3 = convert_file('%_nombank.clean.dev')"
      ],
      "metadata": {
        "id": "ns5xUjkjBRDn"
      },
      "execution_count": 20,
      "outputs": []
    },
    {
      "cell_type": "code",
      "source": [
        "\n",
        "\n",
        "class SRLindModel(nn.Module):\n",
        "    def __init__(self, bert_model, lstm_hidden_size, dropout_rate, predicate_emb_dim):\n",
        "        super(SRLindModel, self).__init__()\n",
        "        self.bert = bert_model\n",
        "\n",
        "        self.predicate_embedding = nn.Embedding(2, predicate_emb_dim)\n",
        "\n",
        "        self.downstream = nn.Sequential(\n",
        "            nn.LSTM(input_size=self.bert.config.hidden_size + predicate_emb_dim,\n",
        "                    hidden_size=lstm_hidden_size,\n",
        "                    num_layers=1,\n",
        "                    batch_first=True,\n",
        "                    bidirectional=True),\n",
        "            nn.Dropout(dropout_rate),\n",
        "            nn.Linear(in_features=lstm_hidden_size * 2, out_features=1)\n",
        "        )\n",
        "\n",
        "    def forward(self, input_ids, predicate_idx, labels=None, attention_mask=None):\n",
        "        bert_output = self.bert(input_ids=input_ids, attention_mask=attention_mask)\n",
        "        sequence_output = bert_output.last_hidden_state\n",
        "\n",
        "        # Create predicate indicator embedding\n",
        "        predicate_indicator = torch.zeros_like(input_ids)\n",
        "        predicate_indicator.scatter_(1, predicate_idx.unsqueeze(1), 1)\n",
        "        predicate_emb = self.predicate_embedding(predicate_indicator)\n",
        "        \n",
        "        # Concatenate predicate indicator embeddings with the sequence output\n",
        "        sequence_output = torch.cat((sequence_output, predicate_emb), dim=-1)\n",
        "\n",
        "        downstream_output, _ = self.downstream[0](sequence_output)\n",
        "        downstream_output = self.downstream[1](downstream_output)\n",
        "        logits = self.downstream[2](downstream_output)\n",
        "\n",
        "        if labels is not None:\n",
        "            labels_mask = (labels != -100)\n",
        "            labels = labels[labels_mask]\n",
        "            logits = logits[labels_mask]\n",
        "\n",
        "        return logits, labels\n"
      ],
      "metadata": {
        "id": "mtDIfemdBvMF"
      },
      "execution_count": 21,
      "outputs": []
    },
    {
      "cell_type": "code",
      "source": [
        "def validate(model, dataloader, criterion):\n",
        "    model.eval()\n",
        "    total_loss = 0\n",
        "    all_labels = []\n",
        "    all_logits = []\n",
        "\n",
        "    with torch.no_grad():\n",
        "        for batch in dataloader:\n",
        "            input_ids, predicate_idx, padded_labels = batch\n",
        "            input_ids, predicate_idx, padded_labels = input_ids.to(device), predicate_idx.to(device), padded_labels.to(device)\n",
        "\n",
        "            \n",
        "\n",
        "            logits, labels = model(input_ids, predicate_idx, padded_labels)\n",
        "\n",
        "            loss = criterion(logits, labels.float().unsqueeze(1))\n",
        "            total_loss += loss.item()\n",
        "\n",
        "            mask = labels.ne(-100)\n",
        "            valid_labels = labels[mask].cpu().numpy()\n",
        "            valid_logits = logits[mask].cpu().numpy().squeeze()\n",
        "\n",
        "            all_labels.extend(valid_labels)\n",
        "            all_logits.extend(valid_logits)\n",
        "\n",
        "    # Calculate metrics\n",
        "    #print(all_labels)\n",
        "    #print(all_logits)\n",
        "    average_loss = total_loss / len(dataloader)\n",
        "    all_labels = np.array(all_labels)\n",
        "    all_logits = np.array(all_logits)\n",
        "    \n",
        "    all_probs = 1 / (1 + np.exp(-all_logits))\n",
        "\n",
        "    precision, recall, thresholds = precision_recall_curve(all_labels, all_probs)\n",
        "\n",
        "    f_scores = np.where((precision + recall) != 0.0, (2 *precision * recall)/ (precision + recall + 1e-10), 0)\n",
        "  \n",
        "    best_threshold = thresholds[np.argmax(f_scores)]\n",
        "\n",
        "    # Calculate accuracy and F-score using the best threshold\n",
        "    preds = (all_probs > best_threshold).astype(int)\n",
        "    accuracy = accuracy_score(all_labels, preds)\n",
        "    best_f_score = f1_score(all_labels, preds)\n",
        "\n",
        "    return average_loss, accuracy, best_f_score, best_threshold\n"
      ],
      "metadata": {
        "id": "-0NXwKWAB8XO"
      },
      "execution_count": 22,
      "outputs": []
    },
    {
      "cell_type": "code",
      "source": [
        "\n",
        "\n",
        "def train_model(model, train_dataset, train_dataloader, val_dataloader, criterion, optimizer, num_epochs, clip_grad_value=1, weighting_method='none', custom_value=20, patience=15):\n",
        "  \n",
        "  \n",
        "  model_path =  '/content/drive/MyDrive/nlp_srl'\n",
        "  #file_name = 'srl_in_model' \n",
        "\n",
        "  if weighting_method != 'none':\n",
        "      negative_count = sum([1 for label_seq in train_dataset.labels for label in label_seq if label == 0])\n",
        "      positive_count = sum([1 for label_seq in train_dataset.labels for label in label_seq if label == 1])\n",
        "\n",
        "      if weighting_method == 'direct':\n",
        "          pos_weight = torch.tensor([negative_count / positive_count], device=device)\n",
        "      elif weighting_method == 'log':\n",
        "          pos_weight = torch.tensor([np.log(negative_count / positive_count)], device=device)\n",
        "      elif weighting_method == 'custom':\n",
        "          pos_weight = torch.tensor([custom_value], device=device)\n",
        "      else:\n",
        "          raise ValueError(\"Invalid weighting_method value. It must be 'none', 'direct', 'log', or 'custom'.\")\n",
        "  else:\n",
        "      pos_weight = torch.tensor(1.0, device=device)\n",
        "\n",
        "\n",
        "\n",
        "  train_accuracies = []\n",
        "  val_accuracies = []\n",
        "  train_f_scores = []\n",
        "  val_f_scores = []\n",
        "  avg_train_loss_per_epoch = []\n",
        "  avg_val_loss_per_epoch = []\n",
        "\n",
        "  # Early stopping initialization\n",
        "  best_val_accuracy = float('-inf')\n",
        "  patience_counter = 0\n",
        "\n",
        "  for epoch in range(num_epochs):\n",
        "      print(f\"Epoch {epoch+1}/{num_epochs}\")\n",
        "      total_train_loss = 0\n",
        "      num_train_batches = 0\n",
        "\n",
        "      for i, batch in enumerate(train_dataloader):\n",
        "          model.train()\n",
        "          input_ids, predicate_idx, padded_labels = batch\n",
        "          input_ids, predicate_idx, padded_labels = input_ids.to(device), predicate_idx.to(device), padded_labels.to(device)\n",
        "\n",
        "          logits, labels = model(input_ids, predicate_idx, padded_labels)\n",
        "\n",
        "          criterion.pos_weight = pos_weight\n",
        "\n",
        "          loss = criterion(logits, labels.float().unsqueeze(1))\n",
        "          loss.backward()\n",
        "\n",
        "          torch.nn.utils.clip_grad_norm_(model.parameters(), clip_grad_value)\n",
        "\n",
        "          optimizer.step()\n",
        "          optimizer.zero_grad()\n",
        "\n",
        "          total_train_loss += loss.item()\n",
        "          num_train_batches += 1\n",
        "\n",
        "\n",
        "      avg_train_loss_per_epoch.append(total_train_loss / num_train_batches)\n",
        "\n",
        "      val_loss, val_accuracy, val_f_score, val_threshold = validate(model, val_dataloader, criterion)\n",
        "      avg_val_loss_per_epoch.append(val_loss)\n",
        "      print(f\"Validation Loss: {val_loss}, Validation Accuracy: {val_accuracy}, Best F-score: {val_f_score}, Best Threshold: {val_threshold}\")\n",
        "\n",
        "      if (epoch + 1) % 10 == 0:\n",
        "          train_loss, train_accuracy, train_f_score, train_threshold = validate_on_train(model, train_dataloader, criterion)\n",
        "          train_accuracies.append(train_accuracy)\n",
        "          val_accuracies.append(val_accuracy)\n",
        "          train_f_scores.append(train_f_score)\n",
        "          val_f_scores.append(val_f_score)\n",
        "          print(f\"Train Loss: {train_loss}, Train Accuracy: {train_accuracy}, Best F-score: {train_f_score}, Best Threshold: {train_threshold}\")\n",
        "\n",
        "          #torch.save(model.state_dict(), f\"{model_path}/{file_name+str(epoch)+'.pth'}\")\n",
        "          #print(\"model saved\")\n",
        "        \n",
        "         #torch.save(model.state_dict(), f\"{model_path}/{file_name+str(epoch)+'.pth'}\")\n",
        "          #print(\"model saved\")\n",
        "\n",
        "      # Early stopping\n",
        "      if val_accuracy > best_val_accuracy:\n",
        "          best_val_accuracy = val_accuracy\n",
        "          patience_counter = 0\n",
        "      else:\n",
        "          patience_counter += 1\n",
        "\n",
        "      if patience_counter >= patience:\n",
        "          print(f\"Early stopping triggered after {epoch + 1} epochs due to no improvement in validation accuracy\")\n",
        "          num_missing_values = num_epochs - epoch - 1\n",
        "          train_accuracies.extend([None] * num_missing_values)\n",
        "          val_accuracies.extend([None] * num_missing_values)\n",
        "          train_f_scores.extend([None] * num_missing_values)\n",
        "          val_f_scores.extend([None] * num_missing_values)\n",
        "\n",
        "          #return avg_train_loss_per_epoch, avg_val_loss_per_epoch, train_accuracies, val_accuracies, train_f_scores, val_f_scores\n",
        "          return avg_train_loss_per_epoch, avg_val_loss_per_epoch, train_accuracies, val_accuracies, train_f_scores, val_f_scores\n",
        "          \n",
        "\n",
        "  return avg_train_loss_per_epoch, avg_val_loss_per_epoch, train_accuracies, val_accuracies, train_f_scores, val_f_scores\n"
      ],
      "metadata": {
        "id": "lBuVN3g6Ngdr"
      },
      "execution_count": 49,
      "outputs": []
    },
    {
      "cell_type": "code",
      "source": [
        "sentences_all = sentences_1.copy()\n",
        "labels_all = labels_1.copy()\n",
        "predicates_all = predicates_1.copy()\n",
        "\n",
        "sentences_all.extend(sentences_2)\n",
        "labels_all.extend(labels_2)\n",
        "predicates_all.extend(predicates_2)\n",
        "\n",
        "sentences_all.extend(sentences_3)\n",
        "labels_all.extend(labels_3)\n",
        "predicates_all.extend(predicates_3)"
      ],
      "metadata": {
        "id": "MynMX4ZbCC1E"
      },
      "execution_count": 23,
      "outputs": []
    },
    {
      "cell_type": "code",
      "source": [
        "print(len(sentences_all))\n",
        "print(len(labels_all))\n",
        "print(len(predicates_all))"
      ],
      "metadata": {
        "colab": {
          "base_uri": "https://localhost:8080/"
        },
        "id": "C-81MdhLCRkM",
        "outputId": "7b4dc393-b515-4a2c-8c8f-b1cc2d5e2f99"
      },
      "execution_count": 24,
      "outputs": [
        {
          "output_type": "stream",
          "name": "stdout",
          "text": [
            "2404\n",
            "2404\n",
            "2404\n"
          ]
        }
      ]
    },
    {
      "cell_type": "code",
      "source": [
        "\n",
        "\n",
        "# Combine sentences, labels, and predicates into a list of tuples\n",
        "combined_data = list(zip(sentences_all, labels_all, predicates_all))\n",
        "\n",
        "# Shuffle the combined data using a random seed for reproducibility\n",
        "random_seed = 42\n",
        "random.seed(random_seed)\n",
        "random.shuffle(combined_data)\n",
        "\n",
        "# Split the shuffled data into training and validation sets\n",
        "split_ratio = 0.8  \n",
        "split_index = int(len(combined_data) * split_ratio)\n",
        "\n",
        "train_data = combined_data[:split_index]\n",
        "val_data = combined_data[split_index:]\n",
        "\n",
        "# Separate sentences, labels, and predicates for the train and validation sets\n",
        "train_sentences, train_labels, train_predicates = zip(*train_data)\n",
        "val_sentences, val_labels, val_predicates = zip(*val_data)\n"
      ],
      "metadata": {
        "id": "15xjJzlACW4w"
      },
      "execution_count": 25,
      "outputs": []
    },
    {
      "cell_type": "code",
      "source": [
        "bert_model = BertModel.from_pretrained(\"bert-base-uncased\")"
      ],
      "metadata": {
        "colab": {
          "base_uri": "https://localhost:8080/",
          "height": 123,
          "referenced_widgets": [
            "5eb185ee572a4909813fbbc67dd19cda",
            "50606636db1247169caa14c82a14b995",
            "d7fa8794b587419ab362b6c2f0b9cbf4",
            "a41f4e107d6e48fa95c183f894a7a74e",
            "4e05c52273684a339bce8698a9b80ee8",
            "e7d181ed494244ed85a918078b7f7ae5",
            "bd77446c0647445eace197eb55c507a4",
            "1afe1b8baf204cc296d850e7dea80607",
            "fb5a2b774ace4ce1a9cc5d8ce0cb3bf9",
            "3ba33275c6734248b48a451d4c7a0c39",
            "7f686a9c252b406fa71802762667e538"
          ]
        },
        "id": "lgBD-OixCxSc",
        "outputId": "311d5ccb-2285-4dfc-cee9-11e75bf58537"
      },
      "execution_count": 28,
      "outputs": [
        {
          "output_type": "display_data",
          "data": {
            "text/plain": [
              "Downloading pytorch_model.bin:   0%|          | 0.00/440M [00:00<?, ?B/s]"
            ],
            "application/vnd.jupyter.widget-view+json": {
              "version_major": 2,
              "version_minor": 0,
              "model_id": "5eb185ee572a4909813fbbc67dd19cda"
            }
          },
          "metadata": {}
        },
        {
          "output_type": "stream",
          "name": "stderr",
          "text": [
            "Some weights of the model checkpoint at bert-base-uncased were not used when initializing BertModel: ['cls.predictions.transform.LayerNorm.weight', 'cls.predictions.transform.LayerNorm.bias', 'cls.predictions.decoder.weight', 'cls.predictions.transform.dense.weight', 'cls.predictions.transform.dense.bias', 'cls.predictions.bias', 'cls.seq_relationship.bias', 'cls.seq_relationship.weight']\n",
            "- This IS expected if you are initializing BertModel from the checkpoint of a model trained on another task or with another architecture (e.g. initializing a BertForSequenceClassification model from a BertForPreTraining model).\n",
            "- This IS NOT expected if you are initializing BertModel from the checkpoint of a model that you expect to be exactly identical (initializing a BertForSequenceClassification model from a BertForSequenceClassification model).\n"
          ]
        }
      ]
    },
    {
      "cell_type": "code",
      "source": [
        "num_labels = 1\n",
        "hidden_size = 768"
      ],
      "metadata": {
        "id": "t2dTXagGESND"
      },
      "execution_count": 29,
      "outputs": []
    },
    {
      "cell_type": "code",
      "source": [
        "max_length = 128\n",
        "train_dataset = SRLDataset(train_sentences, train_predicates, train_labels, tokenizer, max_length)\n",
        "train_dataloader = DataLoader(train_dataset, batch_size=8, shuffle=True)\n"
      ],
      "metadata": {
        "id": "Dwq6-7fsEU3B"
      },
      "execution_count": 30,
      "outputs": []
    },
    {
      "cell_type": "code",
      "source": [
        "max_length = 128\n",
        "val_dataset = SRLDataset(val_sentences, val_predicates, val_labels, tokenizer, max_length)\n",
        "val_dataloader = DataLoader(val_dataset, batch_size=8, shuffle=True)"
      ],
      "metadata": {
        "id": "-taQR62TEXg2"
      },
      "execution_count": 31,
      "outputs": []
    },
    {
      "cell_type": "code",
      "source": [
        "negative_count = sum([1 for label_seq in train_dataset.labels for label in label_seq if label == 0])\n",
        "print(negative_count)\n",
        "positive_count = sum([1 for label_seq in train_dataset.labels for label in label_seq if label == 1])\n",
        "print(positive_count)\n",
        "pos_weight = torch.tensor([negative_count / positive_count ], device=device)\n",
        "print(pos_weight)"
      ],
      "metadata": {
        "colab": {
          "base_uri": "https://localhost:8080/"
        },
        "id": "7wRAXnQiEavP",
        "outputId": "201ea9f4-1f62-40c9-a4d5-def4ad37b4ac"
      },
      "execution_count": 32,
      "outputs": [
        {
          "output_type": "stream",
          "name": "stdout",
          "text": [
            "52360\n",
            "1971\n",
            "tensor([26.5652], device='cuda:0')\n"
          ]
        }
      ]
    },
    {
      "cell_type": "code",
      "source": [
        "num_epochs = 5\n",
        "\n",
        "criterion = nn.BCEWithLogitsLoss()"
      ],
      "metadata": {
        "id": "NFUAFOY4EpfE"
      },
      "execution_count": 51,
      "outputs": []
    },
    {
      "cell_type": "code",
      "source": [
        "bs = 8\n",
        "lstm_hidden_size= 35\n",
        "dropout_rate = 0.2\n",
        "learning_rate = 3e-5\n",
        "clip_grad_value = 1.0\n",
        "custom_weight_value = 27.0"
      ],
      "metadata": {
        "id": "7kE1w7ZYEu1J"
      },
      "execution_count": 52,
      "outputs": []
    },
    {
      "cell_type": "code",
      "source": [
        "srl_test_model = SRLindModel(bert_model = bert_model, lstm_hidden_size =lstm_hidden_size, dropout_rate = dropout_rate, predicate_emb_dim = 50).to(device)\n",
        "optimizer = torch.optim.Adam(srl_test_model.parameters(), lr=learning_rate)\n",
        "criterion = nn.BCEWithLogitsLoss()"
      ],
      "metadata": {
        "id": "SCoyj7bUE4Sx"
      },
      "execution_count": 53,
      "outputs": []
    },
    {
      "cell_type": "code",
      "source": [
        "\n",
        "srl_test_model.load_state_dict(torch.load('/content/drive/MyDrive/nlp_srl/srl_in_model_189.pth'))"
      ],
      "metadata": {
        "colab": {
          "base_uri": "https://localhost:8080/"
        },
        "id": "ARpFs_ByFMak",
        "outputId": "73798cb5-e4d1-4d96-c40c-7d10cd8925b8"
      },
      "execution_count": 54,
      "outputs": [
        {
          "output_type": "execute_result",
          "data": {
            "text/plain": [
              "<All keys matched successfully>"
            ]
          },
          "metadata": {},
          "execution_count": 54
        }
      ]
    },
    {
      "cell_type": "code",
      "source": [
        "average_loss, accuracy, best_f_score, best_threshold = validate(srl_test_model, train_dataloader, criterion)"
      ],
      "metadata": {
        "id": "Y1GoRpm8FBOW"
      },
      "execution_count": 55,
      "outputs": []
    },
    {
      "cell_type": "code",
      "source": [
        "print(average_loss)\n",
        "print(accuracy)\n",
        "print(best_f_score)\n",
        "print(best_threshold)"
      ],
      "metadata": {
        "colab": {
          "base_uri": "https://localhost:8080/"
        },
        "id": "0XMuLoZyGLly",
        "outputId": "d320416f-0ee3-4847-a07f-95aad444350a"
      },
      "execution_count": 56,
      "outputs": [
        {
          "output_type": "stream",
          "name": "stdout",
          "text": [
            "0.037907432017397935\n",
            "0.9928531126575136\n",
            "0.9060336300692384\n",
            "0.96069974\n"
          ]
        }
      ]
    },
    {
      "cell_type": "code",
      "source": [
        "average_loss, accuracy, best_f_score, best_threshold = validate(srl_test_model, val_dataloader, criterion)"
      ],
      "metadata": {
        "id": "7IdSamPZHDzj"
      },
      "execution_count": 57,
      "outputs": []
    },
    {
      "cell_type": "code",
      "source": [
        "print(average_loss)\n",
        "print(accuracy)\n",
        "print(best_f_score)\n",
        "print(best_threshold)"
      ],
      "metadata": {
        "colab": {
          "base_uri": "https://localhost:8080/"
        },
        "id": "VvYH_Mw1GaFV",
        "outputId": "daab4de6-5039-485a-a000-2a28849c955c"
      },
      "execution_count": 58,
      "outputs": [
        {
          "output_type": "stream",
          "name": "stdout",
          "text": [
            "0.02975728179325281\n",
            "0.9949136868064118\n",
            "0.9323770491803278\n",
            "0.96516365\n"
          ]
        }
      ]
    },
    {
      "cell_type": "code",
      "source": [
        "\n",
        "srl_test_model.load_state_dict(torch.load('/content/drive/MyDrive/nlp_srl/srl_in_model_189.pth'))"
      ],
      "metadata": {
        "id": "bjdCYbtrO7JM"
      },
      "execution_count": null,
      "outputs": []
    },
    {
      "cell_type": "code",
      "source": [
        "\n",
        "avg_train_loss_per_epoch, avg_val_loss_per_epoch, train_accuracies, val_accuracies, train_f_scores, val_f_scores = train_model(srl_test_model, train_dataset, train_dataloader, val_dataloader, criterion, optimizer, num_epochs, clip_grad_value, weighting_method='custom', custom_value=custom_weight_value, patience = 30)"
      ],
      "metadata": {
        "colab": {
          "base_uri": "https://localhost:8080/"
        },
        "id": "3KkSGQnlNU_R",
        "outputId": "b26fe9eb-0c10-4f1b-8c6f-864d0a23b1bb"
      },
      "execution_count": 59,
      "outputs": [
        {
          "output_type": "stream",
          "name": "stdout",
          "text": [
            "Epoch 1/5\n",
            "Validation Loss: 0.1355204274324456, Validation Accuracy: 0.9947595561035758, Best F-score: 0.9313131313131313, Best Threshold: 0.9597361087799072\n",
            "Epoch 2/5\n",
            "Validation Loss: 0.14609868154545186, Validation Accuracy: 0.9942971639950678, Best F-score: 0.9251012145748989, Best Threshold: 0.9614913463592529\n",
            "Epoch 3/5\n",
            "Validation Loss: 0.14092842036487008, Validation Accuracy: 0.9943742293464858, Best F-score: 0.9263370332996973, Best Threshold: 0.9556769132614136\n",
            "Epoch 4/5\n",
            "Validation Loss: 0.18007890044666922, Validation Accuracy: 0.9940659679408138, Best F-score: 0.9223007063572148, Best Threshold: 0.9718438386917114\n",
            "Epoch 5/5\n",
            "Validation Loss: 0.17658027816776398, Validation Accuracy: 0.9939118372379778, Best F-score: 0.9223205506391347, Best Threshold: 0.9530431628227234\n"
          ]
        }
      ]
    }
  ]
}