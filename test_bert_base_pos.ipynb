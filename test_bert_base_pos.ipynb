{
  "cells": [
    {
      "cell_type": "markdown",
      "metadata": {
        "id": "view-in-github",
        "colab_type": "text"
      },
      "source": [
        "<a href=\"https://colab.research.google.com/github/adisav17/Deep-Semantic-Role-Labeling-with-Auxilary-tasks/blob/main/test_bert_base_pos.ipynb\" target=\"_parent\"><img src=\"https://colab.research.google.com/assets/colab-badge.svg\" alt=\"Open In Colab\"/></a>"
      ]
    },
    {
      "cell_type": "code",
      "execution_count": 1,
      "metadata": {
        "colab": {
          "base_uri": "https://localhost:8080/"
        },
        "id": "a3kIsrUJ3Hok",
        "outputId": "b71e0824-e3ea-4dec-d5e9-00f82730f151"
      },
      "outputs": [
        {
          "output_type": "stream",
          "name": "stdout",
          "text": [
            "Looking in indexes: https://pypi.org/simple, https://us-python.pkg.dev/colab-wheels/public/simple/\n",
            "Collecting transformers\n",
            "  Downloading transformers-4.28.1-py3-none-any.whl (7.0 MB)\n",
            "\u001b[2K     \u001b[90m━━━━━━━━━━━━━━━━━━━━━━━━━━━━━━━━━━━━━━━━\u001b[0m \u001b[32m7.0/7.0 MB\u001b[0m \u001b[31m69.8 MB/s\u001b[0m eta \u001b[36m0:00:00\u001b[0m\n",
            "\u001b[?25hRequirement already satisfied: regex!=2019.12.17 in /usr/local/lib/python3.9/dist-packages (from transformers) (2022.10.31)\n",
            "Requirement already satisfied: pyyaml>=5.1 in /usr/local/lib/python3.9/dist-packages (from transformers) (6.0)\n",
            "Requirement already satisfied: numpy>=1.17 in /usr/local/lib/python3.9/dist-packages (from transformers) (1.22.4)\n",
            "Requirement already satisfied: packaging>=20.0 in /usr/local/lib/python3.9/dist-packages (from transformers) (23.1)\n",
            "Collecting huggingface-hub<1.0,>=0.11.0\n",
            "  Downloading huggingface_hub-0.14.1-py3-none-any.whl (224 kB)\n",
            "\u001b[2K     \u001b[90m━━━━━━━━━━━━━━━━━━━━━━━━━━━━━━━━━━━━━━\u001b[0m \u001b[32m224.5/224.5 kB\u001b[0m \u001b[31m18.9 MB/s\u001b[0m eta \u001b[36m0:00:00\u001b[0m\n",
            "\u001b[?25hCollecting tokenizers!=0.11.3,<0.14,>=0.11.1\n",
            "  Downloading tokenizers-0.13.3-cp39-cp39-manylinux_2_17_x86_64.manylinux2014_x86_64.whl (7.8 MB)\n",
            "\u001b[2K     \u001b[90m━━━━━━━━━━━━━━━━━━━━━━━━━━━━━━━━━━━━━━━━\u001b[0m \u001b[32m7.8/7.8 MB\u001b[0m \u001b[31m68.8 MB/s\u001b[0m eta \u001b[36m0:00:00\u001b[0m\n",
            "\u001b[?25hRequirement already satisfied: filelock in /usr/local/lib/python3.9/dist-packages (from transformers) (3.11.0)\n",
            "Requirement already satisfied: requests in /usr/local/lib/python3.9/dist-packages (from transformers) (2.27.1)\n",
            "Requirement already satisfied: tqdm>=4.27 in /usr/local/lib/python3.9/dist-packages (from transformers) (4.65.0)\n",
            "Requirement already satisfied: typing-extensions>=3.7.4.3 in /usr/local/lib/python3.9/dist-packages (from huggingface-hub<1.0,>=0.11.0->transformers) (4.5.0)\n",
            "Requirement already satisfied: fsspec in /usr/local/lib/python3.9/dist-packages (from huggingface-hub<1.0,>=0.11.0->transformers) (2023.4.0)\n",
            "Requirement already satisfied: idna<4,>=2.5 in /usr/local/lib/python3.9/dist-packages (from requests->transformers) (3.4)\n",
            "Requirement already satisfied: urllib3<1.27,>=1.21.1 in /usr/local/lib/python3.9/dist-packages (from requests->transformers) (1.26.15)\n",
            "Requirement already satisfied: certifi>=2017.4.17 in /usr/local/lib/python3.9/dist-packages (from requests->transformers) (2022.12.7)\n",
            "Requirement already satisfied: charset-normalizer~=2.0.0 in /usr/local/lib/python3.9/dist-packages (from requests->transformers) (2.0.12)\n",
            "Installing collected packages: tokenizers, huggingface-hub, transformers\n",
            "Successfully installed huggingface-hub-0.14.1 tokenizers-0.13.3 transformers-4.28.1\n"
          ]
        }
      ],
      "source": [
        "! pip install transformers"
      ]
    },
    {
      "cell_type": "code",
      "execution_count": 2,
      "metadata": {
        "id": "nw2r-54k4KX5"
      },
      "outputs": [],
      "source": [
        "import torch\n",
        "import torch.nn as nn\n",
        "import torch.optim as optim\n",
        "import torch.nn.functional as F\n",
        "from torch.utils.data import Dataset, DataLoader\n",
        "from transformers import BertTokenizer, BertModel\n",
        "from sklearn.metrics import precision_recall_curve, f1_score, accuracy_score\n",
        "import numpy as np\n",
        "import math\n",
        "import random\n",
        "import itertools\n",
        "import pandas as pd\n"
      ]
    },
    {
      "cell_type": "code",
      "execution_count": 3,
      "metadata": {
        "id": "xi5IH4vI4NAj"
      },
      "outputs": [],
      "source": [
        "class SRLDataset(Dataset):\n",
        "    def __init__(self, sentences, predicates, labels, tokenizer, max_length):\n",
        "        self.sentences = sentences\n",
        "        self.predicates = predicates\n",
        "        self.labels = labels\n",
        "        self.tokenizer = tokenizer\n",
        "        self.max_length = max_length\n",
        "\n",
        "    def __len__(self):\n",
        "        return len(self.sentences)\n",
        "\n",
        "    def __getitem__(self, index):\n",
        "        sentence = self.sentences[index]\n",
        "        predicate = self.predicates[index]\n",
        "        label = self.labels[index]\n",
        "\n",
        "        # Tokenize sentence without special tokens to handle alignment\n",
        "        tokenized_sentence = self.tokenizer.tokenize(sentence)\n",
        "\n",
        "        # Initialize a list of labels with -100 (ignored by loss function) and the same length as the tokenized sentence\n",
        "        aligned_labels = [-100] * len(tokenized_sentence)\n",
        "\n",
        "        # Iterate through the original sentence words, labels, and their indices\n",
        "        words = sentence.split()\n",
        "        for word, lbl, idx in zip(words, label, range(len(words))):\n",
        "            # Tokenize the current word\n",
        "            subwords = self.tokenizer.tokenize(word)\n",
        "\n",
        "            # Assign the label to the first subword of the current word\n",
        "            subword_idx = tokenized_sentence.index(subwords[0], idx)\n",
        "            aligned_labels[subword_idx] = lbl\n",
        "\n",
        "        # Tokenize sentence and add [CLS] and [SEP] tokens\n",
        "        tokenized_sentence = self.tokenizer.encode(sentence, add_special_tokens=True, max_length=self.max_length, padding='max_length', truncation=True)\n",
        "        input_ids = torch.tensor(tokenized_sentence, dtype=torch.long)\n",
        "\n",
        "        # Add [CLS] and [SEP] tokens to the aligned_labels and pad or truncate to match max_length\n",
        "        aligned_labels = [-100] + aligned_labels[:self.max_length - 2] + [-100]\n",
        "        aligned_labels = aligned_labels + [-100] * (self.max_length - len(aligned_labels))\n",
        "\n",
        "        # Convert the aligned_labels list to a torch tensor\n",
        "        aligned_labels = torch.tensor(aligned_labels, dtype=torch.long)\n",
        "\n",
        "        # Find index of predicate in tokenized sentence\n",
        "        predicate_idx = tokenized_sentence.index(self.tokenizer.encode(predicate)[1])\n",
        "\n",
        "        return input_ids, predicate_idx, aligned_labels"
      ]
    },
    {
      "cell_type": "code",
      "execution_count": 4,
      "metadata": {
        "id": "Og1DEiTH4TKW",
        "colab": {
          "base_uri": "https://localhost:8080/",
          "height": 113,
          "referenced_widgets": [
            "411d614a08564a59b6a0d2812c243db7",
            "0094bed12845473da3e11ed86afbf1de",
            "083f0f09da744b52aedd83e5f56786e2",
            "21575a370cc24e9088736625916a4360",
            "91f93a4e730f4d39912201dfbf79583d",
            "e84ac0910e914525b8866baa45dfea2c",
            "4d1d5b5716cc4ed18b36ba91c5dea38a",
            "a457e17484284136a079d7135d0dbcd9",
            "66a82d17fd5e4c01acb1f7971fde8f7f",
            "5298d455d51b441d9126da0d00b84f25",
            "eb87351c3f1142bcb66178333dba9f11",
            "6546d67623824df9b3167ed573d7cbb8",
            "f56189835b7c4c479da150773aad7be9",
            "0bc9e27da34e4142bd2b7303eb9078cc",
            "bf2414fc1ab740b1a30f03db17b59a40",
            "90a1df6419ec4984b526ef45ac082cac",
            "a592c952e27545798aebeef40196c9d0",
            "c1c50948e92f4c6c845e3494b2338579",
            "d8543632fb1249b59bad64f3d436430f",
            "5195bd7287e94b2ea3c1c26d352595ea",
            "c0ec7b19bfe24a04a369a38033ca0a72",
            "05cb3a6adbcd4b9ebd5d0e2b0fde59a4",
            "412a144773ed46deae2870a069f5b122",
            "01a4f65d4f524f72ab3a44343192d00b",
            "d7702d23f5c541a39f67630e447c326e",
            "5f78b30626984f09a650a04595687f29",
            "164492f77ab843fb86b81010375ffc97",
            "a5775cff861b49c7904e474b8b72c86a",
            "7b881ef7359f499a9d4e1020012228bd",
            "37fc5a14b4574574a500188fd5c7b682",
            "83e4d0f81c4f450cb2108ebd135502e6",
            "cb6889bd0e684db3b01ce5771151b47d",
            "9575ca427af249578ef71ce379456120"
          ]
        },
        "outputId": "48ef6900-b881-4cb7-9590-9bdccb159f5b"
      },
      "outputs": [
        {
          "output_type": "display_data",
          "data": {
            "text/plain": [
              "Downloading (…)solve/main/vocab.txt:   0%|          | 0.00/232k [00:00<?, ?B/s]"
            ],
            "application/vnd.jupyter.widget-view+json": {
              "version_major": 2,
              "version_minor": 0,
              "model_id": "411d614a08564a59b6a0d2812c243db7"
            }
          },
          "metadata": {}
        },
        {
          "output_type": "display_data",
          "data": {
            "text/plain": [
              "Downloading (…)okenizer_config.json:   0%|          | 0.00/28.0 [00:00<?, ?B/s]"
            ],
            "application/vnd.jupyter.widget-view+json": {
              "version_major": 2,
              "version_minor": 0,
              "model_id": "6546d67623824df9b3167ed573d7cbb8"
            }
          },
          "metadata": {}
        },
        {
          "output_type": "display_data",
          "data": {
            "text/plain": [
              "Downloading (…)lve/main/config.json:   0%|          | 0.00/570 [00:00<?, ?B/s]"
            ],
            "application/vnd.jupyter.widget-view+json": {
              "version_major": 2,
              "version_minor": 0,
              "model_id": "412a144773ed46deae2870a069f5b122"
            }
          },
          "metadata": {}
        }
      ],
      "source": [
        "tokenizer = BertTokenizer.from_pretrained('bert-base-uncased')"
      ]
    },
    {
      "cell_type": "code",
      "execution_count": 5,
      "metadata": {
        "colab": {
          "base_uri": "https://localhost:8080/"
        },
        "id": "RCole66i4T1m",
        "outputId": "239004e5-3f40-4250-d856-e75cb5d6633f"
      },
      "outputs": [
        {
          "output_type": "stream",
          "name": "stdout",
          "text": [
            "cuda\n"
          ]
        }
      ],
      "source": [
        "device = torch.device(\"cuda\" if torch.cuda.is_available() else \"cpu\")\n",
        "print(device)"
      ]
    },
    {
      "cell_type": "code",
      "execution_count": 6,
      "metadata": {
        "id": "BNok_zcI4W4b"
      },
      "outputs": [],
      "source": [
        "def convert_file(file_path):\n",
        "    with open(file_path) as f:\n",
        "        lines = f.readlines()\n",
        "\n",
        "    lines = [line.split() for line in lines]\n",
        "    sentences = []\n",
        "    tags = []\n",
        "    predicates = []\n",
        "    sentence = []\n",
        "    tag = []\n",
        "    curr_pred = None\n",
        "    exists_pred_in_sent = False\n",
        "    exists_arg_in_sent = False\n",
        "\n",
        "    for line in lines:\n",
        "        if len(line) != 0:\n",
        "            sentence.append(line[0])\n",
        "\n",
        "            if len(line) >= 6:\n",
        "                if line[5] == \"PRED\":\n",
        "                    curr_pred = line[0]\n",
        "                    exists_pred_in_sent = True\n",
        "\n",
        "                if line[5] == \"ARG1\":\n",
        "                    exists_arg_in_sent = True\n",
        "                    tag.append(1)\n",
        "                else:\n",
        "                    tag.append(0)\n",
        "            else:\n",
        "                tag.append(0)\n",
        "        else:\n",
        "            if exists_arg_in_sent and exists_pred_in_sent:\n",
        "                sentences.append(\" \".join(sentence))\n",
        "                tags.append(tag)\n",
        "                predicates.append(curr_pred)\n",
        "\n",
        "                exists_pred_in_sent = False\n",
        "                exists_arg_in_sent = False\n",
        "\n",
        "            sentence = []\n",
        "            tag = []\n",
        "            curr_pred = None\n",
        "\n",
        "    if len(sentence) > 0 and exists_arg_in_sent and exists_pred_in_sent:\n",
        "        sentences.append(\" \".join(sentence))\n",
        "        tags.append(tag)\n",
        "        predicates.append(curr_pred)\n",
        "\n",
        "    return sentences, tags, predicates\n"
      ]
    },
    {
      "cell_type": "code",
      "execution_count": 7,
      "metadata": {
        "colab": {
          "base_uri": "https://localhost:8080/"
        },
        "id": "9WWf2r8r62vF",
        "outputId": "a7bda9b6-aee2-4c61-9a30-99bc39dfa28b"
      },
      "outputs": [
        {
          "output_type": "stream",
          "name": "stdout",
          "text": [
            "Mounted at /content/drive\n"
          ]
        }
      ],
      "source": [
        "from google.colab import drive\n",
        "drive.mount('/content/drive')"
      ]
    },
    {
      "cell_type": "code",
      "execution_count": 8,
      "metadata": {
        "colab": {
          "base_uri": "https://localhost:8080/"
        },
        "id": "cSfDn7iY68Rp",
        "outputId": "9a229bbd-2bc3-43fa-f49e-992a4e056aaa"
      },
      "outputs": [
        {
          "output_type": "stream",
          "name": "stdout",
          "text": [
            "/content/drive/My Drive/nlp_srl\n"
          ]
        }
      ],
      "source": [
        "%cd /content/drive/My Drive/nlp_srl"
      ]
    },
    {
      "cell_type": "code",
      "execution_count": 9,
      "metadata": {
        "id": "lb3qlTgv4zWY"
      },
      "outputs": [],
      "source": [
        "sentences_1, labels_1, predicates_1 = convert_file('partitive_group_nombank.clean.train')"
      ]
    },
    {
      "cell_type": "code",
      "execution_count": 10,
      "metadata": {
        "id": "9MpMWYlV7AZ5"
      },
      "outputs": [],
      "source": [
        "sentences_2, labels_2, predicates_2 = convert_file('partitive_group_nombank.clean.test')"
      ]
    },
    {
      "cell_type": "code",
      "execution_count": 11,
      "metadata": {
        "id": "becFuEmJ7FOZ"
      },
      "outputs": [],
      "source": [
        "sentences_3, labels_3, predicates_3 = convert_file('partitive_group_nombank.clean.dev')"
      ]
    },
    {
      "cell_type": "code",
      "execution_count": 12,
      "metadata": {
        "colab": {
          "base_uri": "https://localhost:8080/"
        },
        "id": "bSmlbng37Jx0",
        "outputId": "29ca36b3-de9f-4ebe-bb5b-1931860dc75e"
      },
      "outputs": [
        {
          "output_type": "stream",
          "name": "stdout",
          "text": [
            "9584\n",
            "9584\n",
            "9584\n"
          ]
        }
      ],
      "source": [
        "print(len(sentences_1))\n",
        "print(len(labels_1))\n",
        "print(len(predicates_1))\n",
        "\n"
      ]
    },
    {
      "cell_type": "code",
      "execution_count": 13,
      "metadata": {
        "colab": {
          "base_uri": "https://localhost:8080/"
        },
        "id": "u4NYFy7c7VEp",
        "outputId": "086906c4-7962-45a7-e79c-a106df315484"
      },
      "outputs": [
        {
          "output_type": "stream",
          "name": "stdout",
          "text": [
            "584\n",
            "584\n",
            "584\n"
          ]
        }
      ],
      "source": [
        "print(len(sentences_2))\n",
        "print(len(labels_2))\n",
        "print(len(predicates_2))\n"
      ]
    },
    {
      "cell_type": "code",
      "execution_count": 14,
      "metadata": {
        "colab": {
          "base_uri": "https://localhost:8080/"
        },
        "id": "hgTmo4587ac-",
        "outputId": "9d3ada2f-5984-4b6c-94a4-278ba84d715d"
      },
      "outputs": [
        {
          "output_type": "stream",
          "name": "stdout",
          "text": [
            "353\n",
            "353\n",
            "353\n"
          ]
        }
      ],
      "source": [
        "print(len(sentences_3))\n",
        "print(len(labels_3))\n",
        "print(len(predicates_3))"
      ]
    },
    {
      "cell_type": "code",
      "execution_count": null,
      "metadata": {
        "colab": {
          "base_uri": "https://localhost:8080/",
          "height": 36
        },
        "id": "sWzC_rWV7g4Y",
        "outputId": "94e0014a-e8b5-44b5-a59c-a4e70f6a52b2"
      },
      "outputs": [
        {
          "output_type": "execute_result",
          "data": {
            "text/plain": [
              "'The consensus view expects a 0.4 % increase in the September CPI after a flat reading in August .'"
            ],
            "application/vnd.google.colaboratory.intrinsic+json": {
              "type": "string"
            }
          },
          "metadata": {},
          "execution_count": 16
        }
      ],
      "source": [
        "sentences_3[0]"
      ]
    },
    {
      "cell_type": "code",
      "execution_count": null,
      "metadata": {
        "colab": {
          "base_uri": "https://localhost:8080/"
        },
        "id": "koGRukjL7p1O",
        "outputId": "b5e77687-9383-4d79-86ee-36517bd645ff"
      },
      "outputs": [
        {
          "output_type": "execute_result",
          "data": {
            "text/plain": [
              "[0, 0, 0, 0, 0, 0, 0, 0, 0, 0, 0, 1, 0, 0, 0, 0, 0, 0, 0]"
            ]
          },
          "metadata": {},
          "execution_count": 17
        }
      ],
      "source": [
        "labels_3[0]"
      ]
    },
    {
      "cell_type": "code",
      "execution_count": null,
      "metadata": {
        "colab": {
          "base_uri": "https://localhost:8080/"
        },
        "id": "J8DT1U2u7ymG",
        "outputId": "dd5f020a-15f9-4ce7-dd96-6fdf7c1eaf3e"
      },
      "outputs": [
        {
          "output_type": "execute_result",
          "data": {
            "text/plain": [
              "['%', '%', '%', '%', '%']"
            ]
          },
          "metadata": {},
          "execution_count": 18
        }
      ],
      "source": [
        "predicates_1[0:5]"
      ]
    },
    {
      "cell_type": "code",
      "execution_count": 15,
      "metadata": {
        "id": "y7mNbMk977S2"
      },
      "outputs": [],
      "source": [
        "sentences_all = sentences_1.copy()\n",
        "labels_all = labels_1.copy()\n",
        "predicates_all = predicates_1.copy()\n",
        "\n",
        "sentences_all.extend(sentences_2)\n",
        "labels_all.extend(labels_2)\n",
        "predicates_all.extend(predicates_2)\n",
        "\n",
        "sentences_all.extend(sentences_3)\n",
        "labels_all.extend(labels_3)\n",
        "predicates_all.extend(predicates_3)"
      ]
    },
    {
      "cell_type": "code",
      "execution_count": 16,
      "metadata": {
        "colab": {
          "base_uri": "https://localhost:8080/"
        },
        "id": "oz7NKCha9JIR",
        "outputId": "07a8f2e5-dd50-4aea-bba7-4f0c5d814c13"
      },
      "outputs": [
        {
          "output_type": "stream",
          "name": "stdout",
          "text": [
            "10521\n",
            "10521\n",
            "10521\n"
          ]
        }
      ],
      "source": [
        "print(len(sentences_all))\n",
        "print(len(labels_all))\n",
        "print(len(predicates_all))"
      ]
    },
    {
      "cell_type": "code",
      "execution_count": 17,
      "metadata": {
        "id": "NribvqAL9RJ2"
      },
      "outputs": [],
      "source": [
        "\n",
        "\n",
        "# Combine sentences, labels, and predicates into a list of tuples\n",
        "combined_data = list(zip(sentences_all, labels_all, predicates_all))\n",
        "\n",
        "# Shuffle the combined data using a random seed for reproducibility\n",
        "random_seed = 42\n",
        "random.seed(random_seed)\n",
        "random.shuffle(combined_data)\n",
        "\n",
        "# Split the shuffled data into training and validation sets\n",
        "split_ratio = 0.8  \n",
        "split_index = int(len(combined_data) * split_ratio)\n",
        "\n",
        "train_data = combined_data[:split_index]\n",
        "val_data = combined_data[split_index:]\n",
        "\n",
        "# Separate sentences, labels, and predicates for the train and validation sets\n",
        "train_sentences, train_labels, train_predicates = zip(*train_data)\n",
        "val_sentences, val_labels, val_predicates = zip(*val_data)\n"
      ]
    },
    {
      "cell_type": "code",
      "execution_count": 18,
      "metadata": {
        "colab": {
          "base_uri": "https://localhost:8080/"
        },
        "id": "bJhpwldO-IN6",
        "outputId": "95351649-bfdc-48a1-e52b-40cd4d5501ad"
      },
      "outputs": [
        {
          "output_type": "stream",
          "name": "stdout",
          "text": [
            "8416\n",
            "8416\n",
            "8416\n"
          ]
        }
      ],
      "source": [
        "print(len(train_sentences))\n",
        "print(len(train_labels))\n",
        "print(len(train_predicates))"
      ]
    },
    {
      "cell_type": "code",
      "execution_count": 19,
      "metadata": {
        "colab": {
          "base_uri": "https://localhost:8080/"
        },
        "id": "8guN900B-TKK",
        "outputId": "ad07b1ba-d8a2-49ee-c2f8-ea07e416e6a6"
      },
      "outputs": [
        {
          "output_type": "stream",
          "name": "stdout",
          "text": [
            "2105\n",
            "2105\n",
            "2105\n"
          ]
        }
      ],
      "source": [
        "print(len(val_sentences))\n",
        "print(len(val_labels))\n",
        "print(len(val_predicates))"
      ]
    },
    {
      "cell_type": "code",
      "execution_count": 20,
      "metadata": {
        "id": "wqEs-WIu-_7k"
      },
      "outputs": [],
      "source": [
        "X = []\n",
        "count = 0\n",
        "max_length = 0\n",
        "for i in range(len(train_sentences)):\n",
        "\n",
        "  if(len(train_labels[i])>max_length):\n",
        "    max_length = len(train_labels[i])\n",
        "\n",
        "  count+=1\n",
        "  X.append(len(train_sentences[i].split()) == len(train_labels[i]))  "
      ]
    },
    {
      "cell_type": "code",
      "execution_count": 21,
      "metadata": {
        "colab": {
          "base_uri": "https://localhost:8080/"
        },
        "id": "t86mRrqtEluK",
        "outputId": "f4d40e35-605a-4871-834a-cf6c219cdd66"
      },
      "outputs": [
        {
          "output_type": "stream",
          "name": "stdout",
          "text": [
            "108\n",
            "8416\n",
            "8416\n"
          ]
        }
      ],
      "source": [
        "print(max_length)\n",
        "print(sum(X))\n",
        "print(count)"
      ]
    },
    {
      "cell_type": "code",
      "execution_count": 22,
      "metadata": {
        "id": "h3rW6t3pEqAw"
      },
      "outputs": [],
      "source": [
        "class SRLModel(nn.Module):\n",
        "    def __init__(self, bert_model, lstm_hidden_size, dropout_rate):\n",
        "        super(SRLModel, self).__init__()\n",
        "        self.bert = bert_model\n",
        "        self.lstm = nn.LSTM(input_size=self.bert.config.hidden_size,\n",
        "                            hidden_size=lstm_hidden_size,\n",
        "                            num_layers=1,\n",
        "                            batch_first=True,\n",
        "                            bidirectional=True)\n",
        "        self.dropout = nn.Dropout(dropout_rate)\n",
        "        self.fc = nn.Linear(in_features=lstm_hidden_size * 2, out_features=1)\n",
        "        self.positional_embeddings = nn.Embedding(self.bert.config.max_position_embeddings, self.bert.config.hidden_size)\n",
        "\n",
        "    def forward(self, input_ids, predicate_idx, labels=None):\n",
        "        bert_output = self.bert(input_ids=input_ids)\n",
        "        sequence_output = bert_output.last_hidden_state\n",
        "\n",
        "        # Add positional embeddings\n",
        "        positions = torch.arange(input_ids.size(1), device=input_ids.device).unsqueeze(0).expand(input_ids.size(0), -1)\n",
        "        pos_embeddings = self.positional_embeddings(positions)\n",
        "        sequence_output_with_pos = sequence_output + pos_embeddings\n",
        "\n",
        "        lstm_output, _ = self.lstm(sequence_output_with_pos)\n",
        "        lstm_output = self.dropout(lstm_output)\n",
        "        logits = self.fc(lstm_output)\n",
        "\n",
        "        if labels is not None:\n",
        "            labels_mask = (labels != -100)\n",
        "            labels = labels[labels_mask]\n",
        "            logits = logits[labels_mask]\n",
        "\n",
        "        return logits, labels\n",
        "class SRLModel(nn.Module):\n",
        "    def __init__(self, bert_model, lstm_hidden_size, dropout_rate):\n",
        "        super(SRLModel, self).__init__()\n",
        "        self.bert = bert_model\n",
        "        self.lstm = nn.LSTM(input_size=self.bert.config.hidden_size,\n",
        "                            hidden_size=lstm_hidden_size,\n",
        "                            num_layers=1,\n",
        "                            batch_first=True,\n",
        "                            bidirectional=True)\n",
        "        self.dropout = nn.Dropout(dropout_rate)\n",
        "        self.fc = nn.Linear(in_features=lstm_hidden_size * 2, out_features=1)\n",
        "        self.positional_embeddings = nn.Embedding(self.bert.config.max_position_embeddings, self.bert.config.hidden_size)\n",
        "\n",
        "    def forward(self, input_ids, predicate_idx, labels=None):\n",
        "        bert_output = self.bert(input_ids=input_ids)\n",
        "        sequence_output = bert_output.last_hidden_state\n",
        "\n",
        "        # Add positional embeddings\n",
        "        positions = torch.arange(input_ids.size(1), device=input_ids.device).unsqueeze(0).expand(input_ids.size(0), -1)\n",
        "        pos_embeddings = self.positional_embeddings(positions)\n",
        "        sequence_output_with_pos = sequence_output + pos_embeddings\n",
        "\n",
        "        lstm_output, _ = self.lstm(sequence_output_with_pos)\n",
        "        lstm_output = self.dropout(lstm_output)\n",
        "        logits = self.fc(lstm_output)\n",
        "\n",
        "        if labels is not None:\n",
        "            labels_mask = (labels != -100)\n",
        "            labels = labels[labels_mask]\n",
        "            logits = logits[labels_mask]\n",
        "\n",
        "        return logits, labels\n"
      ]
    },
    {
      "cell_type": "code",
      "execution_count": 23,
      "metadata": {
        "id": "lEyDCtEeEynU"
      },
      "outputs": [],
      "source": [
        "def validate(model, dataloader, criterion):\n",
        "    model.eval()\n",
        "    total_loss = 0\n",
        "    all_labels = []\n",
        "    all_logits = []\n",
        "\n",
        "    with torch.no_grad():\n",
        "        for batch in dataloader:\n",
        "            input_ids, predicate_idx, padded_labels = batch\n",
        "            input_ids, predicate_idx, padded_labels = input_ids.to(device), predicate_idx.to(device), padded_labels.to(device)\n",
        "\n",
        "            \n",
        "\n",
        "            logits, labels = model(input_ids, predicate_idx, padded_labels)\n",
        "\n",
        "            loss = criterion(logits, labels.float().unsqueeze(1))\n",
        "            total_loss += loss.item()\n",
        "\n",
        "            mask = labels.ne(-100)\n",
        "            valid_labels = labels[mask].cpu().numpy()\n",
        "            valid_logits = logits[mask].cpu().numpy().squeeze()\n",
        "\n",
        "            all_labels.extend(valid_labels)\n",
        "            all_logits.extend(valid_logits)\n",
        "\n",
        "    # Calculate metrics\n",
        "    #print(all_labels)\n",
        "    #print(all_logits)\n",
        "    average_loss = total_loss / len(dataloader)\n",
        "    all_labels = np.array(all_labels)\n",
        "    all_logits = np.array(all_logits)\n",
        "    \n",
        "    all_probs = 1 / (1 + np.exp(-all_logits))\n",
        "\n",
        "    precision, recall, thresholds = precision_recall_curve(all_labels, all_probs)\n",
        "\n",
        "    f_scores = np.where((precision + recall) != 0.0, (2 *precision * recall)/ (precision + recall + 1e-10), 0)\n",
        "  \n",
        "    best_threshold = thresholds[np.argmax(f_scores)]\n",
        "\n",
        "    # Calculate accuracy and F-score using the best threshold\n",
        "    preds = (all_probs > best_threshold).astype(int)\n",
        "    accuracy = accuracy_score(all_labels, preds)\n",
        "    best_f_score = f1_score(all_labels, preds)\n",
        "\n",
        "    return average_loss, accuracy, best_f_score, best_threshold\n"
      ]
    },
    {
      "cell_type": "code",
      "execution_count": 24,
      "metadata": {
        "id": "TtkTC4l2E3sQ"
      },
      "outputs": [],
      "source": [
        "def validate_on_train(model, dataloader, criterion):\n",
        "    model.eval()\n",
        "    total_loss = 0\n",
        "    all_labels = []\n",
        "    all_logits = []\n",
        "\n",
        "    with torch.no_grad():\n",
        "        for batch in dataloader:\n",
        "            input_ids, predicate_idx, padded_labels = batch\n",
        "            input_ids, predicate_idx, padded_labels = input_ids.to(device), predicate_idx.to(device), padded_labels.to(device)\n",
        "\n",
        "            logits, labels = model(input_ids, predicate_idx, padded_labels)\n",
        "\n",
        "            loss = criterion(logits, labels.float().unsqueeze(1))\n",
        "            total_loss += loss.item()\n",
        "\n",
        "            mask = labels.ne(-100)\n",
        "            valid_labels = labels[mask].cpu().numpy()\n",
        "            valid_logits = logits[mask].cpu().numpy().squeeze()\n",
        "\n",
        "            all_labels.extend(valid_labels)\n",
        "            all_logits.extend(valid_logits)\n",
        "\n",
        "    average_loss = total_loss / len(dataloader)\n",
        "    all_labels = np.array(all_labels)\n",
        "    all_logits = np.array(all_logits)\n",
        "\n",
        "    all_probs = 1 / (1 + np.exp(-all_logits))\n",
        "\n",
        "    precision, recall, thresholds = precision_recall_curve(all_labels, all_probs)\n",
        "\n",
        "    f_scores = np.where((precision + recall) != 0.0, (2 * precision * recall) / (precision + recall + 1e-10), 0)\n",
        "\n",
        "    best_threshold = thresholds[np.argmax(f_scores)]\n",
        "\n",
        "    preds = (all_probs > best_threshold).astype(int)\n",
        "    accuracy = accuracy_score(all_labels, preds)\n",
        "    best_f_score = f1_score(all_labels, preds)\n",
        "\n",
        "    return average_loss, accuracy, best_f_score, best_threshold\n"
      ]
    },
    {
      "cell_type": "code",
      "execution_count": 25,
      "metadata": {
        "id": "mnFqfumJE6SZ"
      },
      "outputs": [],
      "source": [
        "def train_model_old(model, train_dataset, train_dataloader, val_dataloader, criterion, optimizer, num_epochs, clip_grad_value = 1, weighting_method='none', custom_value= 20):\n",
        "\n",
        "    if weighting_method != 'none':\n",
        "        negative_count = sum([1 for label_seq in train_dataset.labels for label in label_seq if label == 0])\n",
        "        positive_count = sum([1 for label_seq in train_dataset.labels for label in label_seq if label == 1])\n",
        "\n",
        "        if weighting_method == 'direct':\n",
        "            pos_weight = torch.tensor([negative_count / positive_count], device=device)\n",
        "        elif weighting_method == 'log':\n",
        "            pos_weight = torch.tensor([np.log(negative_count / positive_count)], device=device)\n",
        "        elif weighting_method == 'custom':\n",
        "            pos_weight = torch.tensor([custom_value], device=device)\n",
        "        else:\n",
        "            raise ValueError(\"Invalid weighting_method value. It must be 'none', 'direct', 'log', or 'custom'.\")\n",
        "    else:\n",
        "        pos_weight = torch.tensor(1.0, device=device)\n",
        "\n",
        "    train_accuracies = []\n",
        "    val_accuracies = []\n",
        "    train_f_scores = []\n",
        "    val_f_scores = []\n",
        "    avg_train_loss_per_epoch = []\n",
        "    avg_val_loss_per_epoch = []\n",
        "\n",
        "    for epoch in range(num_epochs):\n",
        "        print(f\"Epoch {epoch+1}/{num_epochs}\")\n",
        "        total_train_loss = 0\n",
        "        num_train_batches = 0\n",
        "        for i, batch in enumerate(train_dataloader):\n",
        "            model.train()\n",
        "            input_ids, predicate_idx, padded_labels = batch\n",
        "            input_ids, predicate_idx, padded_labels = input_ids.to(device), predicate_idx.to(device), padded_labels.to(device)\n",
        "\n",
        "            logits, labels = model(input_ids, predicate_idx, padded_labels)\n",
        "\n",
        "            criterion.pos_weight = pos_weight\n",
        "\n",
        "            loss = criterion(logits, labels.float().unsqueeze(1))\n",
        "            loss.backward()\n",
        "\n",
        "            torch.nn.utils.clip_grad_norm_(model.parameters(), clip_grad_value)\n",
        "\n",
        "            optimizer.step()\n",
        "            optimizer.zero_grad()\n",
        "\n",
        "            total_train_loss += loss.item()\n",
        "            num_train_batches += 1\n",
        "\n",
        "            #if i % 3 == 0:\n",
        "            #    print(f\"Batch {i}, Loss: {loss.item()}\")\n",
        "\n",
        "        avg_train_loss_per_epoch.append(total_train_loss / num_train_batches)\n",
        "\n",
        "        val_loss, val_accuracy, val_f_score, val_threshold = validate(model, val_dataloader, criterion)\n",
        "        avg_val_loss_per_epoch.append(val_loss)\n",
        "        print(f\"Validation Loss: {val_loss}, Validation Accuracy: {val_accuracy}, Best F-score: {val_f_score}, Best Threshold: {val_threshold}\")\n",
        "\n",
        "        if (epoch + 1) % 10 == 0:\n",
        "            train_loss, train_accuracy, train_f_score, train_threshold = validate_on_train(model, train_dataloader, criterion)\n",
        "            train_accuracies.append(train_accuracy)\n",
        "            val_accuracies.append(val_accuracy)\n",
        "            train_f_scores.append(train_f_score)\n",
        "            val_f_scores.append(val_f_score)\n",
        "            print(f\"Train Loss: {train_loss}, Train Accuracy: {train_accuracy}, Best F-score: {train_f_score}, Best Threshold: {train_threshold}\")\n",
        "\n",
        "    return avg_train_loss_per_epoch, avg_val_loss_per_epoch, train_accuracies, val_accuracies, train_f_scores, val_f_scores\n"
      ]
    },
    {
      "cell_type": "code",
      "execution_count": 26,
      "metadata": {
        "id": "g9HfXrYog6Zp"
      },
      "outputs": [],
      "source": [
        "def train_model(model, train_dataset, train_dataloader, val_dataloader, criterion, optimizer, num_epochs, clip_grad_value=1, weighting_method='none', custom_value=20, patience=15):\n",
        "\n",
        "  if weighting_method != 'none':\n",
        "      negative_count = sum([1 for label_seq in train_dataset.labels for label in label_seq if label == 0])\n",
        "      positive_count = sum([1 for label_seq in train_dataset.labels for label in label_seq if label == 1])\n",
        "\n",
        "      if weighting_method == 'direct':\n",
        "          pos_weight = torch.tensor([negative_count / positive_count], device=device)\n",
        "      elif weighting_method == 'log':\n",
        "          pos_weight = torch.tensor([np.log(negative_count / positive_count)], device=device)\n",
        "      elif weighting_method == 'custom':\n",
        "          pos_weight = torch.tensor([custom_value], device=device)\n",
        "      else:\n",
        "          raise ValueError(\"Invalid weighting_method value. It must be 'none', 'direct', 'log', or 'custom'.\")\n",
        "  else:\n",
        "      pos_weight = torch.tensor(1.0, device=device)\n",
        "\n",
        "\n",
        "\n",
        "  train_accuracies = []\n",
        "  val_accuracies = []\n",
        "  train_f_scores = []\n",
        "  val_f_scores = []\n",
        "  avg_train_loss_per_epoch = []\n",
        "  avg_val_loss_per_epoch = []\n",
        "\n",
        "  # Early stopping initialization\n",
        "  best_val_accuracy = float('-inf')\n",
        "  patience_counter = 0\n",
        "\n",
        "  for epoch in range(num_epochs):\n",
        "      print(f\"Epoch {epoch+1}/{num_epochs}\")\n",
        "      total_train_loss = 0\n",
        "      num_train_batches = 0\n",
        "\n",
        "      for i, batch in enumerate(train_dataloader):\n",
        "          model.train()\n",
        "          input_ids, predicate_idx, padded_labels = batch\n",
        "          input_ids, predicate_idx, padded_labels = input_ids.to(device), predicate_idx.to(device), padded_labels.to(device)\n",
        "\n",
        "          logits, labels = model(input_ids, predicate_idx, padded_labels)\n",
        "\n",
        "          criterion.pos_weight = pos_weight\n",
        "\n",
        "          loss = criterion(logits, labels.float().unsqueeze(1))\n",
        "          loss.backward()\n",
        "\n",
        "          torch.nn.utils.clip_grad_norm_(model.parameters(), clip_grad_value)\n",
        "\n",
        "          optimizer.step()\n",
        "          optimizer.zero_grad()\n",
        "\n",
        "          total_train_loss += loss.item()\n",
        "          num_train_batches += 1\n",
        "\n",
        "\n",
        "      avg_train_loss_per_epoch.append(total_train_loss / num_train_batches)\n",
        "\n",
        "      val_loss, val_accuracy, val_f_score, val_threshold = validate(model, val_dataloader, criterion)\n",
        "      avg_val_loss_per_epoch.append(val_loss)\n",
        "      print(f\"Validation Loss: {val_loss}, Validation Accuracy: {val_accuracy}, Best F-score: {val_f_score}, Best Threshold: {val_threshold}\")\n",
        "\n",
        "      if (epoch + 1) % 10 == 0:\n",
        "          train_loss, train_accuracy, train_f_score, train_threshold = validate_on_train(model, train_dataloader, criterion)\n",
        "          train_accuracies.append(train_accuracy)\n",
        "          val_accuracies.append(val_accuracy)\n",
        "          train_f_scores.append(train_f_score)\n",
        "          val_f_scores.append(val_f_score)\n",
        "          print(f\"Train Loss: {train_loss}, Train Accuracy: {train_accuracy}, Best F-score: {train_f_score}, Best Threshold: {train_threshold}\")\n",
        "\n",
        "      # Early stopping\n",
        "      if val_accuracy > best_val_accuracy:\n",
        "          best_val_accuracy = val_accuracy\n",
        "          patience_counter = 0\n",
        "      else:\n",
        "          patience_counter += 1\n",
        "\n",
        "      if patience_counter >= patience:\n",
        "          print(f\"Early stopping triggered after {epoch + 1} epochs due to no improvement in validation accuracy\")\n",
        "          num_missing_values = num_epochs - epoch - 1\n",
        "          train_accuracies.extend([None] * num_missing_values)\n",
        "          val_accuracies.extend([None] * num_missing_values)\n",
        "          train_f_scores.extend([None] * num_missing_values)\n",
        "          val_f_scores.extend([None] * num_missing_values)\n",
        "\n",
        "          #return avg_train_loss_per_epoch, avg_val_loss_per_epoch, train_accuracies, val_accuracies, train_f_scores, val_f_scores\n",
        "          return avg_train_loss_per_epoch, avg_val_loss_per_epoch, train_accuracies, val_accuracies, train_f_scores, val_f_scores\n",
        "          \n",
        "\n",
        "  return avg_train_loss_per_epoch, avg_val_loss_per_epoch, train_accuracies, val_accuracies, train_f_scores, val_f_scores\n"
      ]
    },
    {
      "cell_type": "code",
      "execution_count": null,
      "metadata": {
        "id": "KaWg8iT3jd-m"
      },
      "outputs": [],
      "source": []
    },
    {
      "cell_type": "code",
      "execution_count": 27,
      "metadata": {
        "id": "vJ_M5pjqFPPa"
      },
      "outputs": [],
      "source": [
        "hyper_parameter_dict = {'learning_rate': [1e-4,1e-5,2e-4,2e-5], 'clip_grad_value':[0.8,1.0,1.5,2.0], 'lstm_hidden_size':[50,70,80,96,128], 'dropout_rate':[0.1,0.2,0.3], \n",
        "                        'custom_weight_value': [10, 15, 20 ,27, 40] }"
      ]
    },
    {
      "cell_type": "code",
      "execution_count": 28,
      "metadata": {
        "colab": {
          "base_uri": "https://localhost:8080/",
          "height": 124,
          "referenced_widgets": [
            "0950d0eb8e72459fb1719ff9fa4b0a7a",
            "ccca70bd05174cd085d924aa161e64d7",
            "e62d2d2617ca49b3a7592fa5495e0119",
            "f6109a801d3d409eb8f5fe3f09d52dfe",
            "4d2418a488fa41acaa94ce7d222b558a",
            "5a1d2ebdca36449982345105173c944c",
            "c51227bc02394c679a068cf919d64f7f",
            "b9917dd6859d4b78bf8f8bfe6168125e",
            "28d0b5ac4a0c4f7b9776d019021a90d6",
            "3a93e3872d8c4d50bd1bbe498ead890e",
            "a2e354d186eb4e50aaa386da65dd71e3"
          ]
        },
        "id": "P5mOFKbAMmq4",
        "outputId": "9fdbf5a5-f6da-4432-842b-32cda3e961e9"
      },
      "outputs": [
        {
          "output_type": "display_data",
          "data": {
            "text/plain": [
              "Downloading pytorch_model.bin:   0%|          | 0.00/440M [00:00<?, ?B/s]"
            ],
            "application/vnd.jupyter.widget-view+json": {
              "version_major": 2,
              "version_minor": 0,
              "model_id": "0950d0eb8e72459fb1719ff9fa4b0a7a"
            }
          },
          "metadata": {}
        },
        {
          "output_type": "stream",
          "name": "stderr",
          "text": [
            "Some weights of the model checkpoint at bert-base-uncased were not used when initializing BertModel: ['cls.predictions.decoder.weight', 'cls.predictions.transform.LayerNorm.bias', 'cls.predictions.transform.dense.bias', 'cls.predictions.transform.dense.weight', 'cls.seq_relationship.weight', 'cls.predictions.bias', 'cls.predictions.transform.LayerNorm.weight', 'cls.seq_relationship.bias']\n",
            "- This IS expected if you are initializing BertModel from the checkpoint of a model trained on another task or with another architecture (e.g. initializing a BertForSequenceClassification model from a BertForPreTraining model).\n",
            "- This IS NOT expected if you are initializing BertModel from the checkpoint of a model that you expect to be exactly identical (initializing a BertForSequenceClassification model from a BertForSequenceClassification model).\n"
          ]
        }
      ],
      "source": [
        "bert_model = BertModel.from_pretrained(\"bert-base-uncased\")"
      ]
    },
    {
      "cell_type": "code",
      "execution_count": 29,
      "metadata": {
        "id": "-cazV04IMvpn"
      },
      "outputs": [],
      "source": [
        "num_labels = 1\n",
        "hidden_size = 768"
      ]
    },
    {
      "cell_type": "code",
      "execution_count": 38,
      "metadata": {
        "id": "KoEHr59_HHvn"
      },
      "outputs": [],
      "source": [
        "max_length = 128\n",
        "train_dataset = SRLDataset(train_sentences, train_predicates, train_labels, tokenizer, max_length)\n",
        "train_dataloader = DataLoader(train_dataset, batch_size=32, shuffle=True)\n"
      ]
    },
    {
      "cell_type": "code",
      "execution_count": 39,
      "metadata": {
        "id": "zsBi0Wk-L92w"
      },
      "outputs": [],
      "source": [
        "max_length = 128\n",
        "val_dataset = SRLDataset(val_sentences, val_predicates, val_labels, tokenizer, max_length)\n",
        "val_dataloader = DataLoader(val_dataset, batch_size=32, shuffle=True)"
      ]
    },
    {
      "cell_type": "code",
      "execution_count": 32,
      "metadata": {
        "colab": {
          "base_uri": "https://localhost:8080/"
        },
        "id": "x-7X-QIYjrGg",
        "outputId": "3751f1e0-0c8f-426d-da26-a77bc44d7b13"
      },
      "outputs": [
        {
          "output_type": "stream",
          "name": "stdout",
          "text": [
            "241285\n",
            "8754\n",
            "tensor([27.5628], device='cuda:0')\n"
          ]
        }
      ],
      "source": [
        "negative_count = sum([1 for label_seq in train_dataset.labels for label in label_seq if label == 0])\n",
        "print(negative_count)\n",
        "positive_count = sum([1 for label_seq in train_dataset.labels for label in label_seq if label == 1])\n",
        "print(positive_count)\n",
        "pos_weight = torch.tensor([negative_count / positive_count ], device=device)\n",
        "print(pos_weight)"
      ]
    },
    {
      "cell_type": "code",
      "execution_count": null,
      "metadata": {
        "id": "TggFQaBbMNZD"
      },
      "outputs": [],
      "source": []
    },
    {
      "cell_type": "code",
      "execution_count": null,
      "metadata": {
        "id": "ziRiEvEvnsoT"
      },
      "outputs": [],
      "source": [
        "import csv\n",
        "import ast\n"
      ]
    },
    {
      "cell_type": "code",
      "execution_count": 33,
      "metadata": {
        "id": "rllJ2fmAn3SH"
      },
      "outputs": [],
      "source": [
        "num_epochs = 100\n",
        "\n",
        "criterion = nn.BCEWithLogitsLoss()"
      ]
    },
    {
      "cell_type": "code",
      "execution_count": 34,
      "metadata": {
        "id": "EiKTA11rnU5a"
      },
      "outputs": [],
      "source": [
        "\n",
        "def grid_search(hyper_parameter_dict, results_csv_path):\n",
        "    # Create the CSV file and write the header\n",
        "    with open(results_csv_path, 'w', newline='') as csvfile:\n",
        "        fieldnames = ['learning_rate', 'clip_grad_value', 'lstm_hidden_size', 'dropout_rate', 'custom_weight_value', 'train_accuracies', 'train_f_scores', 'val_accuracies', 'val_f_scores']\n",
        "        writer = csv.DictWriter(csvfile, fieldnames=fieldnames)\n",
        "        writer.writeheader()\n",
        "\n",
        "    for config in itertools.product(*hyper_parameter_dict.values()):\n",
        "        print(f\"Training with hyperparameter configuration: {config}\")\n",
        "        learning_rate, clip_grad_value, lstm_hidden_size, dropout_rate, custom_weight_value = config\n",
        "\n",
        "        # Train the model with the current configuration of hyperparameters\n",
        "        model = SRLModel(bert_model, hidden_size, num_labels, lstm_hidden_size=lstm_hidden_size, dropout_rate=dropout_rate).to(device)\n",
        "        optimizer = torch.optim.Adam(model.parameters(), lr=learning_rate)\n",
        "        criterion = nn.BCEWithLogitsLoss()\n",
        "\n",
        "        avg_train_loss_per_epoch, avg_val_loss_per_epoch, train_accuracies, val_accuracies, train_f_scores, val_f_scores = train_model(model, train_dataset, train_dataloader, val_dataloader, criterion, optimizer, num_epochs, clip_grad_value, weighting_method='custom', custom_value=custom_weight_value, patience = 15)\n",
        "\n",
        "        # Save the current configuration and its results to the CSV file\n",
        "        results_dict = {'learning_rate': learning_rate, 'clip_grad_value': clip_grad_value, 'lstm_hidden_size': lstm_hidden_size, 'dropout_rate': dropout_rate, 'custom_weight_value': custom_weight_value, 'train_accuracies': str(train_accuracies), 'train_f_scores': str(train_f_scores), 'val_accuracies': str(val_accuracies), 'val_f_scores': str(val_f_scores)}\n",
        "        \n",
        "        with open(results_csv_path, 'a', newline='') as csvfile:\n",
        "            writer = csv.DictWriter(csvfile, fieldnames=fieldnames)\n",
        "            writer.writerow(results_dict)\n",
        "\n"
      ]
    },
    {
      "cell_type": "code",
      "execution_count": null,
      "metadata": {
        "id": "7ZvCzL4-nqr-"
      },
      "outputs": [],
      "source": [
        "\n",
        "results_csv_path = 'grid_search_results_sequential_new.csv'\n",
        "#grid_search(hyper_parameter_dict, results_csv_path)"
      ]
    },
    {
      "cell_type": "code",
      "execution_count": 35,
      "metadata": {
        "id": "dmCOe6YX9H5q"
      },
      "outputs": [],
      "source": [
        "# train single \n",
        "lstm_hidden_size= 75\n",
        "dropout_rate = 0.3\n",
        "learning_rate = 3e-5\n",
        "clip_grad_value = 1.0\n",
        "custom_weight_value = 27.0\n"
      ]
    },
    {
      "cell_type": "code",
      "execution_count": 36,
      "metadata": {
        "id": "mXm4umEf_W_Y"
      },
      "outputs": [],
      "source": [
        "model = SRLModel(bert_model,  lstm_hidden_size=lstm_hidden_size, dropout_rate=dropout_rate).to(device)\n",
        "optimizer = torch.optim.Adam(model.parameters(), lr=learning_rate)\n",
        "criterion = nn.BCEWithLogitsLoss()"
      ]
    },
    {
      "cell_type": "code",
      "source": [
        "# train single\n",
        "#bs = 8\n",
        "#lstm_hidden_size= 75\n",
        "#dropout_rate = 0.3\n",
        "#learning_rate = 3e-5\n",
        "#clip_grad_value = 1.0\n",
        "#custom_weight_value = 27.0\n",
        "\n",
        "avg_train_loss_per_epoch, avg_val_loss_per_epoch, train_accuracies, val_accuracies, train_f_scores, val_f_scores = train_model(model, train_dataset, train_dataloader, val_dataloader, criterion, optimizer, num_epochs, clip_grad_value, weighting_method='custom', custom_value=custom_weight_value, patience = 30)"
      ],
      "metadata": {
        "colab": {
          "base_uri": "https://localhost:8080/"
        },
        "id": "41fxScO62ZDg",
        "outputId": "4712f873-4e21-4d5d-d002-71fa04589028"
      },
      "execution_count": 37,
      "outputs": [
        {
          "output_type": "stream",
          "name": "stdout",
          "text": [
            "Epoch 1/100\n",
            "Validation Loss: 0.2986747643656351, Validation Accuracy: 0.9752256671899528, Best F-score: 0.7185584246702583, Best Threshold: 0.9446510672569275\n",
            "Epoch 2/100\n",
            "Validation Loss: 0.33659862417191494, Validation Accuracy: 0.9781364468864469, Best F-score: 0.7400349990278047, Best Threshold: 0.9291170835494995\n",
            "Epoch 3/100\n",
            "Validation Loss: 0.41111182848302025, Validation Accuracy: 0.9790521978021978, Best F-score: 0.7468879668049793, Best Threshold: 0.9123849868774414\n",
            "Epoch 4/100\n",
            "Validation Loss: 0.6332548425363546, Validation Accuracy: 0.9782999738356881, Best F-score: 0.7352882505485738, Best Threshold: 0.895087718963623\n",
            "Epoch 5/100\n",
            "Validation Loss: 0.6161461935703163, Validation Accuracy: 0.9778257456828885, Best F-score: 0.732965734541158, Best Threshold: 0.9373669028282166\n",
            "Epoch 6/100\n",
            "Validation Loss: 0.8888390359087762, Validation Accuracy: 0.9778911564625851, Best F-score: 0.7293835068054443, Best Threshold: 0.6405407190322876\n",
            "Epoch 7/100\n",
            "Validation Loss: 0.9294378754513507, Validation Accuracy: 0.9784962061747776, Best F-score: 0.7257559958289884, Best Threshold: 0.9364602565765381\n",
            "Epoch 8/100\n",
            "Validation Loss: 0.8595247697896522, Validation Accuracy: 0.9773188121402407, Best F-score: 0.7172273190621815, Best Threshold: 0.8865686655044556\n",
            "Epoch 9/100\n",
            "Validation Loss: 1.0503638205118477, Validation Accuracy: 0.9778420983778127, Best F-score: 0.711272107393991, Best Threshold: 0.9493886232376099\n",
            "Epoch 10/100\n",
            "Validation Loss: 1.0838155966837693, Validation Accuracy: 0.9780873888016746, Best F-score: 0.7136752136752138, Best Threshold: 0.950349748134613\n",
            "Train Loss: 0.07402759014687256, Train Accuracy: 0.9900096233831901, Best F-score: 0.869542066027689, Best Threshold: 0.9511293768882751\n",
            "Epoch 11/100\n",
            "Validation Loss: 1.2650079483512056, Validation Accuracy: 0.9775150444793302, Best F-score: 0.705504390661812, Best Threshold: 0.955910861492157\n",
            "Epoch 12/100\n",
            "Validation Loss: 1.4262971582603783, Validation Accuracy: 0.9768609366823653, Best F-score: 0.6953713670613563, Best Threshold: 0.9521323442459106\n",
            "Epoch 13/100\n",
            "Validation Loss: 1.2434842841149392, Validation Accuracy: 0.9760923600209315, Best F-score: 0.6969320066334991, Best Threshold: 0.37652039527893066\n",
            "Epoch 14/100\n",
            "Validation Loss: 1.2870665998127537, Validation Accuracy: 0.9764030612244898, Best F-score: 0.6917325357829524, Best Threshold: 0.9330169558525085\n",
            "Epoch 15/100\n",
            "Validation Loss: 1.1860959680369971, Validation Accuracy: 0.9761904761904762, Best F-score: 0.6919170545916208, Best Threshold: 0.9511848092079163\n",
            "Epoch 16/100\n",
            "Validation Loss: 1.29931778415586, Validation Accuracy: 0.9751929618001046, Best F-score: 0.6846809395136146, Best Threshold: 0.649556040763855\n",
            "Epoch 17/100\n",
            "Validation Loss: 1.436998433528722, Validation Accuracy: 0.9752910779696494, Best F-score: 0.6836926941595143, Best Threshold: 0.6004107594490051\n",
            "Epoch 18/100\n",
            "Validation Loss: 1.2160334675361149, Validation Accuracy: 0.9752583725798012, Best F-score: 0.6884908379658226, Best Threshold: 0.19924083352088928\n",
            "Epoch 19/100\n",
            "Validation Loss: 1.468478397000581, Validation Accuracy: 0.9757980115122973, Best F-score: 0.6821305841924398, Best Threshold: 0.9570800065994263\n",
            "Epoch 20/100\n",
            "Validation Loss: 1.5864214051416088, Validation Accuracy: 0.9754218995290423, Best F-score: 0.6808239541303885, Best Threshold: 0.6805279850959778\n",
            "Train Loss: 0.08974243333109941, Train Accuracy: 0.9904989479521766, Best F-score: 0.8744070720137992, Best Threshold: 0.9605494737625122\n",
            "Epoch 21/100\n",
            "Validation Loss: 1.4815358052799252, Validation Accuracy: 0.9771389324960753, Best F-score: 0.6815489749430524, Best Threshold: 0.9573543667793274\n",
            "Epoch 22/100\n",
            "Validation Loss: 1.5332604580784612, Validation Accuracy: 0.976697409733124, Best F-score: 0.6874314542662864, Best Threshold: 0.9529321193695068\n",
            "Epoch 23/100\n",
            "Validation Loss: 1.4230106304343226, Validation Accuracy: 0.9756998953427525, Best F-score: 0.6820710312366282, Best Threshold: 0.936474621295929\n",
            "Epoch 24/100\n",
            "Validation Loss: 1.4968223716114704, Validation Accuracy: 0.9764194139194139, Best F-score: 0.6801242236024845, Best Threshold: 0.9584233164787292\n",
            "Epoch 25/100\n",
            "Validation Loss: 1.7086030449577128, Validation Accuracy: 0.9760760073260073, Best F-score: 0.6823018458197612, Best Threshold: 0.9479198455810547\n",
            "Epoch 26/100\n",
            "Validation Loss: 1.6076460998769053, Validation Accuracy: 0.9768609366823653, Best F-score: 0.6903042241190632, Best Threshold: 0.9562222361564636\n",
            "Epoch 27/100\n",
            "Validation Loss: 1.5648724523965607, Validation Accuracy: 0.9770571690214548, Best F-score: 0.6757568754333256, Best Threshold: 0.9626584649085999\n",
            "Epoch 28/100\n",
            "Validation Loss: 1.5165016368334887, Validation Accuracy: 0.9744897959183674, Best F-score: 0.6556291390728477, Best Threshold: 0.9628085494041443\n",
            "Epoch 29/100\n",
            "Validation Loss: 1.5394451964230305, Validation Accuracy: 0.975503663003663, Best F-score: 0.6764578833693305, Best Threshold: 0.9398103356361389\n",
            "Epoch 30/100\n",
            "Validation Loss: 1.7124294859646452, Validation Accuracy: 0.9763376504447933, Best F-score: 0.6785158853588091, Best Threshold: 0.9573822021484375\n",
            "Train Loss: 0.07121647634462032, Train Accuracy: 0.9907313771224453, Best F-score: 0.8783516189456784, Best Threshold: 0.9530874490737915\n",
            "Epoch 31/100\n",
            "Validation Loss: 1.6300086360142538, Validation Accuracy: 0.9769099947671376, Best F-score: 0.6737523105360443, Best Threshold: 0.9597927927970886\n",
            "Epoch 32/100\n",
            "Validation Loss: 1.5437027502974325, Validation Accuracy: 0.974179094714809, Best F-score: 0.6731525564065411, Best Threshold: 0.2337072342634201\n",
            "Epoch 33/100\n",
            "Validation Loss: 1.4059520872630829, Validation Accuracy: 0.9765011773940345, Best F-score: 0.6780192695496303, Best Threshold: 0.9509354829788208\n",
            "Early stopping triggered after 33 epochs due to no improvement in validation accuracy\n"
          ]
        }
      ]
    },
    {
      "cell_type": "code",
      "source": [
        "lstm_hidden_size= 32\n",
        "dropout_rate = 0.2\n",
        "learning_rate = 3e-5\n",
        "clip_grad_value = 1.5\n",
        "custom_weight_value = 27.0\n"
      ],
      "metadata": {
        "id": "6EoRtsAvG7PE"
      },
      "execution_count": 41,
      "outputs": []
    },
    {
      "cell_type": "code",
      "source": [
        "model = SRLModel(bert_model,  lstm_hidden_size=lstm_hidden_size, dropout_rate=dropout_rate).to(device)\n",
        "optimizer = torch.optim.Adam(model.parameters(), lr=learning_rate)\n",
        "criterion = nn.BCEWithLogitsLoss()"
      ],
      "metadata": {
        "id": "67QHzBg_G7lC"
      },
      "execution_count": 42,
      "outputs": []
    },
    {
      "cell_type": "code",
      "execution_count": 43,
      "metadata": {
        "colab": {
          "base_uri": "https://localhost:8080/"
        },
        "id": "rNGYcWgE88_c",
        "outputId": "b247fcdd-555c-4e66-8df7-8badab532b28"
      },
      "outputs": [
        {
          "output_type": "stream",
          "name": "stdout",
          "text": [
            "Epoch 1/100\n",
            "Validation Loss: 0.8874714997681704, Validation Accuracy: 0.9747350863422292, Best F-score: 0.6716259298618491, Best Threshold: 0.8809047937393188\n",
            "Epoch 2/100\n",
            "Validation Loss: 0.9827626713297584, Validation Accuracy: 0.9756671899529042, Best F-score: 0.6769431176726008, Best Threshold: 0.9371935129165649\n",
            "Epoch 3/100\n",
            "Validation Loss: 1.0284975252368234, Validation Accuracy: 0.9741463893249608, Best F-score: 0.6693160426688977, Best Threshold: 0.9507251977920532\n",
            "Epoch 4/100\n",
            "Validation Loss: 1.1519434984886285, Validation Accuracy: 0.9768445839874411, Best F-score: 0.6789115646258503, Best Threshold: 0.960266649723053\n",
            "Epoch 5/100\n",
            "Validation Loss: 1.1050244443344348, Validation Accuracy: 0.9766319989534276, Best F-score: 0.6795245570755775, Best Threshold: 0.9657906293869019\n",
            "Epoch 6/100\n",
            "Validation Loss: 1.2289086787989645, Validation Accuracy: 0.976697409733124, Best F-score: 0.6826987307949232, Best Threshold: 0.9551774263381958\n",
            "Epoch 7/100\n",
            "Validation Loss: 1.2371850517211538, Validation Accuracy: 0.978283621140764, Best F-score: 0.6784503631961258, Best Threshold: 0.9743822813034058\n",
            "Epoch 8/100\n",
            "Validation Loss: 1.300703550830032, Validation Accuracy: 0.9765502354788069, Best F-score: 0.6746823956442831, Best Threshold: 0.9632452130317688\n",
            "Epoch 9/100\n",
            "Validation Loss: 1.3290881740324425, Validation Accuracy: 0.977351517530089, Best F-score: 0.6844383686488948, Best Threshold: 0.96988844871521\n",
            "Epoch 10/100\n",
            "Validation Loss: 1.4139440755049388, Validation Accuracy: 0.9763703558346416, Best F-score: 0.6798138710392201, Best Threshold: 0.9543218016624451\n",
            "Train Loss: 0.058259552493408154, Train Accuracy: 0.9908618636741751, Best F-score: 0.8799099726702748, Best Threshold: 0.9459487199783325\n",
            "Epoch 11/100\n",
            "Validation Loss: 1.4782384399211768, Validation Accuracy: 0.9763212977498692, Best F-score: 0.6743139901034637, Best Threshold: 0.9654898047447205\n",
            "Epoch 12/100\n",
            "Validation Loss: 1.4530533940503092, Validation Accuracy: 0.9769427001569859, Best F-score: 0.6822893195132943, Best Threshold: 0.9618719220161438\n",
            "Epoch 13/100\n",
            "Validation Loss: 1.4958765840891637, Validation Accuracy: 0.9768772893772893, Best F-score: 0.6755392381826526, Best Threshold: 0.9650890231132507\n",
            "Epoch 14/100\n",
            "Validation Loss: 1.5294768846396245, Validation Accuracy: 0.9773842229199372, Best F-score: 0.6815565277457978, Best Threshold: 0.9665460586547852\n",
            "Epoch 15/100\n",
            "Validation Loss: 1.535053534038139, Validation Accuracy: 0.9772370486656201, Best F-score: 0.6777777777777778, Best Threshold: 0.9645713567733765\n",
            "Epoch 16/100\n",
            "Validation Loss: 1.654588862802043, Validation Accuracy: 0.9779729199372057, Best F-score: 0.6728200145737188, Best Threshold: 0.9728617072105408\n",
            "Epoch 17/100\n",
            "Validation Loss: 1.679692981821118, Validation Accuracy: 0.977351517530089, Best F-score: 0.6734260787550106, Best Threshold: 0.9655174612998962\n",
            "Epoch 18/100\n",
            "Validation Loss: 1.7982397783886304, Validation Accuracy: 0.9769917582417582, Best F-score: 0.680009097111667, Best Threshold: 0.9635253548622131\n",
            "Epoch 19/100\n",
            "Validation Loss: 1.7712115654439637, Validation Accuracy: 0.9779402145473574, Best F-score: 0.6788859795286836, Best Threshold: 0.968682587146759\n",
            "Epoch 20/100\n",
            "Validation Loss: 1.5724159759102445, Validation Accuracy: 0.9783653846153846, Best F-score: 0.67958343424558, Best Threshold: 0.9714123606681824\n",
            "Train Loss: 0.05261559707923534, Train Accuracy: 0.9910698266159944, Best F-score: 0.8819025021570319, Best Threshold: 0.953975260257721\n",
            "Epoch 21/100\n",
            "Validation Loss: 1.8905985924330624, Validation Accuracy: 0.9783490319204605, Best F-score: 0.6773879142300195, Best Threshold: 0.9648871421813965\n",
            "Epoch 22/100\n",
            "Validation Loss: 1.860197798998067, Validation Accuracy: 0.9775641025641025, Best F-score: 0.6767200754005654, Best Threshold: 0.9686964154243469\n",
            "Epoch 23/100\n",
            "Validation Loss: 1.9524091003519115, Validation Accuracy: 0.9779402145473574, Best F-score: 0.670895340326909, Best Threshold: 0.9675113558769226\n",
            "Epoch 24/100\n",
            "Validation Loss: 1.843287653092182, Validation Accuracy: 0.9745388540031397, Best F-score: 0.6690754516471838, Best Threshold: 0.19829799234867096\n",
            "Epoch 25/100\n",
            "Validation Loss: 1.5822662756298527, Validation Accuracy: 0.9757162480376766, Best F-score: 0.6709505871925548, Best Threshold: 0.9547468423843384\n",
            "Epoch 26/100\n",
            "Validation Loss: 1.6539638114698005, Validation Accuracy: 0.9763212977498692, Best F-score: 0.6753363228699552, Best Threshold: 0.9617253541946411\n",
            "Epoch 27/100\n",
            "Validation Loss: 1.8780009340156207, Validation Accuracy: 0.9756508372579801, Best F-score: 0.674535519125683, Best Threshold: 0.9536730051040649\n",
            "Epoch 28/100\n",
            "Validation Loss: 1.7437106677980134, Validation Accuracy: 0.9763212977498692, Best F-score: 0.6747529200359389, Best Threshold: 0.9627852439880371\n",
            "Epoch 29/100\n",
            "Validation Loss: 1.754356815959468, Validation Accuracy: 0.9753074306645735, Best F-score: 0.668423364075538, Best Threshold: 0.9585965871810913\n",
            "Epoch 30/100\n",
            "Validation Loss: 1.762490170471596, Validation Accuracy: 0.9766647043432758, Best F-score: 0.6671331933753206, Best Threshold: 0.9638845324516296\n",
            "Train Loss: 0.05287527428947021, Train Accuracy: 0.9910494380922866, Best F-score: 0.8823245590521632, Best Threshold: 0.9511415362358093\n",
            "Epoch 31/100\n",
            "Validation Loss: 1.855265534285343, Validation Accuracy: 0.9773842229199372, Best F-score: 0.6723525230987917, Best Threshold: 0.9663000106811523\n",
            "Epoch 32/100\n",
            "Validation Loss: 1.887866401311123, Validation Accuracy: 0.9766483516483516, Best F-score: 0.664631282292156, Best Threshold: 0.9650018811225891\n",
            "Epoch 33/100\n",
            "Validation Loss: 1.903210780837319, Validation Accuracy: 0.9760433019361591, Best F-score: 0.6690761237858595, Best Threshold: 0.9591785073280334\n",
            "Epoch 34/100\n",
            "Validation Loss: 2.1020327824534792, Validation Accuracy: 0.9735086342229199, Best F-score: 0.6577946768060836, Best Threshold: 0.08570029586553574\n",
            "Epoch 35/100\n",
            "Validation Loss: 1.787277808243578, Validation Accuracy: 0.976288592360021, Best F-score: 0.6741573033707865, Best Threshold: 0.958723783493042\n",
            "Epoch 36/100\n",
            "Validation Loss: 2.001239794673342, Validation Accuracy: 0.9758307169021455, Best F-score: 0.6741622574955909, Best Threshold: 0.956587016582489\n",
            "Epoch 37/100\n",
            "Validation Loss: 1.9606853624184926, Validation Accuracy: 0.9772206959706959, Best F-score: 0.672774254169603, Best Threshold: 0.9680946469306946\n",
            "Epoch 38/100\n",
            "Validation Loss: 2.0601273052620166, Validation Accuracy: 0.9770081109366824, Best F-score: 0.6693320790216367, Best Threshold: 0.9621323943138123\n",
            "Epoch 39/100\n",
            "Validation Loss: 2.036647800243262, Validation Accuracy: 0.9774823390894819, Best F-score: 0.6771395076201641, Best Threshold: 0.9666447639465332\n",
            "Epoch 40/100\n",
            "Validation Loss: 1.981207815986691, Validation Accuracy: 0.977743982208268, Best F-score: 0.6799905948742064, Best Threshold: 0.9660426378250122\n",
            "Train Loss: 0.050316906470394634, Train Accuracy: 0.9911269144823761, Best F-score: 0.8837109876015391, Best Threshold: 0.950331449508667\n",
            "Epoch 41/100\n",
            "Validation Loss: 2.0067274990406903, Validation Accuracy: 0.9775313971742543, Best F-score: 0.6788218793828892, Best Threshold: 0.966491162776947\n",
            "Epoch 42/100\n",
            "Validation Loss: 1.8636859122550848, Validation Accuracy: 0.9764521193092621, Best F-score: 0.6733212341197822, Best Threshold: 0.9599719047546387\n",
            "Epoch 43/100\n",
            "Validation Loss: 2.0511528849601746, Validation Accuracy: 0.9778911564625851, Best F-score: 0.675779376498801, Best Threshold: 0.9679397344589233\n",
            "Epoch 44/100\n",
            "Validation Loss: 1.975671415979212, Validation Accuracy: 0.977089874411303, Best F-score: 0.6778569786157737, Best Threshold: 0.9654702544212341\n",
            "Epoch 45/100\n",
            "Validation Loss: 2.0814778208732605, Validation Accuracy: 0.9754382522239665, Best F-score: 0.6704695041684949, Best Threshold: 0.953073263168335\n",
            "Epoch 46/100\n",
            "Validation Loss: 1.951875087889758, Validation Accuracy: 0.9754546049188907, Best F-score: 0.6747562296858072, Best Threshold: 0.9532167911529541\n",
            "Epoch 47/100\n",
            "Validation Loss: 2.07219095844211, Validation Accuracy: 0.9772534013605442, Best F-score: 0.6774866682123811, Best Threshold: 0.9630922079086304\n",
            "Epoch 48/100\n",
            "Validation Loss: 2.10887480414275, Validation Accuracy: 0.9771879905808477, Best F-score: 0.6695095948827292, Best Threshold: 0.9670084714889526\n",
            "Epoch 49/100\n",
            "Validation Loss: 1.890985032825759, Validation Accuracy: 0.976288592360021, Best F-score: 0.6722423146473778, Best Threshold: 0.9615246057510376\n",
            "Epoch 50/100\n",
            "Validation Loss: 1.915650500492616, Validation Accuracy: 0.9753237833594977, Best F-score: 0.6714565643370346, Best Threshold: 0.9499180912971497\n",
            "Train Loss: 0.0517273143698734, Train Accuracy: 0.9911636138250501, Best F-score: 0.8835134118152986, Best Threshold: 0.9472527503967285\n",
            "Early stopping triggered after 50 epochs due to no improvement in validation accuracy\n"
          ]
        }
      ],
      "source": [
        "# train single\n",
        "#bs = 32\n",
        "#lstm_hidden_size= 32\n",
        "#dropout_rate = 0.2\n",
        "#learning_rate = 3e-5\n",
        "#clip_grad_value = 1.5\n",
        "#custom_weight_value = 27.0\n",
        "\n",
        "avg_train_loss_per_epoch, avg_val_loss_per_epoch, train_accuracies, val_accuracies, train_f_scores, val_f_scores = train_model(model, train_dataset, train_dataloader, val_dataloader, criterion, optimizer, num_epochs, clip_grad_value, weighting_method='custom', custom_value=custom_weight_value, patience = 30)"
      ]
    },
    {
      "cell_type": "code",
      "execution_count": null,
      "metadata": {
        "id": "rBPV05RxNBYD"
      },
      "outputs": [],
      "source": [
        "#grid_search(hyper_parameter_dict, results_csv_path)"
      ]
    },
    {
      "cell_type": "code",
      "source": [
        "# train single\n",
        "# bs 20 \n",
        "#lstm_hidden_size= 70\n",
        "#dropout_rate = 0.2\n",
        "#learning_rate = 4e-5\n",
        "#clip_grad_value = 2.0\n",
        "#custom_weight_value = 27.0\n",
        "\n",
        "avg_train_loss_per_epoch, avg_val_loss_per_epoch, train_accuracies, val_accuracies, train_f_scores, val_f_scores = train_model(model, train_dataset, train_dataloader, val_dataloader, criterion, optimizer, num_epochs, clip_grad_value, weighting_method='custom', custom_value=custom_weight_value, patience = 50)"
      ],
      "metadata": {
        "colab": {
          "base_uri": "https://localhost:8080/"
        },
        "id": "bLcP4AJ9XOG5",
        "outputId": "1a2a552a-7971-4842-96ad-09a5ccf56329"
      },
      "execution_count": null,
      "outputs": [
        {
          "output_type": "stream",
          "name": "stdout",
          "text": [
            "Epoch 1/100\n",
            "Validation Loss: 1.0357710485750775, Validation Accuracy: 0.9771716378859236, Best F-score: 0.6688804554079696, Best Threshold: 0.9696148037910461\n",
            "Epoch 2/100\n",
            "Validation Loss: 1.124192273841714, Validation Accuracy: 0.97854526425955, Best F-score: 0.6810889645114243, Best Threshold: 0.9705095291137695\n",
            "Epoch 3/100\n",
            "Validation Loss: 1.1666829138994217, Validation Accuracy: 0.9775968079539508, Best F-score: 0.6791569086651054, Best Threshold: 0.9663196206092834\n",
            "Epoch 4/100\n",
            "Validation Loss: 1.3827161829707757, Validation Accuracy: 0.976304945054945, Best F-score: 0.6713540485370832, Best Threshold: 0.9650532007217407\n",
            "Epoch 5/100\n",
            "Validation Loss: 1.317360872789374, Validation Accuracy: 0.9773842229199372, Best F-score: 0.6803790154841691, Best Threshold: 0.9659895896911621\n",
            "Epoch 6/100\n",
            "Validation Loss: 1.3777492953077801, Validation Accuracy: 0.9764194139194139, Best F-score: 0.6774049217002237, Best Threshold: 0.9627013802528381\n",
            "Epoch 7/100\n",
            "Validation Loss: 1.2183032280431603, Validation Accuracy: 0.9768936420722135, Best F-score: 0.6783519235146824, Best Threshold: 0.9618566036224365\n",
            "Epoch 8/100\n",
            "Validation Loss: 1.21363857641535, Validation Accuracy: 0.9772370486656201, Best F-score: 0.6792626728110599, Best Threshold: 0.9658794403076172\n",
            "Epoch 9/100\n",
            "Validation Loss: 1.4240278233334702, Validation Accuracy: 0.976566588173731, Best F-score: 0.6701956271576525, Best Threshold: 0.9701871871948242\n",
            "Epoch 10/100\n",
            "Validation Loss: 1.6002210612004657, Validation Accuracy: 0.9774496336996337, Best F-score: 0.6717448226612711, Best Threshold: 0.9702597856521606\n",
            "Train Loss: 0.05863251131594252, Train Accuracy: 0.9909515731784893, Best F-score: 0.8811907693955132, Best Threshold: 0.9604926109313965\n",
            "Epoch 11/100\n",
            "Validation Loss: 1.4914450618034263, Validation Accuracy: 0.9771062271062271, Best F-score: 0.6765249537892791, Best Threshold: 0.969567060470581\n",
            "Epoch 12/100\n",
            "Validation Loss: 1.3901184448656045, Validation Accuracy: 0.9768118785975929, Best F-score: 0.6714550509731232, Best Threshold: 0.9648933410644531\n",
            "Epoch 13/100\n",
            "Validation Loss: 1.5782682507667902, Validation Accuracy: 0.9773024594453166, Best F-score: 0.6755493221131369, Best Threshold: 0.9705654382705688\n",
            "Epoch 14/100\n",
            "Validation Loss: 1.6370623426617317, Validation Accuracy: 0.9772697540554683, Best F-score: 0.6729411764705883, Best Threshold: 0.9656462073326111\n",
            "Epoch 15/100\n",
            "Validation Loss: 1.5156402444502093, Validation Accuracy: 0.9779565672422815, Best F-score: 0.6816249409541805, Best Threshold: 0.9661272764205933\n",
            "Epoch 16/100\n",
            "Validation Loss: 1.5434083531276797, Validation Accuracy: 0.9766647043432758, Best F-score: 0.6786759738797568, Best Threshold: 0.9642755389213562\n",
            "Epoch 17/100\n",
            "Validation Loss: 1.4603032076133873, Validation Accuracy: 0.9777766875981162, Best F-score: 0.6829951014695591, Best Threshold: 0.9578887224197388\n",
            "Epoch 18/100\n",
            "Validation Loss: 1.342781422694899, Validation Accuracy: 0.9779075091575091, Best F-score: 0.6855946008843379, Best Threshold: 0.967833399772644\n",
            "Epoch 19/100\n",
            "Validation Loss: 1.168894094819168, Validation Accuracy: 0.9777766875981162, Best F-score: 0.6825508058864752, Best Threshold: 0.9591758847236633\n",
            "Epoch 20/100\n",
            "Validation Loss: 1.2472716699231345, Validation Accuracy: 0.9785125588697017, Best F-score: 0.6892147587511825, Best Threshold: 0.9683433175086975\n",
            "Train Loss: 0.05386338716775462, Train Accuracy: 0.9909678839974555, Best F-score: 0.8815064462633071, Best Threshold: 0.94175124168396\n",
            "Epoch 21/100\n",
            "Validation Loss: 1.8522334312492947, Validation Accuracy: 0.9772697540554683, Best F-score: 0.6788354898336414, Best Threshold: 0.9663454294204712\n",
            "Epoch 22/100\n",
            "Validation Loss: 1.0312364577965916, Validation Accuracy: 0.9778420983778127, Best F-score: 0.6785290628706999, Best Threshold: 0.9660463929176331\n",
            "Epoch 23/100\n",
            "Validation Loss: 1.4823217763091034, Validation Accuracy: 0.9774496336996337, Best F-score: 0.6753002119142923, Best Threshold: 0.965474009513855\n",
            "Epoch 24/100\n",
            "Validation Loss: 1.6934573194890652, Validation Accuracy: 0.9781691522762951, Best F-score: 0.6777697320782042, Best Threshold: 0.9696771502494812\n",
            "Epoch 25/100\n",
            "Validation Loss: 1.790129724546239, Validation Accuracy: 0.9769263474620618, Best F-score: 0.6776330820196481, Best Threshold: 0.9675372838973999\n",
            "Epoch 26/100\n",
            "Validation Loss: 1.7038759904087715, Validation Accuracy: 0.9772861067503925, Best F-score: 0.6775017413512886, Best Threshold: 0.962383508682251\n",
            "Epoch 27/100\n",
            "Validation Loss: 1.4660741109049544, Validation Accuracy: 0.9761087127158555, Best F-score: 0.6689326988443237, Best Threshold: 0.9576808214187622\n",
            "Epoch 28/100\n",
            "Validation Loss: 1.6970315332401473, Validation Accuracy: 0.9776785714285714, Best F-score: 0.6755407653910149, Best Threshold: 0.9681375622749329\n",
            "Epoch 29/100\n",
            "Validation Loss: 1.672251930354901, Validation Accuracy: 0.9776295133437991, Best F-score: 0.6770538243626063, Best Threshold: 0.9619983434677124\n",
            "Epoch 30/100\n",
            "Validation Loss: 2.0643354083569543, Validation Accuracy: 0.9772861067503925, Best F-score: 0.6713981547196594, Best Threshold: 0.9640556573867798\n",
            "Train Loss: 0.05658207303925136, Train Accuracy: 0.9910086610448711, Best F-score: 0.8824564209179593, Best Threshold: 0.9535976648330688\n",
            "Epoch 31/100\n",
            "Validation Loss: 1.57687364912258, Validation Accuracy: 0.9773024594453166, Best F-score: 0.6829602558245774, Best Threshold: 0.9651861786842346\n",
            "Epoch 32/100\n",
            "Validation Loss: 1.9252265040534284, Validation Accuracy: 0.9778257456828885, Best F-score: 0.6791292001893044, Best Threshold: 0.9677172899246216\n",
            "Epoch 33/100\n",
            "Validation Loss: 1.567664086537541, Validation Accuracy: 0.9777112768184196, Best F-score: 0.6851466851466851, Best Threshold: 0.9678598642349243\n",
            "Epoch 34/100\n",
            "Validation Loss: 1.677398777795288, Validation Accuracy: 0.9780056253270539, Best F-score: 0.6840498003288701, Best Threshold: 0.9667941331863403\n",
            "Epoch 35/100\n",
            "Validation Loss: 1.6133294532883842, Validation Accuracy: 0.9779729199372057, Best F-score: 0.6826855123674912, Best Threshold: 0.9660643339157104\n",
            "Epoch 36/100\n",
            "Validation Loss: 1.7986909741500638, Validation Accuracy: 0.9774986917844061, Best F-score: 0.678654834189631, Best Threshold: 0.9652170538902283\n",
            "Epoch 37/100\n",
            "Validation Loss: 1.8894095062893235, Validation Accuracy: 0.9777112768184196, Best F-score: 0.6784619013918377, Best Threshold: 0.968172550201416\n",
            "Epoch 38/100\n",
            "Validation Loss: 1.7442935887935027, Validation Accuracy: 0.9775968079539508, Best F-score: 0.6781015037593985, Best Threshold: 0.9643549919128418\n",
            "Epoch 39/100\n",
            "Validation Loss: 1.673178376137929, Validation Accuracy: 0.9776458660387232, Best F-score: 0.6829041985618186, Best Threshold: 0.9618006348609924\n",
            "Epoch 40/100\n",
            "Validation Loss: 1.8612030317198556, Validation Accuracy: 0.9776622187336473, Best F-score: 0.6785882352941177, Best Threshold: 0.9699957966804504\n",
            "Train Loss: 0.05013104269130049, Train Accuracy: 0.9910290495685788, Best F-score: 0.8820122278236618, Best Threshold: 0.9658672213554382\n",
            "Epoch 41/100\n",
            "Validation Loss: 1.5838383784658223, Validation Accuracy: 0.9770571690214548, Best F-score: 0.6716592557921836, Best Threshold: 0.9689432978630066\n",
            "Epoch 42/100\n",
            "Validation Loss: 2.06947131623637, Validation Accuracy: 0.9765992935635793, Best F-score: 0.6757307953772943, Best Threshold: 0.9633358120918274\n",
            "Epoch 43/100\n",
            "Validation Loss: 1.5656448842909292, Validation Accuracy: 0.9770081109366824, Best F-score: 0.6775229357798165, Best Threshold: 0.965408444404602\n",
            "Epoch 44/100\n",
            "Validation Loss: 1.6837507579124198, Validation Accuracy: 0.9774332810047096, Best F-score: 0.6784715750232991, Best Threshold: 0.9681780338287354\n",
            "Epoch 45/100\n",
            "Validation Loss: 2.013157368268607, Validation Accuracy: 0.9772370486656201, Best F-score: 0.6746143057503506, Best Threshold: 0.9683693647384644\n",
            "Epoch 46/100\n",
            "Validation Loss: 2.0437638928305426, Validation Accuracy: 0.9771225798011512, Best F-score: 0.6696576151121606, Best Threshold: 0.9691502451896667\n",
            "Epoch 47/100\n",
            "Validation Loss: 2.0068219312519395, Validation Accuracy: 0.9776785714285714, Best F-score: 0.6746126340882002, Best Threshold: 0.967333972454071\n",
            "Epoch 48/100\n",
            "Validation Loss: 1.7537378564758122, Validation Accuracy: 0.9772370486656201, Best F-score: 0.675221651889874, Best Threshold: 0.9646950364112854\n",
            "Epoch 49/100\n",
            "Validation Loss: 1.505739391974683, Validation Accuracy: 0.9772043432757719, Best F-score: 0.673536299765808, Best Threshold: 0.970740020275116\n",
            "Epoch 50/100\n",
            "Validation Loss: 1.9037586714861527, Validation Accuracy: 0.9774332810047096, Best F-score: 0.6720532319391634, Best Threshold: 0.9644636511802673\n",
            "Train Loss: 0.049499335804967445, Train Accuracy: 0.9911269144823761, Best F-score: 0.8838103374626228, Best Threshold: 0.9531158208847046\n",
            "Epoch 51/100\n",
            "Validation Loss: 1.724266693277179, Validation Accuracy: 0.9761414181057039, Best F-score: 0.664057103384757, Best Threshold: 0.9613498449325562\n",
            "Epoch 52/100\n",
            "Validation Loss: 1.8376559989069992, Validation Accuracy: 0.9769427001569859, Best F-score: 0.6760110294117647, Best Threshold: 0.9672109484672546\n",
            "Early stopping triggered after 52 epochs due to no improvement in validation accuracy\n"
          ]
        }
      ]
    }
  ],
  "metadata": {
    "accelerator": "GPU",
    "colab": {
      "machine_shape": "hm",
      "provenance": [],
      "authorship_tag": "ABX9TyM5zDMFTHDTxAtehCX608XE",
      "include_colab_link": true
    },
    "gpuClass": "premium",
    "kernelspec": {
      "display_name": "Python 3",
      "name": "python3"
    },
    "language_info": {
      "name": "python"
    },
    "widgets": {
      "application/vnd.jupyter.widget-state+json": {
        "411d614a08564a59b6a0d2812c243db7": {
          "model_module": "@jupyter-widgets/controls",
          "model_name": "HBoxModel",
          "model_module_version": "1.5.0",
          "state": {
            "_dom_classes": [],
            "_model_module": "@jupyter-widgets/controls",
            "_model_module_version": "1.5.0",
            "_model_name": "HBoxModel",
            "_view_count": null,
            "_view_module": "@jupyter-widgets/controls",
            "_view_module_version": "1.5.0",
            "_view_name": "HBoxView",
            "box_style": "",
            "children": [
              "IPY_MODEL_0094bed12845473da3e11ed86afbf1de",
              "IPY_MODEL_083f0f09da744b52aedd83e5f56786e2",
              "IPY_MODEL_21575a370cc24e9088736625916a4360"
            ],
            "layout": "IPY_MODEL_91f93a4e730f4d39912201dfbf79583d"
          }
        },
        "0094bed12845473da3e11ed86afbf1de": {
          "model_module": "@jupyter-widgets/controls",
          "model_name": "HTMLModel",
          "model_module_version": "1.5.0",
          "state": {
            "_dom_classes": [],
            "_model_module": "@jupyter-widgets/controls",
            "_model_module_version": "1.5.0",
            "_model_name": "HTMLModel",
            "_view_count": null,
            "_view_module": "@jupyter-widgets/controls",
            "_view_module_version": "1.5.0",
            "_view_name": "HTMLView",
            "description": "",
            "description_tooltip": null,
            "layout": "IPY_MODEL_e84ac0910e914525b8866baa45dfea2c",
            "placeholder": "​",
            "style": "IPY_MODEL_4d1d5b5716cc4ed18b36ba91c5dea38a",
            "value": "Downloading (…)solve/main/vocab.txt: 100%"
          }
        },
        "083f0f09da744b52aedd83e5f56786e2": {
          "model_module": "@jupyter-widgets/controls",
          "model_name": "FloatProgressModel",
          "model_module_version": "1.5.0",
          "state": {
            "_dom_classes": [],
            "_model_module": "@jupyter-widgets/controls",
            "_model_module_version": "1.5.0",
            "_model_name": "FloatProgressModel",
            "_view_count": null,
            "_view_module": "@jupyter-widgets/controls",
            "_view_module_version": "1.5.0",
            "_view_name": "ProgressView",
            "bar_style": "success",
            "description": "",
            "description_tooltip": null,
            "layout": "IPY_MODEL_a457e17484284136a079d7135d0dbcd9",
            "max": 231508,
            "min": 0,
            "orientation": "horizontal",
            "style": "IPY_MODEL_66a82d17fd5e4c01acb1f7971fde8f7f",
            "value": 231508
          }
        },
        "21575a370cc24e9088736625916a4360": {
          "model_module": "@jupyter-widgets/controls",
          "model_name": "HTMLModel",
          "model_module_version": "1.5.0",
          "state": {
            "_dom_classes": [],
            "_model_module": "@jupyter-widgets/controls",
            "_model_module_version": "1.5.0",
            "_model_name": "HTMLModel",
            "_view_count": null,
            "_view_module": "@jupyter-widgets/controls",
            "_view_module_version": "1.5.0",
            "_view_name": "HTMLView",
            "description": "",
            "description_tooltip": null,
            "layout": "IPY_MODEL_5298d455d51b441d9126da0d00b84f25",
            "placeholder": "​",
            "style": "IPY_MODEL_eb87351c3f1142bcb66178333dba9f11",
            "value": " 232k/232k [00:00&lt;00:00, 548kB/s]"
          }
        },
        "91f93a4e730f4d39912201dfbf79583d": {
          "model_module": "@jupyter-widgets/base",
          "model_name": "LayoutModel",
          "model_module_version": "1.2.0",
          "state": {
            "_model_module": "@jupyter-widgets/base",
            "_model_module_version": "1.2.0",
            "_model_name": "LayoutModel",
            "_view_count": null,
            "_view_module": "@jupyter-widgets/base",
            "_view_module_version": "1.2.0",
            "_view_name": "LayoutView",
            "align_content": null,
            "align_items": null,
            "align_self": null,
            "border": null,
            "bottom": null,
            "display": null,
            "flex": null,
            "flex_flow": null,
            "grid_area": null,
            "grid_auto_columns": null,
            "grid_auto_flow": null,
            "grid_auto_rows": null,
            "grid_column": null,
            "grid_gap": null,
            "grid_row": null,
            "grid_template_areas": null,
            "grid_template_columns": null,
            "grid_template_rows": null,
            "height": null,
            "justify_content": null,
            "justify_items": null,
            "left": null,
            "margin": null,
            "max_height": null,
            "max_width": null,
            "min_height": null,
            "min_width": null,
            "object_fit": null,
            "object_position": null,
            "order": null,
            "overflow": null,
            "overflow_x": null,
            "overflow_y": null,
            "padding": null,
            "right": null,
            "top": null,
            "visibility": null,
            "width": null
          }
        },
        "e84ac0910e914525b8866baa45dfea2c": {
          "model_module": "@jupyter-widgets/base",
          "model_name": "LayoutModel",
          "model_module_version": "1.2.0",
          "state": {
            "_model_module": "@jupyter-widgets/base",
            "_model_module_version": "1.2.0",
            "_model_name": "LayoutModel",
            "_view_count": null,
            "_view_module": "@jupyter-widgets/base",
            "_view_module_version": "1.2.0",
            "_view_name": "LayoutView",
            "align_content": null,
            "align_items": null,
            "align_self": null,
            "border": null,
            "bottom": null,
            "display": null,
            "flex": null,
            "flex_flow": null,
            "grid_area": null,
            "grid_auto_columns": null,
            "grid_auto_flow": null,
            "grid_auto_rows": null,
            "grid_column": null,
            "grid_gap": null,
            "grid_row": null,
            "grid_template_areas": null,
            "grid_template_columns": null,
            "grid_template_rows": null,
            "height": null,
            "justify_content": null,
            "justify_items": null,
            "left": null,
            "margin": null,
            "max_height": null,
            "max_width": null,
            "min_height": null,
            "min_width": null,
            "object_fit": null,
            "object_position": null,
            "order": null,
            "overflow": null,
            "overflow_x": null,
            "overflow_y": null,
            "padding": null,
            "right": null,
            "top": null,
            "visibility": null,
            "width": null
          }
        },
        "4d1d5b5716cc4ed18b36ba91c5dea38a": {
          "model_module": "@jupyter-widgets/controls",
          "model_name": "DescriptionStyleModel",
          "model_module_version": "1.5.0",
          "state": {
            "_model_module": "@jupyter-widgets/controls",
            "_model_module_version": "1.5.0",
            "_model_name": "DescriptionStyleModel",
            "_view_count": null,
            "_view_module": "@jupyter-widgets/base",
            "_view_module_version": "1.2.0",
            "_view_name": "StyleView",
            "description_width": ""
          }
        },
        "a457e17484284136a079d7135d0dbcd9": {
          "model_module": "@jupyter-widgets/base",
          "model_name": "LayoutModel",
          "model_module_version": "1.2.0",
          "state": {
            "_model_module": "@jupyter-widgets/base",
            "_model_module_version": "1.2.0",
            "_model_name": "LayoutModel",
            "_view_count": null,
            "_view_module": "@jupyter-widgets/base",
            "_view_module_version": "1.2.0",
            "_view_name": "LayoutView",
            "align_content": null,
            "align_items": null,
            "align_self": null,
            "border": null,
            "bottom": null,
            "display": null,
            "flex": null,
            "flex_flow": null,
            "grid_area": null,
            "grid_auto_columns": null,
            "grid_auto_flow": null,
            "grid_auto_rows": null,
            "grid_column": null,
            "grid_gap": null,
            "grid_row": null,
            "grid_template_areas": null,
            "grid_template_columns": null,
            "grid_template_rows": null,
            "height": null,
            "justify_content": null,
            "justify_items": null,
            "left": null,
            "margin": null,
            "max_height": null,
            "max_width": null,
            "min_height": null,
            "min_width": null,
            "object_fit": null,
            "object_position": null,
            "order": null,
            "overflow": null,
            "overflow_x": null,
            "overflow_y": null,
            "padding": null,
            "right": null,
            "top": null,
            "visibility": null,
            "width": null
          }
        },
        "66a82d17fd5e4c01acb1f7971fde8f7f": {
          "model_module": "@jupyter-widgets/controls",
          "model_name": "ProgressStyleModel",
          "model_module_version": "1.5.0",
          "state": {
            "_model_module": "@jupyter-widgets/controls",
            "_model_module_version": "1.5.0",
            "_model_name": "ProgressStyleModel",
            "_view_count": null,
            "_view_module": "@jupyter-widgets/base",
            "_view_module_version": "1.2.0",
            "_view_name": "StyleView",
            "bar_color": null,
            "description_width": ""
          }
        },
        "5298d455d51b441d9126da0d00b84f25": {
          "model_module": "@jupyter-widgets/base",
          "model_name": "LayoutModel",
          "model_module_version": "1.2.0",
          "state": {
            "_model_module": "@jupyter-widgets/base",
            "_model_module_version": "1.2.0",
            "_model_name": "LayoutModel",
            "_view_count": null,
            "_view_module": "@jupyter-widgets/base",
            "_view_module_version": "1.2.0",
            "_view_name": "LayoutView",
            "align_content": null,
            "align_items": null,
            "align_self": null,
            "border": null,
            "bottom": null,
            "display": null,
            "flex": null,
            "flex_flow": null,
            "grid_area": null,
            "grid_auto_columns": null,
            "grid_auto_flow": null,
            "grid_auto_rows": null,
            "grid_column": null,
            "grid_gap": null,
            "grid_row": null,
            "grid_template_areas": null,
            "grid_template_columns": null,
            "grid_template_rows": null,
            "height": null,
            "justify_content": null,
            "justify_items": null,
            "left": null,
            "margin": null,
            "max_height": null,
            "max_width": null,
            "min_height": null,
            "min_width": null,
            "object_fit": null,
            "object_position": null,
            "order": null,
            "overflow": null,
            "overflow_x": null,
            "overflow_y": null,
            "padding": null,
            "right": null,
            "top": null,
            "visibility": null,
            "width": null
          }
        },
        "eb87351c3f1142bcb66178333dba9f11": {
          "model_module": "@jupyter-widgets/controls",
          "model_name": "DescriptionStyleModel",
          "model_module_version": "1.5.0",
          "state": {
            "_model_module": "@jupyter-widgets/controls",
            "_model_module_version": "1.5.0",
            "_model_name": "DescriptionStyleModel",
            "_view_count": null,
            "_view_module": "@jupyter-widgets/base",
            "_view_module_version": "1.2.0",
            "_view_name": "StyleView",
            "description_width": ""
          }
        },
        "6546d67623824df9b3167ed573d7cbb8": {
          "model_module": "@jupyter-widgets/controls",
          "model_name": "HBoxModel",
          "model_module_version": "1.5.0",
          "state": {
            "_dom_classes": [],
            "_model_module": "@jupyter-widgets/controls",
            "_model_module_version": "1.5.0",
            "_model_name": "HBoxModel",
            "_view_count": null,
            "_view_module": "@jupyter-widgets/controls",
            "_view_module_version": "1.5.0",
            "_view_name": "HBoxView",
            "box_style": "",
            "children": [
              "IPY_MODEL_f56189835b7c4c479da150773aad7be9",
              "IPY_MODEL_0bc9e27da34e4142bd2b7303eb9078cc",
              "IPY_MODEL_bf2414fc1ab740b1a30f03db17b59a40"
            ],
            "layout": "IPY_MODEL_90a1df6419ec4984b526ef45ac082cac"
          }
        },
        "f56189835b7c4c479da150773aad7be9": {
          "model_module": "@jupyter-widgets/controls",
          "model_name": "HTMLModel",
          "model_module_version": "1.5.0",
          "state": {
            "_dom_classes": [],
            "_model_module": "@jupyter-widgets/controls",
            "_model_module_version": "1.5.0",
            "_model_name": "HTMLModel",
            "_view_count": null,
            "_view_module": "@jupyter-widgets/controls",
            "_view_module_version": "1.5.0",
            "_view_name": "HTMLView",
            "description": "",
            "description_tooltip": null,
            "layout": "IPY_MODEL_a592c952e27545798aebeef40196c9d0",
            "placeholder": "​",
            "style": "IPY_MODEL_c1c50948e92f4c6c845e3494b2338579",
            "value": "Downloading (…)okenizer_config.json: 100%"
          }
        },
        "0bc9e27da34e4142bd2b7303eb9078cc": {
          "model_module": "@jupyter-widgets/controls",
          "model_name": "FloatProgressModel",
          "model_module_version": "1.5.0",
          "state": {
            "_dom_classes": [],
            "_model_module": "@jupyter-widgets/controls",
            "_model_module_version": "1.5.0",
            "_model_name": "FloatProgressModel",
            "_view_count": null,
            "_view_module": "@jupyter-widgets/controls",
            "_view_module_version": "1.5.0",
            "_view_name": "ProgressView",
            "bar_style": "success",
            "description": "",
            "description_tooltip": null,
            "layout": "IPY_MODEL_d8543632fb1249b59bad64f3d436430f",
            "max": 28,
            "min": 0,
            "orientation": "horizontal",
            "style": "IPY_MODEL_5195bd7287e94b2ea3c1c26d352595ea",
            "value": 28
          }
        },
        "bf2414fc1ab740b1a30f03db17b59a40": {
          "model_module": "@jupyter-widgets/controls",
          "model_name": "HTMLModel",
          "model_module_version": "1.5.0",
          "state": {
            "_dom_classes": [],
            "_model_module": "@jupyter-widgets/controls",
            "_model_module_version": "1.5.0",
            "_model_name": "HTMLModel",
            "_view_count": null,
            "_view_module": "@jupyter-widgets/controls",
            "_view_module_version": "1.5.0",
            "_view_name": "HTMLView",
            "description": "",
            "description_tooltip": null,
            "layout": "IPY_MODEL_c0ec7b19bfe24a04a369a38033ca0a72",
            "placeholder": "​",
            "style": "IPY_MODEL_05cb3a6adbcd4b9ebd5d0e2b0fde59a4",
            "value": " 28.0/28.0 [00:00&lt;00:00, 1.70kB/s]"
          }
        },
        "90a1df6419ec4984b526ef45ac082cac": {
          "model_module": "@jupyter-widgets/base",
          "model_name": "LayoutModel",
          "model_module_version": "1.2.0",
          "state": {
            "_model_module": "@jupyter-widgets/base",
            "_model_module_version": "1.2.0",
            "_model_name": "LayoutModel",
            "_view_count": null,
            "_view_module": "@jupyter-widgets/base",
            "_view_module_version": "1.2.0",
            "_view_name": "LayoutView",
            "align_content": null,
            "align_items": null,
            "align_self": null,
            "border": null,
            "bottom": null,
            "display": null,
            "flex": null,
            "flex_flow": null,
            "grid_area": null,
            "grid_auto_columns": null,
            "grid_auto_flow": null,
            "grid_auto_rows": null,
            "grid_column": null,
            "grid_gap": null,
            "grid_row": null,
            "grid_template_areas": null,
            "grid_template_columns": null,
            "grid_template_rows": null,
            "height": null,
            "justify_content": null,
            "justify_items": null,
            "left": null,
            "margin": null,
            "max_height": null,
            "max_width": null,
            "min_height": null,
            "min_width": null,
            "object_fit": null,
            "object_position": null,
            "order": null,
            "overflow": null,
            "overflow_x": null,
            "overflow_y": null,
            "padding": null,
            "right": null,
            "top": null,
            "visibility": null,
            "width": null
          }
        },
        "a592c952e27545798aebeef40196c9d0": {
          "model_module": "@jupyter-widgets/base",
          "model_name": "LayoutModel",
          "model_module_version": "1.2.0",
          "state": {
            "_model_module": "@jupyter-widgets/base",
            "_model_module_version": "1.2.0",
            "_model_name": "LayoutModel",
            "_view_count": null,
            "_view_module": "@jupyter-widgets/base",
            "_view_module_version": "1.2.0",
            "_view_name": "LayoutView",
            "align_content": null,
            "align_items": null,
            "align_self": null,
            "border": null,
            "bottom": null,
            "display": null,
            "flex": null,
            "flex_flow": null,
            "grid_area": null,
            "grid_auto_columns": null,
            "grid_auto_flow": null,
            "grid_auto_rows": null,
            "grid_column": null,
            "grid_gap": null,
            "grid_row": null,
            "grid_template_areas": null,
            "grid_template_columns": null,
            "grid_template_rows": null,
            "height": null,
            "justify_content": null,
            "justify_items": null,
            "left": null,
            "margin": null,
            "max_height": null,
            "max_width": null,
            "min_height": null,
            "min_width": null,
            "object_fit": null,
            "object_position": null,
            "order": null,
            "overflow": null,
            "overflow_x": null,
            "overflow_y": null,
            "padding": null,
            "right": null,
            "top": null,
            "visibility": null,
            "width": null
          }
        },
        "c1c50948e92f4c6c845e3494b2338579": {
          "model_module": "@jupyter-widgets/controls",
          "model_name": "DescriptionStyleModel",
          "model_module_version": "1.5.0",
          "state": {
            "_model_module": "@jupyter-widgets/controls",
            "_model_module_version": "1.5.0",
            "_model_name": "DescriptionStyleModel",
            "_view_count": null,
            "_view_module": "@jupyter-widgets/base",
            "_view_module_version": "1.2.0",
            "_view_name": "StyleView",
            "description_width": ""
          }
        },
        "d8543632fb1249b59bad64f3d436430f": {
          "model_module": "@jupyter-widgets/base",
          "model_name": "LayoutModel",
          "model_module_version": "1.2.0",
          "state": {
            "_model_module": "@jupyter-widgets/base",
            "_model_module_version": "1.2.0",
            "_model_name": "LayoutModel",
            "_view_count": null,
            "_view_module": "@jupyter-widgets/base",
            "_view_module_version": "1.2.0",
            "_view_name": "LayoutView",
            "align_content": null,
            "align_items": null,
            "align_self": null,
            "border": null,
            "bottom": null,
            "display": null,
            "flex": null,
            "flex_flow": null,
            "grid_area": null,
            "grid_auto_columns": null,
            "grid_auto_flow": null,
            "grid_auto_rows": null,
            "grid_column": null,
            "grid_gap": null,
            "grid_row": null,
            "grid_template_areas": null,
            "grid_template_columns": null,
            "grid_template_rows": null,
            "height": null,
            "justify_content": null,
            "justify_items": null,
            "left": null,
            "margin": null,
            "max_height": null,
            "max_width": null,
            "min_height": null,
            "min_width": null,
            "object_fit": null,
            "object_position": null,
            "order": null,
            "overflow": null,
            "overflow_x": null,
            "overflow_y": null,
            "padding": null,
            "right": null,
            "top": null,
            "visibility": null,
            "width": null
          }
        },
        "5195bd7287e94b2ea3c1c26d352595ea": {
          "model_module": "@jupyter-widgets/controls",
          "model_name": "ProgressStyleModel",
          "model_module_version": "1.5.0",
          "state": {
            "_model_module": "@jupyter-widgets/controls",
            "_model_module_version": "1.5.0",
            "_model_name": "ProgressStyleModel",
            "_view_count": null,
            "_view_module": "@jupyter-widgets/base",
            "_view_module_version": "1.2.0",
            "_view_name": "StyleView",
            "bar_color": null,
            "description_width": ""
          }
        },
        "c0ec7b19bfe24a04a369a38033ca0a72": {
          "model_module": "@jupyter-widgets/base",
          "model_name": "LayoutModel",
          "model_module_version": "1.2.0",
          "state": {
            "_model_module": "@jupyter-widgets/base",
            "_model_module_version": "1.2.0",
            "_model_name": "LayoutModel",
            "_view_count": null,
            "_view_module": "@jupyter-widgets/base",
            "_view_module_version": "1.2.0",
            "_view_name": "LayoutView",
            "align_content": null,
            "align_items": null,
            "align_self": null,
            "border": null,
            "bottom": null,
            "display": null,
            "flex": null,
            "flex_flow": null,
            "grid_area": null,
            "grid_auto_columns": null,
            "grid_auto_flow": null,
            "grid_auto_rows": null,
            "grid_column": null,
            "grid_gap": null,
            "grid_row": null,
            "grid_template_areas": null,
            "grid_template_columns": null,
            "grid_template_rows": null,
            "height": null,
            "justify_content": null,
            "justify_items": null,
            "left": null,
            "margin": null,
            "max_height": null,
            "max_width": null,
            "min_height": null,
            "min_width": null,
            "object_fit": null,
            "object_position": null,
            "order": null,
            "overflow": null,
            "overflow_x": null,
            "overflow_y": null,
            "padding": null,
            "right": null,
            "top": null,
            "visibility": null,
            "width": null
          }
        },
        "05cb3a6adbcd4b9ebd5d0e2b0fde59a4": {
          "model_module": "@jupyter-widgets/controls",
          "model_name": "DescriptionStyleModel",
          "model_module_version": "1.5.0",
          "state": {
            "_model_module": "@jupyter-widgets/controls",
            "_model_module_version": "1.5.0",
            "_model_name": "DescriptionStyleModel",
            "_view_count": null,
            "_view_module": "@jupyter-widgets/base",
            "_view_module_version": "1.2.0",
            "_view_name": "StyleView",
            "description_width": ""
          }
        },
        "412a144773ed46deae2870a069f5b122": {
          "model_module": "@jupyter-widgets/controls",
          "model_name": "HBoxModel",
          "model_module_version": "1.5.0",
          "state": {
            "_dom_classes": [],
            "_model_module": "@jupyter-widgets/controls",
            "_model_module_version": "1.5.0",
            "_model_name": "HBoxModel",
            "_view_count": null,
            "_view_module": "@jupyter-widgets/controls",
            "_view_module_version": "1.5.0",
            "_view_name": "HBoxView",
            "box_style": "",
            "children": [
              "IPY_MODEL_01a4f65d4f524f72ab3a44343192d00b",
              "IPY_MODEL_d7702d23f5c541a39f67630e447c326e",
              "IPY_MODEL_5f78b30626984f09a650a04595687f29"
            ],
            "layout": "IPY_MODEL_164492f77ab843fb86b81010375ffc97"
          }
        },
        "01a4f65d4f524f72ab3a44343192d00b": {
          "model_module": "@jupyter-widgets/controls",
          "model_name": "HTMLModel",
          "model_module_version": "1.5.0",
          "state": {
            "_dom_classes": [],
            "_model_module": "@jupyter-widgets/controls",
            "_model_module_version": "1.5.0",
            "_model_name": "HTMLModel",
            "_view_count": null,
            "_view_module": "@jupyter-widgets/controls",
            "_view_module_version": "1.5.0",
            "_view_name": "HTMLView",
            "description": "",
            "description_tooltip": null,
            "layout": "IPY_MODEL_a5775cff861b49c7904e474b8b72c86a",
            "placeholder": "​",
            "style": "IPY_MODEL_7b881ef7359f499a9d4e1020012228bd",
            "value": "Downloading (…)lve/main/config.json: 100%"
          }
        },
        "d7702d23f5c541a39f67630e447c326e": {
          "model_module": "@jupyter-widgets/controls",
          "model_name": "FloatProgressModel",
          "model_module_version": "1.5.0",
          "state": {
            "_dom_classes": [],
            "_model_module": "@jupyter-widgets/controls",
            "_model_module_version": "1.5.0",
            "_model_name": "FloatProgressModel",
            "_view_count": null,
            "_view_module": "@jupyter-widgets/controls",
            "_view_module_version": "1.5.0",
            "_view_name": "ProgressView",
            "bar_style": "success",
            "description": "",
            "description_tooltip": null,
            "layout": "IPY_MODEL_37fc5a14b4574574a500188fd5c7b682",
            "max": 570,
            "min": 0,
            "orientation": "horizontal",
            "style": "IPY_MODEL_83e4d0f81c4f450cb2108ebd135502e6",
            "value": 570
          }
        },
        "5f78b30626984f09a650a04595687f29": {
          "model_module": "@jupyter-widgets/controls",
          "model_name": "HTMLModel",
          "model_module_version": "1.5.0",
          "state": {
            "_dom_classes": [],
            "_model_module": "@jupyter-widgets/controls",
            "_model_module_version": "1.5.0",
            "_model_name": "HTMLModel",
            "_view_count": null,
            "_view_module": "@jupyter-widgets/controls",
            "_view_module_version": "1.5.0",
            "_view_name": "HTMLView",
            "description": "",
            "description_tooltip": null,
            "layout": "IPY_MODEL_cb6889bd0e684db3b01ce5771151b47d",
            "placeholder": "​",
            "style": "IPY_MODEL_9575ca427af249578ef71ce379456120",
            "value": " 570/570 [00:00&lt;00:00, 45.8kB/s]"
          }
        },
        "164492f77ab843fb86b81010375ffc97": {
          "model_module": "@jupyter-widgets/base",
          "model_name": "LayoutModel",
          "model_module_version": "1.2.0",
          "state": {
            "_model_module": "@jupyter-widgets/base",
            "_model_module_version": "1.2.0",
            "_model_name": "LayoutModel",
            "_view_count": null,
            "_view_module": "@jupyter-widgets/base",
            "_view_module_version": "1.2.0",
            "_view_name": "LayoutView",
            "align_content": null,
            "align_items": null,
            "align_self": null,
            "border": null,
            "bottom": null,
            "display": null,
            "flex": null,
            "flex_flow": null,
            "grid_area": null,
            "grid_auto_columns": null,
            "grid_auto_flow": null,
            "grid_auto_rows": null,
            "grid_column": null,
            "grid_gap": null,
            "grid_row": null,
            "grid_template_areas": null,
            "grid_template_columns": null,
            "grid_template_rows": null,
            "height": null,
            "justify_content": null,
            "justify_items": null,
            "left": null,
            "margin": null,
            "max_height": null,
            "max_width": null,
            "min_height": null,
            "min_width": null,
            "object_fit": null,
            "object_position": null,
            "order": null,
            "overflow": null,
            "overflow_x": null,
            "overflow_y": null,
            "padding": null,
            "right": null,
            "top": null,
            "visibility": null,
            "width": null
          }
        },
        "a5775cff861b49c7904e474b8b72c86a": {
          "model_module": "@jupyter-widgets/base",
          "model_name": "LayoutModel",
          "model_module_version": "1.2.0",
          "state": {
            "_model_module": "@jupyter-widgets/base",
            "_model_module_version": "1.2.0",
            "_model_name": "LayoutModel",
            "_view_count": null,
            "_view_module": "@jupyter-widgets/base",
            "_view_module_version": "1.2.0",
            "_view_name": "LayoutView",
            "align_content": null,
            "align_items": null,
            "align_self": null,
            "border": null,
            "bottom": null,
            "display": null,
            "flex": null,
            "flex_flow": null,
            "grid_area": null,
            "grid_auto_columns": null,
            "grid_auto_flow": null,
            "grid_auto_rows": null,
            "grid_column": null,
            "grid_gap": null,
            "grid_row": null,
            "grid_template_areas": null,
            "grid_template_columns": null,
            "grid_template_rows": null,
            "height": null,
            "justify_content": null,
            "justify_items": null,
            "left": null,
            "margin": null,
            "max_height": null,
            "max_width": null,
            "min_height": null,
            "min_width": null,
            "object_fit": null,
            "object_position": null,
            "order": null,
            "overflow": null,
            "overflow_x": null,
            "overflow_y": null,
            "padding": null,
            "right": null,
            "top": null,
            "visibility": null,
            "width": null
          }
        },
        "7b881ef7359f499a9d4e1020012228bd": {
          "model_module": "@jupyter-widgets/controls",
          "model_name": "DescriptionStyleModel",
          "model_module_version": "1.5.0",
          "state": {
            "_model_module": "@jupyter-widgets/controls",
            "_model_module_version": "1.5.0",
            "_model_name": "DescriptionStyleModel",
            "_view_count": null,
            "_view_module": "@jupyter-widgets/base",
            "_view_module_version": "1.2.0",
            "_view_name": "StyleView",
            "description_width": ""
          }
        },
        "37fc5a14b4574574a500188fd5c7b682": {
          "model_module": "@jupyter-widgets/base",
          "model_name": "LayoutModel",
          "model_module_version": "1.2.0",
          "state": {
            "_model_module": "@jupyter-widgets/base",
            "_model_module_version": "1.2.0",
            "_model_name": "LayoutModel",
            "_view_count": null,
            "_view_module": "@jupyter-widgets/base",
            "_view_module_version": "1.2.0",
            "_view_name": "LayoutView",
            "align_content": null,
            "align_items": null,
            "align_self": null,
            "border": null,
            "bottom": null,
            "display": null,
            "flex": null,
            "flex_flow": null,
            "grid_area": null,
            "grid_auto_columns": null,
            "grid_auto_flow": null,
            "grid_auto_rows": null,
            "grid_column": null,
            "grid_gap": null,
            "grid_row": null,
            "grid_template_areas": null,
            "grid_template_columns": null,
            "grid_template_rows": null,
            "height": null,
            "justify_content": null,
            "justify_items": null,
            "left": null,
            "margin": null,
            "max_height": null,
            "max_width": null,
            "min_height": null,
            "min_width": null,
            "object_fit": null,
            "object_position": null,
            "order": null,
            "overflow": null,
            "overflow_x": null,
            "overflow_y": null,
            "padding": null,
            "right": null,
            "top": null,
            "visibility": null,
            "width": null
          }
        },
        "83e4d0f81c4f450cb2108ebd135502e6": {
          "model_module": "@jupyter-widgets/controls",
          "model_name": "ProgressStyleModel",
          "model_module_version": "1.5.0",
          "state": {
            "_model_module": "@jupyter-widgets/controls",
            "_model_module_version": "1.5.0",
            "_model_name": "ProgressStyleModel",
            "_view_count": null,
            "_view_module": "@jupyter-widgets/base",
            "_view_module_version": "1.2.0",
            "_view_name": "StyleView",
            "bar_color": null,
            "description_width": ""
          }
        },
        "cb6889bd0e684db3b01ce5771151b47d": {
          "model_module": "@jupyter-widgets/base",
          "model_name": "LayoutModel",
          "model_module_version": "1.2.0",
          "state": {
            "_model_module": "@jupyter-widgets/base",
            "_model_module_version": "1.2.0",
            "_model_name": "LayoutModel",
            "_view_count": null,
            "_view_module": "@jupyter-widgets/base",
            "_view_module_version": "1.2.0",
            "_view_name": "LayoutView",
            "align_content": null,
            "align_items": null,
            "align_self": null,
            "border": null,
            "bottom": null,
            "display": null,
            "flex": null,
            "flex_flow": null,
            "grid_area": null,
            "grid_auto_columns": null,
            "grid_auto_flow": null,
            "grid_auto_rows": null,
            "grid_column": null,
            "grid_gap": null,
            "grid_row": null,
            "grid_template_areas": null,
            "grid_template_columns": null,
            "grid_template_rows": null,
            "height": null,
            "justify_content": null,
            "justify_items": null,
            "left": null,
            "margin": null,
            "max_height": null,
            "max_width": null,
            "min_height": null,
            "min_width": null,
            "object_fit": null,
            "object_position": null,
            "order": null,
            "overflow": null,
            "overflow_x": null,
            "overflow_y": null,
            "padding": null,
            "right": null,
            "top": null,
            "visibility": null,
            "width": null
          }
        },
        "9575ca427af249578ef71ce379456120": {
          "model_module": "@jupyter-widgets/controls",
          "model_name": "DescriptionStyleModel",
          "model_module_version": "1.5.0",
          "state": {
            "_model_module": "@jupyter-widgets/controls",
            "_model_module_version": "1.5.0",
            "_model_name": "DescriptionStyleModel",
            "_view_count": null,
            "_view_module": "@jupyter-widgets/base",
            "_view_module_version": "1.2.0",
            "_view_name": "StyleView",
            "description_width": ""
          }
        },
        "0950d0eb8e72459fb1719ff9fa4b0a7a": {
          "model_module": "@jupyter-widgets/controls",
          "model_name": "HBoxModel",
          "model_module_version": "1.5.0",
          "state": {
            "_dom_classes": [],
            "_model_module": "@jupyter-widgets/controls",
            "_model_module_version": "1.5.0",
            "_model_name": "HBoxModel",
            "_view_count": null,
            "_view_module": "@jupyter-widgets/controls",
            "_view_module_version": "1.5.0",
            "_view_name": "HBoxView",
            "box_style": "",
            "children": [
              "IPY_MODEL_ccca70bd05174cd085d924aa161e64d7",
              "IPY_MODEL_e62d2d2617ca49b3a7592fa5495e0119",
              "IPY_MODEL_f6109a801d3d409eb8f5fe3f09d52dfe"
            ],
            "layout": "IPY_MODEL_4d2418a488fa41acaa94ce7d222b558a"
          }
        },
        "ccca70bd05174cd085d924aa161e64d7": {
          "model_module": "@jupyter-widgets/controls",
          "model_name": "HTMLModel",
          "model_module_version": "1.5.0",
          "state": {
            "_dom_classes": [],
            "_model_module": "@jupyter-widgets/controls",
            "_model_module_version": "1.5.0",
            "_model_name": "HTMLModel",
            "_view_count": null,
            "_view_module": "@jupyter-widgets/controls",
            "_view_module_version": "1.5.0",
            "_view_name": "HTMLView",
            "description": "",
            "description_tooltip": null,
            "layout": "IPY_MODEL_5a1d2ebdca36449982345105173c944c",
            "placeholder": "​",
            "style": "IPY_MODEL_c51227bc02394c679a068cf919d64f7f",
            "value": "Downloading pytorch_model.bin: 100%"
          }
        },
        "e62d2d2617ca49b3a7592fa5495e0119": {
          "model_module": "@jupyter-widgets/controls",
          "model_name": "FloatProgressModel",
          "model_module_version": "1.5.0",
          "state": {
            "_dom_classes": [],
            "_model_module": "@jupyter-widgets/controls",
            "_model_module_version": "1.5.0",
            "_model_name": "FloatProgressModel",
            "_view_count": null,
            "_view_module": "@jupyter-widgets/controls",
            "_view_module_version": "1.5.0",
            "_view_name": "ProgressView",
            "bar_style": "success",
            "description": "",
            "description_tooltip": null,
            "layout": "IPY_MODEL_b9917dd6859d4b78bf8f8bfe6168125e",
            "max": 440473133,
            "min": 0,
            "orientation": "horizontal",
            "style": "IPY_MODEL_28d0b5ac4a0c4f7b9776d019021a90d6",
            "value": 440473133
          }
        },
        "f6109a801d3d409eb8f5fe3f09d52dfe": {
          "model_module": "@jupyter-widgets/controls",
          "model_name": "HTMLModel",
          "model_module_version": "1.5.0",
          "state": {
            "_dom_classes": [],
            "_model_module": "@jupyter-widgets/controls",
            "_model_module_version": "1.5.0",
            "_model_name": "HTMLModel",
            "_view_count": null,
            "_view_module": "@jupyter-widgets/controls",
            "_view_module_version": "1.5.0",
            "_view_name": "HTMLView",
            "description": "",
            "description_tooltip": null,
            "layout": "IPY_MODEL_3a93e3872d8c4d50bd1bbe498ead890e",
            "placeholder": "​",
            "style": "IPY_MODEL_a2e354d186eb4e50aaa386da65dd71e3",
            "value": " 440M/440M [00:01&lt;00:00, 444MB/s]"
          }
        },
        "4d2418a488fa41acaa94ce7d222b558a": {
          "model_module": "@jupyter-widgets/base",
          "model_name": "LayoutModel",
          "model_module_version": "1.2.0",
          "state": {
            "_model_module": "@jupyter-widgets/base",
            "_model_module_version": "1.2.0",
            "_model_name": "LayoutModel",
            "_view_count": null,
            "_view_module": "@jupyter-widgets/base",
            "_view_module_version": "1.2.0",
            "_view_name": "LayoutView",
            "align_content": null,
            "align_items": null,
            "align_self": null,
            "border": null,
            "bottom": null,
            "display": null,
            "flex": null,
            "flex_flow": null,
            "grid_area": null,
            "grid_auto_columns": null,
            "grid_auto_flow": null,
            "grid_auto_rows": null,
            "grid_column": null,
            "grid_gap": null,
            "grid_row": null,
            "grid_template_areas": null,
            "grid_template_columns": null,
            "grid_template_rows": null,
            "height": null,
            "justify_content": null,
            "justify_items": null,
            "left": null,
            "margin": null,
            "max_height": null,
            "max_width": null,
            "min_height": null,
            "min_width": null,
            "object_fit": null,
            "object_position": null,
            "order": null,
            "overflow": null,
            "overflow_x": null,
            "overflow_y": null,
            "padding": null,
            "right": null,
            "top": null,
            "visibility": null,
            "width": null
          }
        },
        "5a1d2ebdca36449982345105173c944c": {
          "model_module": "@jupyter-widgets/base",
          "model_name": "LayoutModel",
          "model_module_version": "1.2.0",
          "state": {
            "_model_module": "@jupyter-widgets/base",
            "_model_module_version": "1.2.0",
            "_model_name": "LayoutModel",
            "_view_count": null,
            "_view_module": "@jupyter-widgets/base",
            "_view_module_version": "1.2.0",
            "_view_name": "LayoutView",
            "align_content": null,
            "align_items": null,
            "align_self": null,
            "border": null,
            "bottom": null,
            "display": null,
            "flex": null,
            "flex_flow": null,
            "grid_area": null,
            "grid_auto_columns": null,
            "grid_auto_flow": null,
            "grid_auto_rows": null,
            "grid_column": null,
            "grid_gap": null,
            "grid_row": null,
            "grid_template_areas": null,
            "grid_template_columns": null,
            "grid_template_rows": null,
            "height": null,
            "justify_content": null,
            "justify_items": null,
            "left": null,
            "margin": null,
            "max_height": null,
            "max_width": null,
            "min_height": null,
            "min_width": null,
            "object_fit": null,
            "object_position": null,
            "order": null,
            "overflow": null,
            "overflow_x": null,
            "overflow_y": null,
            "padding": null,
            "right": null,
            "top": null,
            "visibility": null,
            "width": null
          }
        },
        "c51227bc02394c679a068cf919d64f7f": {
          "model_module": "@jupyter-widgets/controls",
          "model_name": "DescriptionStyleModel",
          "model_module_version": "1.5.0",
          "state": {
            "_model_module": "@jupyter-widgets/controls",
            "_model_module_version": "1.5.0",
            "_model_name": "DescriptionStyleModel",
            "_view_count": null,
            "_view_module": "@jupyter-widgets/base",
            "_view_module_version": "1.2.0",
            "_view_name": "StyleView",
            "description_width": ""
          }
        },
        "b9917dd6859d4b78bf8f8bfe6168125e": {
          "model_module": "@jupyter-widgets/base",
          "model_name": "LayoutModel",
          "model_module_version": "1.2.0",
          "state": {
            "_model_module": "@jupyter-widgets/base",
            "_model_module_version": "1.2.0",
            "_model_name": "LayoutModel",
            "_view_count": null,
            "_view_module": "@jupyter-widgets/base",
            "_view_module_version": "1.2.0",
            "_view_name": "LayoutView",
            "align_content": null,
            "align_items": null,
            "align_self": null,
            "border": null,
            "bottom": null,
            "display": null,
            "flex": null,
            "flex_flow": null,
            "grid_area": null,
            "grid_auto_columns": null,
            "grid_auto_flow": null,
            "grid_auto_rows": null,
            "grid_column": null,
            "grid_gap": null,
            "grid_row": null,
            "grid_template_areas": null,
            "grid_template_columns": null,
            "grid_template_rows": null,
            "height": null,
            "justify_content": null,
            "justify_items": null,
            "left": null,
            "margin": null,
            "max_height": null,
            "max_width": null,
            "min_height": null,
            "min_width": null,
            "object_fit": null,
            "object_position": null,
            "order": null,
            "overflow": null,
            "overflow_x": null,
            "overflow_y": null,
            "padding": null,
            "right": null,
            "top": null,
            "visibility": null,
            "width": null
          }
        },
        "28d0b5ac4a0c4f7b9776d019021a90d6": {
          "model_module": "@jupyter-widgets/controls",
          "model_name": "ProgressStyleModel",
          "model_module_version": "1.5.0",
          "state": {
            "_model_module": "@jupyter-widgets/controls",
            "_model_module_version": "1.5.0",
            "_model_name": "ProgressStyleModel",
            "_view_count": null,
            "_view_module": "@jupyter-widgets/base",
            "_view_module_version": "1.2.0",
            "_view_name": "StyleView",
            "bar_color": null,
            "description_width": ""
          }
        },
        "3a93e3872d8c4d50bd1bbe498ead890e": {
          "model_module": "@jupyter-widgets/base",
          "model_name": "LayoutModel",
          "model_module_version": "1.2.0",
          "state": {
            "_model_module": "@jupyter-widgets/base",
            "_model_module_version": "1.2.0",
            "_model_name": "LayoutModel",
            "_view_count": null,
            "_view_module": "@jupyter-widgets/base",
            "_view_module_version": "1.2.0",
            "_view_name": "LayoutView",
            "align_content": null,
            "align_items": null,
            "align_self": null,
            "border": null,
            "bottom": null,
            "display": null,
            "flex": null,
            "flex_flow": null,
            "grid_area": null,
            "grid_auto_columns": null,
            "grid_auto_flow": null,
            "grid_auto_rows": null,
            "grid_column": null,
            "grid_gap": null,
            "grid_row": null,
            "grid_template_areas": null,
            "grid_template_columns": null,
            "grid_template_rows": null,
            "height": null,
            "justify_content": null,
            "justify_items": null,
            "left": null,
            "margin": null,
            "max_height": null,
            "max_width": null,
            "min_height": null,
            "min_width": null,
            "object_fit": null,
            "object_position": null,
            "order": null,
            "overflow": null,
            "overflow_x": null,
            "overflow_y": null,
            "padding": null,
            "right": null,
            "top": null,
            "visibility": null,
            "width": null
          }
        },
        "a2e354d186eb4e50aaa386da65dd71e3": {
          "model_module": "@jupyter-widgets/controls",
          "model_name": "DescriptionStyleModel",
          "model_module_version": "1.5.0",
          "state": {
            "_model_module": "@jupyter-widgets/controls",
            "_model_module_version": "1.5.0",
            "_model_name": "DescriptionStyleModel",
            "_view_count": null,
            "_view_module": "@jupyter-widgets/base",
            "_view_module_version": "1.2.0",
            "_view_name": "StyleView",
            "description_width": ""
          }
        }
      }
    }
  },
  "nbformat": 4,
  "nbformat_minor": 0
}